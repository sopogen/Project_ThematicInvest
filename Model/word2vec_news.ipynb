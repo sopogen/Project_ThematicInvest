{
 "cells": [
  {
   "cell_type": "code",
   "execution_count": 2,
   "metadata": {},
   "outputs": [],
   "source": [
    "import pandas as pd\n",
    "from tqdm import tqdm\n",
    "import numpy as np\n",
    "from konlpy.tag import Okt\n",
    "from gensim.models import Word2Vec\n",
    "from scipy.spatial import distance"
   ]
  },
  {
   "cell_type": "markdown",
   "metadata": {},
   "source": [
    "## 전처리"
   ]
  },
  {
   "cell_type": "code",
   "execution_count": 7,
   "metadata": {},
   "outputs": [],
   "source": [
    "raw_df = pd.read_csv('/Users/space/Google Drive/5 Programming/Project_ThematicInvest/Data/data_for_use/20200629_news_data.csv',\n",
    "                     index_col=0, encoding = 'utf-8')\n",
    "raw_df.dropna(inplace=True)"
   ]
  },
  {
   "cell_type": "code",
   "execution_count": 8,
   "metadata": {},
   "outputs": [
    {
     "data": {
      "text/html": [
       "<div>\n",
       "<style scoped>\n",
       "    .dataframe tbody tr th:only-of-type {\n",
       "        vertical-align: middle;\n",
       "    }\n",
       "\n",
       "    .dataframe tbody tr th {\n",
       "        vertical-align: top;\n",
       "    }\n",
       "\n",
       "    .dataframe thead th {\n",
       "        text-align: right;\n",
       "    }\n",
       "</style>\n",
       "<table border=\"1\" class=\"dataframe\">\n",
       "  <thead>\n",
       "    <tr style=\"text-align: right;\">\n",
       "      <th></th>\n",
       "      <th>news</th>\n",
       "    </tr>\n",
       "  </thead>\n",
       "  <tbody>\n",
       "    <tr>\n",
       "      <td>0</td>\n",
       "      <td>통신사 관계 없이 이용 가능 24개월 인수형 장기렌탈 서울 뉴시스 오동현 기자 KT...</td>\n",
       "    </tr>\n",
       "    <tr>\n",
       "      <td>1</td>\n",
       "      <td>20년 된 전자금융거래법 정비돼야 전자금융 모든 거래 총괄하게 되면 내년 비대면 상...</td>\n",
       "    </tr>\n",
       "    <tr>\n",
       "      <td>2</td>\n",
       "      <td>구내식당 모바일스루 서비스…7월 3곳 시범 적용 서울 뉴시스 오동현 기자 모바일 전...</td>\n",
       "    </tr>\n",
       "    <tr>\n",
       "      <td>3</td>\n",
       "      <td>소니가 프리미엄 디지털카메라로 분류한 RX100 제품군은 등장 초기에는 존재감이 분...</td>\n",
       "    </tr>\n",
       "    <tr>\n",
       "      <td>4</td>\n",
       "      <td>법원 행정처분 집행 정지 인용 지디넷코리아 손예술 기자 법원이 하나금융지주 함영주 ...</td>\n",
       "    </tr>\n",
       "    <tr>\n",
       "      <td>...</td>\n",
       "      <td>...</td>\n",
       "    </tr>\n",
       "    <tr>\n",
       "      <td>19938</td>\n",
       "      <td>SNS에 부동산정책 실패 강력 비판 “참모로부터 잘못된 신화 학습 큰일 진보 경제학...</td>\n",
       "    </tr>\n",
       "    <tr>\n",
       "      <td>19939</td>\n",
       "      <td>김선혁 교수 한국정치 혁신 촉구 인류 대 바이러스 절체절명 위기 정파간 갈등·대립 ...</td>\n",
       "    </tr>\n",
       "    <tr>\n",
       "      <td>19940</td>\n",
       "      <td>4·15 총선서 이미 SNS 유세 등장 합당 온라인투표 공천 화상면접도 돈·조직 기...</td>\n",
       "    </tr>\n",
       "    <tr>\n",
       "      <td>19941</td>\n",
       "      <td>여야 합의점 못 찾았지만 29일 오전 10시 다시 회동 법사위 절충안 마련 등 주목...</td>\n",
       "    </tr>\n",
       "    <tr>\n",
       "      <td>19942</td>\n",
       "      <td>전날 협상서 의견 접근…법사위원장 절충 가능성 손잡은 국회의장과 여야 원내대표 서울...</td>\n",
       "    </tr>\n",
       "  </tbody>\n",
       "</table>\n",
       "<p>19943 rows × 1 columns</p>\n",
       "</div>"
      ],
      "text/plain": [
       "                                                    news\n",
       "0      통신사 관계 없이 이용 가능 24개월 인수형 장기렌탈 서울 뉴시스 오동현 기자 KT...\n",
       "1      20년 된 전자금융거래법 정비돼야 전자금융 모든 거래 총괄하게 되면 내년 비대면 상...\n",
       "2      구내식당 모바일스루 서비스…7월 3곳 시범 적용 서울 뉴시스 오동현 기자 모바일 전...\n",
       "3      소니가 프리미엄 디지털카메라로 분류한 RX100 제품군은 등장 초기에는 존재감이 분...\n",
       "4      법원 행정처분 집행 정지 인용 지디넷코리아 손예술 기자 법원이 하나금융지주 함영주 ...\n",
       "...                                                  ...\n",
       "19938  SNS에 부동산정책 실패 강력 비판 “참모로부터 잘못된 신화 학습 큰일 진보 경제학...\n",
       "19939  김선혁 교수 한국정치 혁신 촉구 인류 대 바이러스 절체절명 위기 정파간 갈등·대립 ...\n",
       "19940  4·15 총선서 이미 SNS 유세 등장 합당 온라인투표 공천 화상면접도 돈·조직 기...\n",
       "19941  여야 합의점 못 찾았지만 29일 오전 10시 다시 회동 법사위 절충안 마련 등 주목...\n",
       "19942  전날 협상서 의견 접근…법사위원장 절충 가능성 손잡은 국회의장과 여야 원내대표 서울...\n",
       "\n",
       "[19943 rows x 1 columns]"
      ]
     },
     "execution_count": 8,
     "metadata": {},
     "output_type": "execute_result"
    }
   ],
   "source": [
    "raw_df"
   ]
  },
  {
   "cell_type": "code",
   "execution_count": 10,
   "metadata": {},
   "outputs": [
    {
     "data": {
      "text/html": [
       "<div>\n",
       "<style scoped>\n",
       "    .dataframe tbody tr th:only-of-type {\n",
       "        vertical-align: middle;\n",
       "    }\n",
       "\n",
       "    .dataframe tbody tr th {\n",
       "        vertical-align: top;\n",
       "    }\n",
       "\n",
       "    .dataframe thead th {\n",
       "        text-align: right;\n",
       "    }\n",
       "</style>\n",
       "<table border=\"1\" class=\"dataframe\">\n",
       "  <thead>\n",
       "    <tr style=\"text-align: right;\">\n",
       "      <th></th>\n",
       "      <th>Theme</th>\n",
       "      <th>Article</th>\n",
       "    </tr>\n",
       "  </thead>\n",
       "  <tbody>\n",
       "    <tr>\n",
       "      <th>0</th>\n",
       "      <td>방탄소년단</td>\n",
       "      <td>더팩트 방탄소년단  티머니카드 단독 판매편의점 가 내달 일부터 전국 점포에서 방탄소...</td>\n",
       "    </tr>\n",
       "    <tr>\n",
       "      <th>1</th>\n",
       "      <td>방탄소년단</td>\n",
       "      <td>뉴스 방탄소년단 티머니카드 출시만장 한정 판매정규 집 콘셉트 앨범으로 디자인내달 일...</td>\n",
       "    </tr>\n",
       "    <tr>\n",
       "      <th>2</th>\n",
       "      <td>방탄소년단</td>\n",
       "      <td>방탄소년단  티머니카드 단독 판매글로벌 슈퍼스타 방탄소년단이 올해도 티머니에 쏙...</td>\n",
       "    </tr>\n",
       "    <tr>\n",
       "      <th>3</th>\n",
       "      <td>방탄소년단</td>\n",
       "      <td>조선비즈칠성사이다에 방탄소년단이 복숭아청귤  스페셜 에디션롯데칠성음료는 방탄소년단 ...</td>\n",
       "    </tr>\n",
       "    <tr>\n",
       "      <th>4</th>\n",
       "      <td>방탄소년단</td>\n",
       "      <td>뉴시스방탄소년단 담았다칠성사이다  에디션 출시서울뉴시스 최지윤 기자  롯데칠성음료는...</td>\n",
       "    </tr>\n",
       "  </tbody>\n",
       "</table>\n",
       "</div>"
      ],
      "text/plain": [
       "   Theme                                            Article\n",
       "0  방탄소년단  더팩트 방탄소년단  티머니카드 단독 판매편의점 가 내달 일부터 전국 점포에서 방탄소...\n",
       "1  방탄소년단  뉴스 방탄소년단 티머니카드 출시만장 한정 판매정규 집 콘셉트 앨범으로 디자인내달 일...\n",
       "2  방탄소년단    방탄소년단  티머니카드 단독 판매글로벌 슈퍼스타 방탄소년단이 올해도 티머니에 쏙...\n",
       "3  방탄소년단  조선비즈칠성사이다에 방탄소년단이 복숭아청귤  스페셜 에디션롯데칠성음료는 방탄소년단 ...\n",
       "4  방탄소년단  뉴시스방탄소년단 담았다칠성사이다  에디션 출시서울뉴시스 최지윤 기자  롯데칠성음료는..."
      ]
     },
     "execution_count": 10,
     "metadata": {},
     "output_type": "execute_result"
    }
   ],
   "source": [
    "raw_df = raw_df[['Theme','Article']]\n",
    "raw_df['Article'] = raw_df['Article'].str.replace(\"[^ㄱ-ㅎㅏ-ㅣ가-힣 ]\",\"\")\n",
    "raw_df.head()"
   ]
  },
  {
   "cell_type": "code",
   "execution_count": 6,
   "metadata": {},
   "outputs": [
    {
     "name": "stderr",
     "output_type": "stream",
     "text": [
      "100%|██████████| 28200/28200 [01:30<00:00, 313.06it/s]\n"
     ]
    }
   ],
   "source": [
    "# tokenize data\n",
    "\n",
    "tokenizer = Mecab()\n",
    "\n",
    "raw_tokenized_data = []\n",
    "for content in tqdm(raw_df['Article']):\n",
    "    token = tokenizer.morphs(content)\n",
    "    stop_words = ['으로', '로도', '지만', '에서', '려는', '하다']\n",
    "    for word in token:\n",
    "        if len(word) == 1:\n",
    "            stop_words.append(word)\n",
    "    final_tokens = [word for word in token if word not in stop_words]\n",
    "    raw_tokenized_data.append(final_tokens)"
   ]
  },
  {
   "cell_type": "code",
   "execution_count": 25,
   "metadata": {},
   "outputs": [],
   "source": [
    "# make train_data\n",
    "\n",
    "train_data = raw_df.copy()\n",
    "train_data['tokens'] = pd.Series(raw_tokenized_data)"
   ]
  },
  {
   "cell_type": "code",
   "execution_count": 9,
   "metadata": {},
   "outputs": [
    {
     "data": {
      "text/html": [
       "<div>\n",
       "<style scoped>\n",
       "    .dataframe tbody tr th:only-of-type {\n",
       "        vertical-align: middle;\n",
       "    }\n",
       "\n",
       "    .dataframe tbody tr th {\n",
       "        vertical-align: top;\n",
       "    }\n",
       "\n",
       "    .dataframe thead th {\n",
       "        text-align: right;\n",
       "    }\n",
       "</style>\n",
       "<table border=\"1\" class=\"dataframe\">\n",
       "  <thead>\n",
       "    <tr style=\"text-align: right;\">\n",
       "      <th></th>\n",
       "      <th>Theme</th>\n",
       "      <th>Article</th>\n",
       "      <th>tokens</th>\n",
       "    </tr>\n",
       "  </thead>\n",
       "  <tbody>\n",
       "    <tr>\n",
       "      <th>0</th>\n",
       "      <td>방탄소년단</td>\n",
       "      <td>더팩트 방탄소년단  티머니카드 단독 판매편의점 가 내달 일부터 전국 점포에서 방탄소...</td>\n",
       "      <td>[방탄소년단, 티머니, 카드, 단독, 판매, 편의점, 내달, 부터, 전국, 점포, ...</td>\n",
       "    </tr>\n",
       "    <tr>\n",
       "      <th>1</th>\n",
       "      <td>방탄소년단</td>\n",
       "      <td>뉴스 방탄소년단 티머니카드 출시만장 한정 판매정규 집 콘셉트 앨범으로 디자인내달 일...</td>\n",
       "      <td>[뉴스, 방탄소년단, 티머니, 카드, 출시, 한정, 판매, 정규, 콘셉트, 앨범, ...</td>\n",
       "    </tr>\n",
       "    <tr>\n",
       "      <th>2</th>\n",
       "      <td>방탄소년단</td>\n",
       "      <td>방탄소년단  티머니카드 단독 판매글로벌 슈퍼스타 방탄소년단이 올해도 티머니에 쏙...</td>\n",
       "      <td>[방탄소년단, 티머니, 카드, 단독, 판매, 글로벌, 슈퍼스타, 방탄소년단, 올해,...</td>\n",
       "    </tr>\n",
       "    <tr>\n",
       "      <th>3</th>\n",
       "      <td>방탄소년단</td>\n",
       "      <td>조선비즈칠성사이다에 방탄소년단이 복숭아청귤  스페셜 에디션롯데칠성음료는 방탄소년단 ...</td>\n",
       "      <td>[조선, 비즈, 칠성, 사이다, 방탄소년단, 복숭아, 청귤, 스페셜, 에디션, 롯데...</td>\n",
       "    </tr>\n",
       "    <tr>\n",
       "      <th>4</th>\n",
       "      <td>방탄소년단</td>\n",
       "      <td>뉴시스방탄소년단 담았다칠성사이다  에디션 출시서울뉴시스 최지윤 기자  롯데칠성음료는...</td>\n",
       "      <td>[뉴시스, 방탄소년단, 칠성사, 에디션, 출시, 서울, 뉴시스, 최지윤, 기자, 롯...</td>\n",
       "    </tr>\n",
       "  </tbody>\n",
       "</table>\n",
       "</div>"
      ],
      "text/plain": [
       "   Theme                                            Article  \\\n",
       "0  방탄소년단  더팩트 방탄소년단  티머니카드 단독 판매편의점 가 내달 일부터 전국 점포에서 방탄소...   \n",
       "1  방탄소년단  뉴스 방탄소년단 티머니카드 출시만장 한정 판매정규 집 콘셉트 앨범으로 디자인내달 일...   \n",
       "2  방탄소년단    방탄소년단  티머니카드 단독 판매글로벌 슈퍼스타 방탄소년단이 올해도 티머니에 쏙...   \n",
       "3  방탄소년단  조선비즈칠성사이다에 방탄소년단이 복숭아청귤  스페셜 에디션롯데칠성음료는 방탄소년단 ...   \n",
       "4  방탄소년단  뉴시스방탄소년단 담았다칠성사이다  에디션 출시서울뉴시스 최지윤 기자  롯데칠성음료는...   \n",
       "\n",
       "                                              tokens  \n",
       "0  [방탄소년단, 티머니, 카드, 단독, 판매, 편의점, 내달, 부터, 전국, 점포, ...  \n",
       "1  [뉴스, 방탄소년단, 티머니, 카드, 출시, 한정, 판매, 정규, 콘셉트, 앨범, ...  \n",
       "2  [방탄소년단, 티머니, 카드, 단독, 판매, 글로벌, 슈퍼스타, 방탄소년단, 올해,...  \n",
       "3  [조선, 비즈, 칠성, 사이다, 방탄소년단, 복숭아, 청귤, 스페셜, 에디션, 롯데...  \n",
       "4  [뉴시스, 방탄소년단, 칠성사, 에디션, 출시, 서울, 뉴시스, 최지윤, 기자, 롯...  "
      ]
     },
     "execution_count": 9,
     "metadata": {},
     "output_type": "execute_result"
    }
   ],
   "source": [
    "train_data.head()"
   ]
  },
  {
   "cell_type": "markdown",
   "metadata": {},
   "source": [
    "## Model Train"
   ]
  },
  {
   "cell_type": "code",
   "execution_count": 11,
   "metadata": {},
   "outputs": [],
   "source": [
    "news_tokens = train_data['tokens'].tolist()  # data input as list\n",
    "\n",
    "# params\n",
    "v_dimension = 300\n",
    "v_window = 8\n",
    "\n",
    "model = Word2Vec(sentences = news_tokens, size = v_dimension, window = v_window, min_count = 5, workers = 4, sg = 0)"
   ]
  },
  {
   "cell_type": "code",
   "execution_count": 12,
   "metadata": {},
   "outputs": [
    {
     "data": {
      "text/plain": [
       "(38552, 300)"
      ]
     },
     "execution_count": 12,
     "metadata": {},
     "output_type": "execute_result"
    }
   ],
   "source": [
    "model.wv.vectors.shape"
   ]
  },
  {
   "cell_type": "code",
   "execution_count": 13,
   "metadata": {},
   "outputs": [
    {
     "name": "stdout",
     "output_type": "stream",
     "text": [
      "[('아이패드', 0.7444136142730713), ('애플', 0.7387940883636475), ('어댑터', 0.619560182094574), ('안드로이드', 0.6110464930534363), ('스냅드래곤', 0.5927270650863647), ('서피스', 0.5812198519706726), ('스크린', 0.574851930141449), ('라이트닝', 0.5703201293945312), ('맥북', 0.5664032101631165), ('블랙베리', 0.5628055334091187)]\n"
     ]
    }
   ],
   "source": [
    "print(model.wv.most_similar(\"아이폰\"))"
   ]
  },
  {
   "cell_type": "code",
   "execution_count": 14,
   "metadata": {},
   "outputs": [],
   "source": [
    "# sentence vectors without normalization\n",
    "\n",
    "def without_normal(tokens):\n",
    "    vectors = []\n",
    "    for token in tokens:\n",
    "        init_v = np.array([0.0]*v_dimension)\n",
    "        for word in token:\n",
    "            word_vectors = model.wv\n",
    "            if word in word_vectors.vocab:\n",
    "                v = model.wv[word]\n",
    "                init_v = init_v + v\n",
    "        vectors.append(init_v)\n",
    "    \n",
    "    frame = { 'themes': train_data['Theme'].tolist(), 'vectors': vectors }\n",
    "    result = pd.DataFrame(frame) \n",
    "    \n",
    "    return result"
   ]
  },
  {
   "cell_type": "code",
   "execution_count": 15,
   "metadata": {},
   "outputs": [],
   "source": [
    "# theme vectors without normalization\n",
    "\n",
    "def theme_without_normal(news_df):\n",
    "    theme_list = []\n",
    "    vector_list = []\n",
    "    for theme in news_df['themes'].unique():\n",
    "        temp_df = news_df.loc[news_df['themes'] == theme]\n",
    "        add_v = np.array([0.0]*v_dimension)\n",
    "        for vec in temp_df['vectors']:\n",
    "            add_v  = add_v + vec\n",
    "        theme_list.append(theme)\n",
    "        vector_list.append(add_v)\n",
    "        \n",
    "    frame = { 'themes': theme_list, 'vectors': vector_list }\n",
    "    result = pd.DataFrame(frame)\n",
    "    \n",
    "    return result"
   ]
  },
  {
   "cell_type": "code",
   "execution_count": 16,
   "metadata": {},
   "outputs": [],
   "source": [
    "news_vectors_df = without_normal(train_data['tokens'])"
   ]
  },
  {
   "cell_type": "code",
   "execution_count": 17,
   "metadata": {},
   "outputs": [
    {
     "data": {
      "text/html": [
       "<div>\n",
       "<style scoped>\n",
       "    .dataframe tbody tr th:only-of-type {\n",
       "        vertical-align: middle;\n",
       "    }\n",
       "\n",
       "    .dataframe tbody tr th {\n",
       "        vertical-align: top;\n",
       "    }\n",
       "\n",
       "    .dataframe thead th {\n",
       "        text-align: right;\n",
       "    }\n",
       "</style>\n",
       "<table border=\"1\" class=\"dataframe\">\n",
       "  <thead>\n",
       "    <tr style=\"text-align: right;\">\n",
       "      <th></th>\n",
       "      <th>themes</th>\n",
       "      <th>vectors</th>\n",
       "    </tr>\n",
       "  </thead>\n",
       "  <tbody>\n",
       "    <tr>\n",
       "      <th>0</th>\n",
       "      <td>방탄소년단</td>\n",
       "      <td>[81.83884788467549, 14.1695456225425, -44.6049...</td>\n",
       "    </tr>\n",
       "    <tr>\n",
       "      <th>1</th>\n",
       "      <td>방탄소년단</td>\n",
       "      <td>[79.30194197152741, 39.09123660530895, -40.572...</td>\n",
       "    </tr>\n",
       "    <tr>\n",
       "      <th>2</th>\n",
       "      <td>방탄소년단</td>\n",
       "      <td>[81.88316881936044, 27.98129623476416, -54.289...</td>\n",
       "    </tr>\n",
       "    <tr>\n",
       "      <th>3</th>\n",
       "      <td>방탄소년단</td>\n",
       "      <td>[67.23731970321387, 8.51590171258431, -27.9272...</td>\n",
       "    </tr>\n",
       "    <tr>\n",
       "      <th>4</th>\n",
       "      <td>방탄소년단</td>\n",
       "      <td>[45.1811446743086, 5.173289151745848, -5.27254...</td>\n",
       "    </tr>\n",
       "  </tbody>\n",
       "</table>\n",
       "</div>"
      ],
      "text/plain": [
       "  themes                                            vectors\n",
       "0  방탄소년단  [81.83884788467549, 14.1695456225425, -44.6049...\n",
       "1  방탄소년단  [79.30194197152741, 39.09123660530895, -40.572...\n",
       "2  방탄소년단  [81.88316881936044, 27.98129623476416, -54.289...\n",
       "3  방탄소년단  [67.23731970321387, 8.51590171258431, -27.9272...\n",
       "4  방탄소년단  [45.1811446743086, 5.173289151745848, -5.27254..."
      ]
     },
     "execution_count": 17,
     "metadata": {},
     "output_type": "execute_result"
    }
   ],
   "source": [
    "news_vectors_df.head()"
   ]
  },
  {
   "cell_type": "code",
   "execution_count": 18,
   "metadata": {},
   "outputs": [],
   "source": [
    "theme_vectors_df = theme_without_normal(news_vectors_df)"
   ]
  },
  {
   "cell_type": "code",
   "execution_count": 19,
   "metadata": {},
   "outputs": [
    {
     "data": {
      "text/html": [
       "<div>\n",
       "<style scoped>\n",
       "    .dataframe tbody tr th:only-of-type {\n",
       "        vertical-align: middle;\n",
       "    }\n",
       "\n",
       "    .dataframe tbody tr th {\n",
       "        vertical-align: top;\n",
       "    }\n",
       "\n",
       "    .dataframe thead th {\n",
       "        text-align: right;\n",
       "    }\n",
       "</style>\n",
       "<table border=\"1\" class=\"dataframe\">\n",
       "  <thead>\n",
       "    <tr style=\"text-align: right;\">\n",
       "      <th></th>\n",
       "      <th>themes</th>\n",
       "      <th>vectors</th>\n",
       "    </tr>\n",
       "  </thead>\n",
       "  <tbody>\n",
       "    <tr>\n",
       "      <th>0</th>\n",
       "      <td>방탄소년단</td>\n",
       "      <td>[5746.59946695203, -2133.1955969270784, -5507....</td>\n",
       "    </tr>\n",
       "    <tr>\n",
       "      <th>1</th>\n",
       "      <td>5G</td>\n",
       "      <td>[3760.2759751131816, 1089.4813753533235, 15035...</td>\n",
       "    </tr>\n",
       "    <tr>\n",
       "      <th>2</th>\n",
       "      <td>보톡스</td>\n",
       "      <td>[-4661.68236238329, 2435.5982249401786, 6313.9...</td>\n",
       "    </tr>\n",
       "    <tr>\n",
       "      <th>3</th>\n",
       "      <td>마스크</td>\n",
       "      <td>[-2542.781907488039, 4610.864502544882, 4371.8...</td>\n",
       "    </tr>\n",
       "    <tr>\n",
       "      <th>4</th>\n",
       "      <td>원격진료</td>\n",
       "      <td>[-6637.810228657618, 2384.9900262603187, 21742...</td>\n",
       "    </tr>\n",
       "  </tbody>\n",
       "</table>\n",
       "</div>"
      ],
      "text/plain": [
       "  themes                                            vectors\n",
       "0  방탄소년단  [5746.59946695203, -2133.1955969270784, -5507....\n",
       "1     5G  [3760.2759751131816, 1089.4813753533235, 15035...\n",
       "2    보톡스  [-4661.68236238329, 2435.5982249401786, 6313.9...\n",
       "3    마스크  [-2542.781907488039, 4610.864502544882, 4371.8...\n",
       "4   원격진료  [-6637.810228657618, 2384.9900262603187, 21742..."
      ]
     },
     "execution_count": 19,
     "metadata": {},
     "output_type": "execute_result"
    }
   ],
   "source": [
    "theme_vectors_df.head()"
   ]
  },
  {
   "cell_type": "code",
   "execution_count": 26,
   "metadata": {},
   "outputs": [],
   "source": [
    "theme_vectors_df.to_csv('theme_vectors_xnorm')"
   ]
  },
  {
   "cell_type": "markdown",
   "metadata": {},
   "source": [
    "## Test"
   ]
  },
  {
   "cell_type": "code",
   "execution_count": 20,
   "metadata": {},
   "outputs": [],
   "source": [
    "# news vectors without normalization\n",
    "\n",
    "def vectorize_without_normal(news):\n",
    "    news_words = news.replace(\"[^ㄱ-ㅎㅏ-ㅣ가-힣 ]\",\"\")\n",
    "    token = tokenizer.morphs(news)\n",
    "    stop_words = ['으로', '로도', '지만', '에서', '려는', '하다']\n",
    "    for word in token:\n",
    "        if len(word) == 1:\n",
    "            stop_words.append(word)\n",
    "    final_tokens = [word for word in token if word not in stop_words]\n",
    "    init_v = np.array([0.0]*v_dimension)\n",
    "    for word in final_tokens:\n",
    "        word_vectors = model.wv\n",
    "        if word in word_vectors.vocab:\n",
    "            v = model.wv[word]\n",
    "            init_v = init_v + v\n",
    "    return init_v"
   ]
  },
  {
   "cell_type": "code",
   "execution_count": 21,
   "metadata": {},
   "outputs": [],
   "source": [
    "# test\n",
    "\n",
    "def test(news):\n",
    "    news_vec = vectorize_without_normal(news)\n",
    "    result = []\n",
    "    for theme in theme_vectors_df['vectors']:\n",
    "        cosine = 1 - distance.cosine(theme, news_vec)\n",
    "        result.append(cosine)\n",
    "    new_df = pd.DataFrame(data=np.zeros([282,2]), columns=['Theme', 'Result'])\n",
    "    new_df['Theme'] = theme_vectors_df['themes']\n",
    "    new_df['Result'] = result\n",
    "\n",
    "    new_df.sort_values('Result', ascending=False, inplace=True)\n",
    "    return new_df\n",
    "    "
   ]
  },
  {
   "cell_type": "code",
   "execution_count": 22,
   "metadata": {},
   "outputs": [],
   "source": [
    "test_news = \"미국의 최대 새해맞이 행사죠, '뉴 이어스 로킹 이브'에 방탄소년단이 출연해 월드 스타로서의 면모를 과시했습니다. 지난해 빌보드 순위와 월드 투어에서 괄목할 만한 성장을 거둔 방탄소년단, 올해도 한류를 이끌 것으로 기대되고 있습니다. 김혜은 기자입니다. 방탄소년단, BTS는 미국 뉴욕의 심장인 타임스퀘어에서 새해를 맞았습니다. 미국의 최대 새해맞이 행사인 '뉴 이어스 로킹 이브'에 참가한 것입니다. 포스트 말론, 샘 헌트 등 세계적인 가수들과 어깨를 나란히 하며 미국 안방에 스며들었습니다. [리안나 제이콥슨 / BTS 팬 : BTS가 사랑받고 있다는 것, 그들이 놀랍고 재능 있고 매 순간 가치 있다는 것을 알려줘야 합니다.] BTS는 지난해 '빌보드 200' 1위와 아메리칸 뮤직 어워즈 3관왕 등 괄목할 기록을 낳았습니다. 한국 가수 최초로 전 세계 스타디움 투어도 성공적으로 마무리했습니다. 투어의 대미를 장식한 서울 공연에서만 사흘 동안 무려 1조 원에 육박하는 경제 효과를 낳은 것으로 집계됐습니다. 공연으로 18만 명 넘는 외국인이 우리나라를 방문했는데, 평창동계올림픽 당시 외국인 방문객의 67%에 해당하는 수치입니다. BTS의 올해 행보에 더욱 기대가 쏠리는 대목입니다. 지난달 공개한 티저 사진으로 올 초 예정된 새 앨범과 투어에 대한 기대감이 올라갔습니다. [지민 / 방탄소년단 멤버 (지난달 MAMA 시상식) : 여러분들이 기대하시는 것보다 훨씬 더 좋은 앨범으로 저희가 여러분들에게 나타날 수 있을 것 같아요.] BTS 이후 '빌보드200' 1위를 차지한 슈퍼엠, 미국 프로그램에 자주 등장하는 몬스타엑스와 NCT 127 등 K팝의 지형은 갈수록 확대되고 있습니다. [김헌식 / 대중문화평론가 : 음악의 유통구조 자체가 유튜브를 포함한 SNS를 중심으로 확산하고 있기 때문에 여기에서 계속 추이를 따라가는 수준이라면 10년 이상까지도 가능할 수 있다는 거죠.] 새로운 10년이 시작되는 2020년, BTS가 미국 심장부인 뉴욕에서 새해를 시작한 것도, 한류의 새로운 10년에 대한 상징으로도 해석되고 있습니다.\""
   ]
  },
  {
   "cell_type": "code",
   "execution_count": 23,
   "metadata": {},
   "outputs": [],
   "source": [
    "result = test(test_news)"
   ]
  },
  {
   "cell_type": "code",
   "execution_count": 24,
   "metadata": {},
   "outputs": [
    {
     "data": {
      "text/html": [
       "<div>\n",
       "<style scoped>\n",
       "    .dataframe tbody tr th:only-of-type {\n",
       "        vertical-align: middle;\n",
       "    }\n",
       "\n",
       "    .dataframe tbody tr th {\n",
       "        vertical-align: top;\n",
       "    }\n",
       "\n",
       "    .dataframe thead th {\n",
       "        text-align: right;\n",
       "    }\n",
       "</style>\n",
       "<table border=\"1\" class=\"dataframe\">\n",
       "  <thead>\n",
       "    <tr style=\"text-align: right;\">\n",
       "      <th></th>\n",
       "      <th>Theme</th>\n",
       "      <th>Result</th>\n",
       "    </tr>\n",
       "  </thead>\n",
       "  <tbody>\n",
       "    <tr>\n",
       "      <th>7</th>\n",
       "      <td>기생충</td>\n",
       "      <td>0.777822</td>\n",
       "    </tr>\n",
       "    <tr>\n",
       "      <th>83</th>\n",
       "      <td>영화</td>\n",
       "      <td>0.663112</td>\n",
       "    </tr>\n",
       "    <tr>\n",
       "      <th>0</th>\n",
       "      <td>방탄소년단</td>\n",
       "      <td>0.656203</td>\n",
       "    </tr>\n",
       "    <tr>\n",
       "      <th>257</th>\n",
       "      <td>아기상어</td>\n",
       "      <td>0.647218</td>\n",
       "    </tr>\n",
       "    <tr>\n",
       "      <th>118</th>\n",
       "      <td>광고</td>\n",
       "      <td>0.593024</td>\n",
       "    </tr>\n",
       "  </tbody>\n",
       "</table>\n",
       "</div>"
      ],
      "text/plain": [
       "     Theme    Result\n",
       "7      기생충  0.777822\n",
       "83      영화  0.663112\n",
       "0    방탄소년단  0.656203\n",
       "257   아기상어  0.647218\n",
       "118     광고  0.593024"
      ]
     },
     "execution_count": 24,
     "metadata": {},
     "output_type": "execute_result"
    }
   ],
   "source": [
    "result.head()"
   ]
  },
  {
   "cell_type": "code",
   "execution_count": null,
   "metadata": {},
   "outputs": [],
   "source": []
  }
 ],
 "metadata": {
  "kernelspec": {
   "display_name": "Python 3",
   "language": "python",
   "name": "python3"
  },
  "language_info": {
   "codemirror_mode": {
    "name": "ipython",
    "version": 3
   },
   "file_extension": ".py",
   "mimetype": "text/x-python",
   "name": "python",
   "nbconvert_exporter": "python",
   "pygments_lexer": "ipython3",
   "version": "3.7.4"
  }
 },
 "nbformat": 4,
 "nbformat_minor": 4
}
