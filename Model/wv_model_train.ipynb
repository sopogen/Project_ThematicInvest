{
 "cells": [
  {
   "cell_type": "code",
   "execution_count": 1,
   "metadata": {},
   "outputs": [],
   "source": [
    "import pandas as pd\n",
    "from tqdm import tqdm\n",
    "import numpy as np\n",
    "#from konlpy.tag import mecab\n",
    "from gensim.models import Word2Vec\n",
    "from scipy.spatial import distance\n",
    "from gluonnlp.data import SentencepieceTokenizer\n",
    "from kobert.utils import get_tokenizer"
   ]
  },
  {
   "cell_type": "markdown",
   "metadata": {},
   "source": [
    "## Data preprocessing"
   ]
  },
  {
   "cell_type": "code",
   "execution_count": 3,
   "metadata": {},
   "outputs": [],
   "source": [
    "raw_df = pd.read_csv('theme_contents.csv', encoding = 'utf-8', index_col=0)\n",
    "raw_df.dropna(inplace=True)"
   ]
  },
  {
   "cell_type": "code",
   "execution_count": 4,
   "metadata": {},
   "outputs": [
    {
     "data": {
      "text/html": [
       "<div>\n",
       "<style scoped>\n",
       "    .dataframe tbody tr th:only-of-type {\n",
       "        vertical-align: middle;\n",
       "    }\n",
       "\n",
       "    .dataframe tbody tr th {\n",
       "        vertical-align: top;\n",
       "    }\n",
       "\n",
       "    .dataframe thead th {\n",
       "        text-align: right;\n",
       "    }\n",
       "</style>\n",
       "<table border=\"1\" class=\"dataframe\">\n",
       "  <thead>\n",
       "    <tr style=\"text-align: right;\">\n",
       "      <th></th>\n",
       "      <th>theme</th>\n",
       "      <th>contents</th>\n",
       "    </tr>\n",
       "  </thead>\n",
       "  <tbody>\n",
       "    <tr>\n",
       "      <th>0</th>\n",
       "      <td>2차전지</td>\n",
       "      <td>한국무역보험공사(K-SURE)는 27일 이인호 무역보험공사 사장이 신종 코로나바이러...</td>\n",
       "    </tr>\n",
       "    <tr>\n",
       "      <th>1</th>\n",
       "      <td>2차전지</td>\n",
       "      <td>코스피 상장사 이엔플러스가 2차전지 효율을 극대화할 수 있는 '액상 그래핀' 개발...</td>\n",
       "    </tr>\n",
       "    <tr>\n",
       "      <th>2</th>\n",
       "      <td>2차전지</td>\n",
       "      <td>이엔플러스(074610)가 2차전지 효율을 극대화할 수 있는 액상 그래핀을 개발해...</td>\n",
       "    </tr>\n",
       "    <tr>\n",
       "      <th>3</th>\n",
       "      <td>2차전지</td>\n",
       "      <td>[[특징주]]이엔플러스가 세계 최초로 2차전지 효율을 극대화할 수 있는 액상 그래...</td>\n",
       "    </tr>\n",
       "    <tr>\n",
       "      <th>4</th>\n",
       "      <td>2차전지</td>\n",
       "      <td>2차전지 성장세로 관련 기업들이 함박웃음을 짓고 있다. 국내 배터리 3사의 연이은...</td>\n",
       "    </tr>\n",
       "  </tbody>\n",
       "</table>\n",
       "</div>"
      ],
      "text/plain": [
       "  theme                                           contents\n",
       "0  2차전지  한국무역보험공사(K-SURE)는 27일 이인호 무역보험공사 사장이 신종 코로나바이러...\n",
       "1  2차전지   코스피 상장사 이엔플러스가 2차전지 효율을 극대화할 수 있는 '액상 그래핀' 개발...\n",
       "2  2차전지   이엔플러스(074610)가 2차전지 효율을 극대화할 수 있는 액상 그래핀을 개발해...\n",
       "3  2차전지   [[특징주]]이엔플러스가 세계 최초로 2차전지 효율을 극대화할 수 있는 액상 그래...\n",
       "4  2차전지   2차전지 성장세로 관련 기업들이 함박웃음을 짓고 있다. 국내 배터리 3사의 연이은..."
      ]
     },
     "execution_count": 4,
     "metadata": {},
     "output_type": "execute_result"
    }
   ],
   "source": [
    "raw_df.head()"
   ]
  },
  {
   "cell_type": "code",
   "execution_count": 5,
   "metadata": {},
   "outputs": [
    {
     "data": {
      "text/html": [
       "<div>\n",
       "<style scoped>\n",
       "    .dataframe tbody tr th:only-of-type {\n",
       "        vertical-align: middle;\n",
       "    }\n",
       "\n",
       "    .dataframe tbody tr th {\n",
       "        vertical-align: top;\n",
       "    }\n",
       "\n",
       "    .dataframe thead th {\n",
       "        text-align: right;\n",
       "    }\n",
       "</style>\n",
       "<table border=\"1\" class=\"dataframe\">\n",
       "  <thead>\n",
       "    <tr style=\"text-align: right;\">\n",
       "      <th></th>\n",
       "      <th>theme</th>\n",
       "      <th>contents</th>\n",
       "    </tr>\n",
       "  </thead>\n",
       "  <tbody>\n",
       "    <tr>\n",
       "      <th>0</th>\n",
       "      <td>2차전지</td>\n",
       "      <td>한국무역보험공사는 일 이인호 무역보험공사 사장이 신종 코로나바이러스 감염증코로나 사...</td>\n",
       "    </tr>\n",
       "    <tr>\n",
       "      <th>1</th>\n",
       "      <td>2차전지</td>\n",
       "      <td>코스피 상장사 이엔플러스가 차전지 효율을 극대화할 수 있는 액상 그래핀 개발에 성...</td>\n",
       "    </tr>\n",
       "    <tr>\n",
       "      <th>2</th>\n",
       "      <td>2차전지</td>\n",
       "      <td>이엔플러스가 차전지 효율을 극대화할 수 있는 액상 그래핀을 개발해 오는 월부터 본...</td>\n",
       "    </tr>\n",
       "    <tr>\n",
       "      <th>3</th>\n",
       "      <td>2차전지</td>\n",
       "      <td>특징주이엔플러스가 세계 최초로 차전지 효율을 극대화할 수 있는 액상 그래핀을 개발...</td>\n",
       "    </tr>\n",
       "    <tr>\n",
       "      <th>4</th>\n",
       "      <td>2차전지</td>\n",
       "      <td>차전지 성장세로 관련 기업들이 함박웃음을 짓고 있다 국내 배터리 사의 연이은 증설...</td>\n",
       "    </tr>\n",
       "  </tbody>\n",
       "</table>\n",
       "</div>"
      ],
      "text/plain": [
       "  theme                                           contents\n",
       "0  2차전지  한국무역보험공사는 일 이인호 무역보험공사 사장이 신종 코로나바이러스 감염증코로나 사...\n",
       "1  2차전지   코스피 상장사 이엔플러스가 차전지 효율을 극대화할 수 있는 액상 그래핀 개발에 성...\n",
       "2  2차전지   이엔플러스가 차전지 효율을 극대화할 수 있는 액상 그래핀을 개발해 오는 월부터 본...\n",
       "3  2차전지   특징주이엔플러스가 세계 최초로 차전지 효율을 극대화할 수 있는 액상 그래핀을 개발...\n",
       "4  2차전지   차전지 성장세로 관련 기업들이 함박웃음을 짓고 있다 국내 배터리 사의 연이은 증설..."
      ]
     },
     "execution_count": 5,
     "metadata": {},
     "output_type": "execute_result"
    }
   ],
   "source": [
    "# only leave korean chars\n",
    "\n",
    "raw_df = raw_df[['theme', 'contents']]\n",
    "raw_df['contents'] = raw_df['contents'].str.replace(\"[^ㄱ-ㅎㅏ-ㅣ가-힣 ]\",\"\")\n",
    "raw_df.head()"
   ]
  },
  {
   "cell_type": "code",
   "execution_count": 8,
   "metadata": {},
   "outputs": [
    {
     "name": "stdout",
     "output_type": "stream",
     "text": [
      "using cached model\n"
     ]
    },
    {
     "name": "stderr",
     "output_type": "stream",
     "text": [
      "100%|██████████| 26700/26700 [00:14<00:00, 1904.92it/s]\n"
     ]
    }
   ],
   "source": [
    "# tokenize data using kobert tokenizer\n",
    "\n",
    "tok_path = get_tokenizer()\n",
    "sp  = SentencepieceTokenizer(tok_path)\n",
    "\n",
    "raw_tokenized_data = []\n",
    "for content in tqdm(raw_df['contents']):\n",
    "    token = sp(content)\n",
    "    raw_tokenized_data.append(token)"
   ]
  },
  {
   "cell_type": "code",
   "execution_count": 9,
   "metadata": {},
   "outputs": [],
   "source": [
    "# make train_data\n",
    "\n",
    "train_data = raw_df.copy()\n",
    "train_data['tokens'] = pd.Series(raw_tokenized_data)"
   ]
  },
  {
   "cell_type": "code",
   "execution_count": 10,
   "metadata": {},
   "outputs": [
    {
     "data": {
      "text/html": [
       "<div>\n",
       "<style scoped>\n",
       "    .dataframe tbody tr th:only-of-type {\n",
       "        vertical-align: middle;\n",
       "    }\n",
       "\n",
       "    .dataframe tbody tr th {\n",
       "        vertical-align: top;\n",
       "    }\n",
       "\n",
       "    .dataframe thead th {\n",
       "        text-align: right;\n",
       "    }\n",
       "</style>\n",
       "<table border=\"1\" class=\"dataframe\">\n",
       "  <thead>\n",
       "    <tr style=\"text-align: right;\">\n",
       "      <th></th>\n",
       "      <th>theme</th>\n",
       "      <th>contents</th>\n",
       "      <th>tokens</th>\n",
       "    </tr>\n",
       "  </thead>\n",
       "  <tbody>\n",
       "    <tr>\n",
       "      <th>0</th>\n",
       "      <td>2차전지</td>\n",
       "      <td>한국무역보험공사는 일 이인호 무역보험공사 사장이 신종 코로나바이러스 감염증코로나 사...</td>\n",
       "      <td>[▁한국, 무역, 보험, 공사, 는, ▁일, ▁이, 인, 호, ▁무역, 보험, 공사...</td>\n",
       "    </tr>\n",
       "    <tr>\n",
       "      <th>1</th>\n",
       "      <td>2차전지</td>\n",
       "      <td>코스피 상장사 이엔플러스가 차전지 효율을 극대화할 수 있는 액상 그래핀 개발에 성...</td>\n",
       "      <td>[▁코스피, ▁상장, 사, ▁이, 엔, 플러스, 가, ▁, 차전, 지, ▁, 효율,...</td>\n",
       "    </tr>\n",
       "    <tr>\n",
       "      <th>2</th>\n",
       "      <td>2차전지</td>\n",
       "      <td>이엔플러스가 차전지 효율을 극대화할 수 있는 액상 그래핀을 개발해 오는 월부터 본...</td>\n",
       "      <td>[▁이, 엔, 플러스, 가, ▁, 차전, 지, ▁, 효율, 을, ▁극대화, 할, ▁...</td>\n",
       "    </tr>\n",
       "    <tr>\n",
       "      <th>3</th>\n",
       "      <td>2차전지</td>\n",
       "      <td>특징주이엔플러스가 세계 최초로 차전지 효율을 극대화할 수 있는 액상 그래핀을 개발...</td>\n",
       "      <td>[▁, 특징주, 이, 엔, 플러스, 가, ▁세계, ▁최초로, ▁, 차전, 지, ▁,...</td>\n",
       "    </tr>\n",
       "    <tr>\n",
       "      <th>4</th>\n",
       "      <td>2차전지</td>\n",
       "      <td>차전지 성장세로 관련 기업들이 함박웃음을 짓고 있다 국내 배터리 사의 연이은 증설...</td>\n",
       "      <td>[▁, 차전, 지, ▁성장세, 로, ▁관련, ▁기업들, 이, ▁함, 박, 웃음, 을...</td>\n",
       "    </tr>\n",
       "  </tbody>\n",
       "</table>\n",
       "</div>"
      ],
      "text/plain": [
       "  theme                                           contents  \\\n",
       "0  2차전지  한국무역보험공사는 일 이인호 무역보험공사 사장이 신종 코로나바이러스 감염증코로나 사...   \n",
       "1  2차전지   코스피 상장사 이엔플러스가 차전지 효율을 극대화할 수 있는 액상 그래핀 개발에 성...   \n",
       "2  2차전지   이엔플러스가 차전지 효율을 극대화할 수 있는 액상 그래핀을 개발해 오는 월부터 본...   \n",
       "3  2차전지   특징주이엔플러스가 세계 최초로 차전지 효율을 극대화할 수 있는 액상 그래핀을 개발...   \n",
       "4  2차전지   차전지 성장세로 관련 기업들이 함박웃음을 짓고 있다 국내 배터리 사의 연이은 증설...   \n",
       "\n",
       "                                              tokens  \n",
       "0  [▁한국, 무역, 보험, 공사, 는, ▁일, ▁이, 인, 호, ▁무역, 보험, 공사...  \n",
       "1  [▁코스피, ▁상장, 사, ▁이, 엔, 플러스, 가, ▁, 차전, 지, ▁, 효율,...  \n",
       "2  [▁이, 엔, 플러스, 가, ▁, 차전, 지, ▁, 효율, 을, ▁극대화, 할, ▁...  \n",
       "3  [▁, 특징주, 이, 엔, 플러스, 가, ▁세계, ▁최초로, ▁, 차전, 지, ▁,...  \n",
       "4  [▁, 차전, 지, ▁성장세, 로, ▁관련, ▁기업들, 이, ▁함, 박, 웃음, 을...  "
      ]
     },
     "execution_count": 10,
     "metadata": {},
     "output_type": "execute_result"
    }
   ],
   "source": [
    "train_data.head()"
   ]
  },
  {
   "cell_type": "markdown",
   "metadata": {},
   "source": [
    "## Model training"
   ]
  },
  {
   "cell_type": "code",
   "execution_count": 11,
   "metadata": {},
   "outputs": [],
   "source": [
    "news_tokens = train_data['tokens'].tolist()  # data input as list\n",
    "\n",
    "# params\n",
    "v_dimension = 300\n",
    "v_window = 8\n",
    "\n",
    "model = Word2Vec(sentences = news_tokens, size = v_dimension, window = v_window, min_count = 5, workers = 4, sg = 0)"
   ]
  },
  {
   "cell_type": "code",
   "execution_count": 12,
   "metadata": {},
   "outputs": [
    {
     "data": {
      "text/plain": [
       "(7212, 300)"
      ]
     },
     "execution_count": 12,
     "metadata": {},
     "output_type": "execute_result"
    }
   ],
   "source": [
    "model.wv.vectors.shape"
   ]
  },
  {
   "cell_type": "code",
   "execution_count": 14,
   "metadata": {},
   "outputs": [],
   "source": [
    "# save model\n",
    "model.save(\"word2vec.model\")"
   ]
  },
  {
   "cell_type": "markdown",
   "metadata": {},
   "source": [
    "## Get theme vector representations"
   ]
  },
  {
   "cell_type": "code",
   "execution_count": 15,
   "metadata": {},
   "outputs": [],
   "source": [
    "# get sentence vectors without normalization\n",
    "\n",
    "def without_normal(tokens):\n",
    "    vectors = []\n",
    "    for token in tokens:\n",
    "        init_v = np.array([0.0]*v_dimension)\n",
    "        for word in token:\n",
    "            word_vectors = model.wv\n",
    "            if word in word_vectors.vocab:\n",
    "                v = model.wv[word]\n",
    "                init_v = init_v + v\n",
    "        vectors.append(init_v)\n",
    "    \n",
    "    frame = { 'themes': train_data['theme'].tolist(), 'vectors': vectors }\n",
    "    result = pd.DataFrame(frame) \n",
    "    \n",
    "    return result"
   ]
  },
  {
   "cell_type": "code",
   "execution_count": 16,
   "metadata": {},
   "outputs": [],
   "source": [
    "# get theme vectors without normalization\n",
    "\n",
    "def theme_without_normal(news_df):\n",
    "    theme_list = []\n",
    "    vector_list = []\n",
    "    for theme in news_df['themes'].unique():\n",
    "        temp_df = news_df.loc[news_df['themes'] == theme]\n",
    "        add_v = np.array([0.0]*v_dimension)\n",
    "        for vec in temp_df['vectors']:\n",
    "            add_v  = add_v + vec\n",
    "        theme_list.append(theme)\n",
    "        vector_list.append(add_v)\n",
    "        \n",
    "    frame = { 'themes': theme_list, 'vectors': vector_list }\n",
    "    result = pd.DataFrame(frame)\n",
    "    \n",
    "    return result"
   ]
  },
  {
   "cell_type": "code",
   "execution_count": 17,
   "metadata": {},
   "outputs": [],
   "source": [
    "news_vectors_df = without_normal(train_data['tokens'])"
   ]
  },
  {
   "cell_type": "code",
   "execution_count": 18,
   "metadata": {},
   "outputs": [
    {
     "data": {
      "text/html": [
       "<div>\n",
       "<style scoped>\n",
       "    .dataframe tbody tr th:only-of-type {\n",
       "        vertical-align: middle;\n",
       "    }\n",
       "\n",
       "    .dataframe tbody tr th {\n",
       "        vertical-align: top;\n",
       "    }\n",
       "\n",
       "    .dataframe thead th {\n",
       "        text-align: right;\n",
       "    }\n",
       "</style>\n",
       "<table border=\"1\" class=\"dataframe\">\n",
       "  <thead>\n",
       "    <tr style=\"text-align: right;\">\n",
       "      <th></th>\n",
       "      <th>themes</th>\n",
       "      <th>vectors</th>\n",
       "    </tr>\n",
       "  </thead>\n",
       "  <tbody>\n",
       "    <tr>\n",
       "      <th>0</th>\n",
       "      <td>2차전지</td>\n",
       "      <td>[-29.128378542140126, 27.273291456745937, -8.1...</td>\n",
       "    </tr>\n",
       "    <tr>\n",
       "      <th>1</th>\n",
       "      <td>2차전지</td>\n",
       "      <td>[-41.46250488201622, -30.55584678146988, 191.7...</td>\n",
       "    </tr>\n",
       "    <tr>\n",
       "      <th>2</th>\n",
       "      <td>2차전지</td>\n",
       "      <td>[9.841240237117745, 22.945401730015874, 87.265...</td>\n",
       "    </tr>\n",
       "    <tr>\n",
       "      <th>3</th>\n",
       "      <td>2차전지</td>\n",
       "      <td>[-20.97598976327572, -6.953442683443427, 5.432...</td>\n",
       "    </tr>\n",
       "    <tr>\n",
       "      <th>4</th>\n",
       "      <td>2차전지</td>\n",
       "      <td>[-33.22875138127711, 15.341459663584828, 135.8...</td>\n",
       "    </tr>\n",
       "  </tbody>\n",
       "</table>\n",
       "</div>"
      ],
      "text/plain": [
       "  themes                                            vectors\n",
       "0   2차전지  [-29.128378542140126, 27.273291456745937, -8.1...\n",
       "1   2차전지  [-41.46250488201622, -30.55584678146988, 191.7...\n",
       "2   2차전지  [9.841240237117745, 22.945401730015874, 87.265...\n",
       "3   2차전지  [-20.97598976327572, -6.953442683443427, 5.432...\n",
       "4   2차전지  [-33.22875138127711, 15.341459663584828, 135.8..."
      ]
     },
     "execution_count": 18,
     "metadata": {},
     "output_type": "execute_result"
    }
   ],
   "source": [
    "news_vectors_df.head()"
   ]
  },
  {
   "cell_type": "code",
   "execution_count": 19,
   "metadata": {},
   "outputs": [],
   "source": [
    "theme_vectors_df = theme_without_normal(news_vectors_df)"
   ]
  },
  {
   "cell_type": "code",
   "execution_count": 20,
   "metadata": {},
   "outputs": [
    {
     "data": {
      "text/html": [
       "<div>\n",
       "<style scoped>\n",
       "    .dataframe tbody tr th:only-of-type {\n",
       "        vertical-align: middle;\n",
       "    }\n",
       "\n",
       "    .dataframe tbody tr th {\n",
       "        vertical-align: top;\n",
       "    }\n",
       "\n",
       "    .dataframe thead th {\n",
       "        text-align: right;\n",
       "    }\n",
       "</style>\n",
       "<table border=\"1\" class=\"dataframe\">\n",
       "  <thead>\n",
       "    <tr style=\"text-align: right;\">\n",
       "      <th></th>\n",
       "      <th>themes</th>\n",
       "      <th>vectors</th>\n",
       "    </tr>\n",
       "  </thead>\n",
       "  <tbody>\n",
       "    <tr>\n",
       "      <th>0</th>\n",
       "      <td>2차전지</td>\n",
       "      <td>[-5728.885039504268, -1713.120836096663, 2425....</td>\n",
       "    </tr>\n",
       "    <tr>\n",
       "      <th>1</th>\n",
       "      <td>3D프린터</td>\n",
       "      <td>[-1601.962142577162, -5690.222019276283, 14515...</td>\n",
       "    </tr>\n",
       "    <tr>\n",
       "      <th>2</th>\n",
       "      <td>4대강</td>\n",
       "      <td>[-4492.6769370889815, 246.49643547526284, 3120...</td>\n",
       "    </tr>\n",
       "    <tr>\n",
       "      <th>3</th>\n",
       "      <td>5G</td>\n",
       "      <td>[-5324.962389420718, -2843.6464109625995, 8535...</td>\n",
       "    </tr>\n",
       "    <tr>\n",
       "      <th>4</th>\n",
       "      <td>AR</td>\n",
       "      <td>[4351.3103650522535, -178.3511861403931, 10230...</td>\n",
       "    </tr>\n",
       "  </tbody>\n",
       "</table>\n",
       "</div>"
      ],
      "text/plain": [
       "  themes                                            vectors\n",
       "0   2차전지  [-5728.885039504268, -1713.120836096663, 2425....\n",
       "1  3D프린터  [-1601.962142577162, -5690.222019276283, 14515...\n",
       "2    4대강  [-4492.6769370889815, 246.49643547526284, 3120...\n",
       "3     5G  [-5324.962389420718, -2843.6464109625995, 8535...\n",
       "4     AR  [4351.3103650522535, -178.3511861403931, 10230..."
      ]
     },
     "execution_count": 20,
     "metadata": {},
     "output_type": "execute_result"
    }
   ],
   "source": [
    "theme_vectors_df.head()"
   ]
  },
  {
   "cell_type": "code",
   "execution_count": 21,
   "metadata": {},
   "outputs": [],
   "source": [
    "# convert array to list for output file\n",
    "theme_vectors_df['vectors'] = theme_vectors_df['vectors'].apply(lambda x: x.tolist())\n",
    "theme_vectors_df.to_csv('theme_vectors_xnorm.csv')"
   ]
  },
  {
   "cell_type": "code",
   "execution_count": null,
   "metadata": {},
   "outputs": [],
   "source": []
  }
 ],
 "metadata": {
  "kernelspec": {
   "display_name": "Python 3",
   "language": "python",
   "name": "python3"
  },
  "language_info": {
   "codemirror_mode": {
    "name": "ipython",
    "version": 3
   },
   "file_extension": ".py",
   "mimetype": "text/x-python",
   "name": "python",
   "nbconvert_exporter": "python",
   "pygments_lexer": "ipython3",
   "version": "3.8.2"
  }
 },
 "nbformat": 4,
 "nbformat_minor": 4
}
