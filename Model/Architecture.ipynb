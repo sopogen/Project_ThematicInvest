{
 "cells": [
  {
   "cell_type": "code",
   "execution_count": 34,
   "metadata": {},
   "outputs": [],
   "source": [
    "import pandas as pd\n",
    "from tqdm import tqdm\n",
    "import numpy as np\n",
    "#from konlpy.tag import mecab\n",
    "from gensim.models import Word2Vec\n",
    "from scipy.spatial import distance\n",
    "from gluonnlp.data import SentencepieceTokenizer\n",
    "from kobert.utils import get_tokenizer\n",
    "from bs4 import BeautifulSoup as bs\n",
    "from urllib.request import urlopen\n",
    "from urllib.parse import quote\n",
    "import requests\n",
    "import json\n",
    "import matplotlib.pyplot as plt\n",
    "%matplotlib inline\n",
    "import re\n",
    "import datetime\n",
    "from datetime import timedelta"
   ]
  },
  {
   "cell_type": "code",
   "execution_count": 35,
   "metadata": {},
   "outputs": [],
   "source": [
    "kospi = pd.read_csv(\"Project_ThematicInvest/Data/stock_data/kospi.csv\", encoding='cp949')\n",
    "kosdaq = pd.read_csv(\"Project_ThematicInvest/Data/stock_data/kosdaq.csv\", encoding='cp949')"
   ]
  },
  {
   "cell_type": "markdown",
   "metadata": {},
   "source": [
    "# Load Trained Model"
   ]
  },
  {
   "cell_type": "code",
   "execution_count": 36,
   "metadata": {},
   "outputs": [],
   "source": [
    "theme_vectors_df = pd.read_csv('theme_vectors_xnorm.csv')"
   ]
  },
  {
   "cell_type": "code",
   "execution_count": 37,
   "metadata": {},
   "outputs": [
    {
     "data": {
      "text/html": [
       "<div>\n",
       "<style scoped>\n",
       "    .dataframe tbody tr th:only-of-type {\n",
       "        vertical-align: middle;\n",
       "    }\n",
       "\n",
       "    .dataframe tbody tr th {\n",
       "        vertical-align: top;\n",
       "    }\n",
       "\n",
       "    .dataframe thead th {\n",
       "        text-align: right;\n",
       "    }\n",
       "</style>\n",
       "<table border=\"1\" class=\"dataframe\">\n",
       "  <thead>\n",
       "    <tr style=\"text-align: right;\">\n",
       "      <th></th>\n",
       "      <th>Unnamed: 0</th>\n",
       "      <th>themes</th>\n",
       "      <th>vectors</th>\n",
       "    </tr>\n",
       "  </thead>\n",
       "  <tbody>\n",
       "    <tr>\n",
       "      <th>0</th>\n",
       "      <td>0</td>\n",
       "      <td>2차전지</td>\n",
       "      <td>[-5728.885039504268, -1713.120836096663, 2425....</td>\n",
       "    </tr>\n",
       "    <tr>\n",
       "      <th>1</th>\n",
       "      <td>1</td>\n",
       "      <td>3D프린터</td>\n",
       "      <td>[-1601.962142577162, -5690.222019276283, 14515...</td>\n",
       "    </tr>\n",
       "    <tr>\n",
       "      <th>2</th>\n",
       "      <td>2</td>\n",
       "      <td>4대강</td>\n",
       "      <td>[-4492.6769370889815, 246.49643547526284, 3120...</td>\n",
       "    </tr>\n",
       "    <tr>\n",
       "      <th>3</th>\n",
       "      <td>3</td>\n",
       "      <td>5G</td>\n",
       "      <td>[-5324.962389420718, -2843.6464109625995, 8535...</td>\n",
       "    </tr>\n",
       "    <tr>\n",
       "      <th>4</th>\n",
       "      <td>4</td>\n",
       "      <td>AR</td>\n",
       "      <td>[4351.3103650522535, -178.3511861403931, 10230...</td>\n",
       "    </tr>\n",
       "    <tr>\n",
       "      <th>...</th>\n",
       "      <td>...</td>\n",
       "      <td>...</td>\n",
       "      <td>...</td>\n",
       "    </tr>\n",
       "    <tr>\n",
       "      <th>262</th>\n",
       "      <td>262</td>\n",
       "      <td>홈쇼핑</td>\n",
       "      <td>[2465.1961745460285, 2935.895441516419, 8783.9...</td>\n",
       "    </tr>\n",
       "    <tr>\n",
       "      <th>263</th>\n",
       "      <td>263</td>\n",
       "      <td>화장품</td>\n",
       "      <td>[-3903.077506332542, -3863.4404631393263, 1084...</td>\n",
       "    </tr>\n",
       "    <tr>\n",
       "      <th>264</th>\n",
       "      <td>264</td>\n",
       "      <td>화학섬유</td>\n",
       "      <td>[-321.29043307725806, -398.19858047622256, 247...</td>\n",
       "    </tr>\n",
       "    <tr>\n",
       "      <th>265</th>\n",
       "      <td>265</td>\n",
       "      <td>흑사병</td>\n",
       "      <td>[-11903.33893423264, -12734.967693026807, -313...</td>\n",
       "    </tr>\n",
       "    <tr>\n",
       "      <th>266</th>\n",
       "      <td>266</td>\n",
       "      <td>희토류</td>\n",
       "      <td>[-15034.28593214252, -13772.028466603428, 1134...</td>\n",
       "    </tr>\n",
       "  </tbody>\n",
       "</table>\n",
       "<p>267 rows × 3 columns</p>\n",
       "</div>"
      ],
      "text/plain": [
       "     Unnamed: 0 themes                                            vectors\n",
       "0             0   2차전지  [-5728.885039504268, -1713.120836096663, 2425....\n",
       "1             1  3D프린터  [-1601.962142577162, -5690.222019276283, 14515...\n",
       "2             2    4대강  [-4492.6769370889815, 246.49643547526284, 3120...\n",
       "3             3     5G  [-5324.962389420718, -2843.6464109625995, 8535...\n",
       "4             4     AR  [4351.3103650522535, -178.3511861403931, 10230...\n",
       "..          ...    ...                                                ...\n",
       "262         262    홈쇼핑  [2465.1961745460285, 2935.895441516419, 8783.9...\n",
       "263         263    화장품  [-3903.077506332542, -3863.4404631393263, 1084...\n",
       "264         264   화학섬유  [-321.29043307725806, -398.19858047622256, 247...\n",
       "265         265    흑사병  [-11903.33893423264, -12734.967693026807, -313...\n",
       "266         266    희토류  [-15034.28593214252, -13772.028466603428, 1134...\n",
       "\n",
       "[267 rows x 3 columns]"
      ]
     },
     "execution_count": 37,
     "metadata": {},
     "output_type": "execute_result"
    }
   ],
   "source": [
    "theme_vectors_df"
   ]
  },
  {
   "cell_type": "code",
   "execution_count": 38,
   "metadata": {},
   "outputs": [],
   "source": [
    "theme_vectors_df['vectors'] = theme_vectors_df['vectors'].apply(lambda x: eval(x))"
   ]
  },
  {
   "cell_type": "code",
   "execution_count": 39,
   "metadata": {},
   "outputs": [],
   "source": [
    "theme_vectors_df['vectors'] = theme_vectors_df['vectors'].apply(lambda x: np.array(x))"
   ]
  },
  {
   "cell_type": "markdown",
   "metadata": {},
   "source": [
    "# Fit Today News"
   ]
  },
  {
   "cell_type": "markdown",
   "metadata": {},
   "source": [
    "### Input"
   ]
  },
  {
   "cell_type": "code",
   "execution_count": 40,
   "metadata": {},
   "outputs": [],
   "source": [
    "real_test = pd.read_csv(\"theme_contents_200_length_same.csv\",index_col=0)\n",
    "test_date = '2020-06-29'"
   ]
  },
  {
   "cell_type": "code",
   "execution_count": 41,
   "metadata": {},
   "outputs": [
    {
     "name": "stdout",
     "output_type": "stream",
     "text": [
      "using cached model\n"
     ]
    }
   ],
   "source": [
    "ttok_path = get_tokenizer()\n",
    "sp  = SentencepieceTokenizer(tok_path)\n",
    "#stop_words = ['으로', '로도', '지만', '에서', '려는', '하다', '은', '는', '이', '가', '을', '를', '수', '할']\n",
    "v_dimension = 300\n",
    "v_window = 8\n",
    "model = Word2Vec.load('word2vec.model')"
   ]
  },
  {
   "cell_type": "code",
   "execution_count": null,
   "metadata": {},
   "outputs": [],
   "source": []
  },
  {
   "cell_type": "code",
   "execution_count": 42,
   "metadata": {},
   "outputs": [],
   "source": [
    "# news vectors without normalization\n",
    "\n",
    "def vectorize_without_normal(news):\n",
    "    news_words = news.replace(\"[^ㄱ-ㅎㅏ-ㅣ가-힣 ]\",\"\")\n",
    "    token = sp(news)\n",
    "    final_tokens = token\n",
    "    init_v = np.array([0.0]*v_dimension)\n",
    "    for word in final_tokens:\n",
    "        word_vectors = model.wv\n",
    "        if word in word_vectors.vocab:\n",
    "            v = model.wv[word]\n",
    "            init_v = init_v + v\n",
    "    return init_v"
   ]
  },
  {
   "cell_type": "code",
   "execution_count": 43,
   "metadata": {},
   "outputs": [],
   "source": [
    "# test\n",
    "\n",
    "def test(news):\n",
    "    news_vec = vectorize_without_normal(news)\n",
    "    result = []\n",
    "    for theme in theme_vectors_df['vectors']:\n",
    "        cosine = 1 - distance.cosine(theme, news_vec)\n",
    "        result.append(cosine)\n",
    "    new_df = pd.DataFrame(data=np.zeros([267,2]), columns=['Theme', 'Result'])\n",
    "    new_df['Theme'] = theme_vectors_df['themes']\n",
    "    new_df['Result'] = result\n",
    "\n",
    "    new_df.sort_values('Result', ascending=False, inplace=True)\n",
    "    return new_df\n",
    "    "
   ]
  },
  {
   "cell_type": "code",
   "execution_count": 44,
   "metadata": {},
   "outputs": [
    {
     "name": "stderr",
     "output_type": "stream",
     "text": [
      "  1%|          | 402/50600 [00:05<11:17, 74.06it/s]/Library/Frameworks/Python.framework/Versions/3.8/lib/python3.8/site-packages/scipy/spatial/distance.py:720: RuntimeWarning: invalid value encountered in double_scalars\n",
      "  dist = 1.0 - uv / np.sqrt(uu * vv)\n",
      "100%|██████████| 50600/50600 [10:12<00:00, 82.60it/s]\n"
     ]
    }
   ],
   "source": [
    "lst = []\n",
    "lst2 = []\n",
    "for i in tqdm(range(len(real_test))):\n",
    "    a = real_test['contents'][i]\n",
    "    result = test(a)\n",
    "    result = result.sort_values(by='Result', ascending=False).reset_index(drop=True)\n",
    "    theme = result['Theme'][0]\n",
    "    cosine = result['Result'][0]\n",
    "    lst.append(theme)\n",
    "    lst2.append(cosine)\n",
    "    "
   ]
  },
  {
   "cell_type": "code",
   "execution_count": 45,
   "metadata": {},
   "outputs": [
    {
     "ename": "NameError",
     "evalue": "name 'final_data' is not defined",
     "output_type": "error",
     "traceback": [
      "\u001b[0;31m---------------------------------------------------------------------------\u001b[0m",
      "\u001b[0;31mNameError\u001b[0m                                 Traceback (most recent call last)",
      "\u001b[0;32m<ipython-input-45-fc69d9098943>\u001b[0m in \u001b[0;36m<module>\u001b[0;34m\u001b[0m\n\u001b[1;32m      1\u001b[0m \u001b[0mdf\u001b[0m \u001b[0;34m=\u001b[0m \u001b[0mpd\u001b[0m\u001b[0;34m.\u001b[0m\u001b[0mDataFrame\u001b[0m\u001b[0;34m(\u001b[0m\u001b[0mlist\u001b[0m\u001b[0;34m(\u001b[0m\u001b[0mzip\u001b[0m\u001b[0;34m(\u001b[0m\u001b[0mlst\u001b[0m\u001b[0;34m,\u001b[0m \u001b[0mlst2\u001b[0m\u001b[0;34m)\u001b[0m\u001b[0;34m)\u001b[0m\u001b[0;34m,\u001b[0m \u001b[0mcolumns\u001b[0m \u001b[0;34m=\u001b[0m\u001b[0;34m[\u001b[0m\u001b[0;34m'Theme'\u001b[0m\u001b[0;34m,\u001b[0m \u001b[0;34m'Similarity'\u001b[0m\u001b[0;34m]\u001b[0m\u001b[0;34m)\u001b[0m\u001b[0;34m\u001b[0m\u001b[0;34m\u001b[0m\u001b[0m\n\u001b[0;32m----> 2\u001b[0;31m \u001b[0mdf\u001b[0m \u001b[0;34m=\u001b[0m \u001b[0mpd\u001b[0m\u001b[0;34m.\u001b[0m\u001b[0mconcat\u001b[0m\u001b[0;34m(\u001b[0m\u001b[0;34m[\u001b[0m\u001b[0mreal_test\u001b[0m\u001b[0;34m,\u001b[0m\u001b[0mfinal_data\u001b[0m\u001b[0;34m]\u001b[0m\u001b[0;34m,\u001b[0m\u001b[0maxis\u001b[0m\u001b[0;34m=\u001b[0m\u001b[0;36m1\u001b[0m\u001b[0;34m)\u001b[0m\u001b[0;34m\u001b[0m\u001b[0;34m\u001b[0m\u001b[0m\n\u001b[0m",
      "\u001b[0;31mNameError\u001b[0m: name 'final_data' is not defined"
     ]
    }
   ],
   "source": [
    "df = pd.DataFrame(list(zip(lst, lst2)), columns =['Theme', 'Similarity']) \n",
    "df = pd.concat([real_test,final_data],axis=1)"
   ]
  },
  {
   "cell_type": "code",
   "execution_count": 13,
   "metadata": {},
   "outputs": [
    {
     "ename": "NameError",
     "evalue": "name 'df' is not defined",
     "output_type": "error",
     "traceback": [
      "\u001b[0;31m---------------------------------------------------------------------------\u001b[0m",
      "\u001b[0;31mNameError\u001b[0m                                 Traceback (most recent call last)",
      "\u001b[0;32m<ipython-input-13-69ea8af16448>\u001b[0m in \u001b[0;36m<module>\u001b[0;34m()\u001b[0m\n\u001b[1;32m      1\u001b[0m \u001b[0mstandard\u001b[0m \u001b[0;34m=\u001b[0m \u001b[0;36m0.95\u001b[0m\u001b[0;34m\u001b[0m\u001b[0m\n\u001b[0;32m----> 2\u001b[0;31m \u001b[0mdf_filtered\u001b[0m \u001b[0;34m=\u001b[0m \u001b[0mdf\u001b[0m\u001b[0;34m[\u001b[0m\u001b[0mour_result\u001b[0m\u001b[0;34m[\u001b[0m\u001b[0;34m'Similarity'\u001b[0m\u001b[0;34m]\u001b[0m\u001b[0;34m>=\u001b[0m\u001b[0mstandard\u001b[0m\u001b[0;34m]\u001b[0m\u001b[0;34m.\u001b[0m\u001b[0mreset_index\u001b[0m\u001b[0;34m(\u001b[0m\u001b[0mdrop\u001b[0m\u001b[0;34m=\u001b[0m\u001b[0;32mTrue\u001b[0m\u001b[0;34m)\u001b[0m\u001b[0;34m\u001b[0m\u001b[0m\n\u001b[0m\u001b[1;32m      3\u001b[0m \u001b[0mdf_filtered\u001b[0m \u001b[0;34m=\u001b[0m \u001b[0mdf_filtered\u001b[0m\u001b[0;34m[\u001b[0m\u001b[0;34m[\u001b[0m\u001b[0;34m'Theme'\u001b[0m\u001b[0;34m,\u001b[0m\u001b[0;34m'contents'\u001b[0m\u001b[0;34m]\u001b[0m\u001b[0;34m]\u001b[0m\u001b[0;34m\u001b[0m\u001b[0m\n",
      "\u001b[0;31mNameError\u001b[0m: name 'df' is not defined"
     ]
    }
   ],
   "source": [
    "standard = 0.95\n",
    "df_filtered = df[our_result['Similarity']>=standard].reset_index(drop=True)\n",
    "df_filtered = df_filtered[['Theme','contents']]"
   ]
  },
  {
   "cell_type": "code",
   "execution_count": null,
   "metadata": {},
   "outputs": [],
   "source": [
    "df_final = df_filtered.groupby('Theme').count().sort_values(by='contents',ascending=False)\n",
    "df_final = df_final[(df_final['contents']>3) & (df_final['conetents']<10)]"
   ]
  },
  {
   "cell_type": "markdown",
   "metadata": {},
   "source": [
    "# Make Portfolio"
   ]
  },
  {
   "cell_type": "code",
   "execution_count": 25,
   "metadata": {},
   "outputs": [],
   "source": [
    "def target_company(themes):\n",
    "    company_list=themes[themes['Theme']==them]['Company'].iloc[0]\n",
    "    company_list=str(company_list).replace('[','').replace(']','').replace(\"\\'\",'').replace(' ', '').split(',')\n",
    "    \n",
    "    return company_list"
   ]
  },
  {
   "cell_type": "code",
   "execution_count": 34,
   "metadata": {},
   "outputs": [],
   "source": [
    "def date_convert(date):\n",
    "    end_date = date\n",
    "    \n",
    "    def date_by_deducting_business_days(from_date):\n",
    "        business_days_to_deduct = 6\n",
    "        current_date = from_date\n",
    "        while business_days_to_deduct > 0:\n",
    "            current_date += datetime.timedelta(days=-1)\n",
    "            weekday = current_date.weekday()\n",
    "            if weekday >= 5: # sunday = 6\n",
    "                continue\n",
    "            business_days_to_deduct -= 1\n",
    "        return current_date\n",
    "\n",
    "    convert_end_date = datetime.datetime.strptime(date,'%Y-%m-%d').date()\n",
    "    start_date=datetime.date.strftime(date_by_deducting_business_days(convert_end_date),'%Y-%m-%d')\n",
    "    \n",
    "    return start_date, end_date"
   ]
  },
  {
   "cell_type": "code",
   "execution_count": 38,
   "metadata": {},
   "outputs": [],
   "source": [
    "def date_format(d):\n",
    "    d = str(d).replace('-', '.')\n",
    "    yyyy = int(d.split('.')[0])\n",
    "    mm = int(d.split('.')[1])\n",
    "    dd = int(d.split('.')[2])\n",
    "    \n",
    "    this_date = dt.date(yyyy, mm, dd)\n",
    "    return this_date"
   ]
  },
  {
   "cell_type": "code",
   "execution_count": 39,
   "metadata": {},
   "outputs": [],
   "source": [
    "def date_format(d=''):\n",
    "    if d != '':\n",
    "        this_date = pd.to_datetime(d).date()\n",
    "    else:\n",
    "        this_date = pd.Timestamp.today().date()\n",
    "    return (this_date)"
   ]
  },
  {
   "cell_type": "code",
   "execution_count": 40,
   "metadata": {},
   "outputs": [],
   "source": [
    "def stock_info(stock_cd):\n",
    "    url_float = 'http://companyinfo.stock.naver.com/v1/company/c1010001.aspx?cmp_cd=' + stock_cd\n",
    "    source = urlopen(url_float).read()\n",
    "    soup = bs(source, 'lxml')\n",
    "    \n",
    "    tmp = soup.find(id='cTB11').find_all('tr')[6].td.text\n",
    "    tmp = tmp.replace('\\r', '').replace('\\n','').replace('\\t','')\n",
    "    tmp = re.split('/', tmp)\n",
    "                   \n",
    "    outstanding = tmp[0].replace(',','').replace('주','').replace(' ','')\n",
    "    outstanding = int(outstanding)\n",
    "                   \n",
    "    floating = tmp[1].replace(' ','').replace('%','')\n",
    "    floating = float(floating)\n",
    "                   \n",
    "    name = soup.find(id='pArea').find('div').find('div').find('tr').find('td').find('span').text\n",
    "    \n",
    "    stock_outstanding[stock_cd] = outstanding\n",
    "    stock_floating[stock_cd] = floating\n",
    "    stock_name[stock_cd] = name"
   ]
  },
  {
   "cell_type": "code",
   "execution_count": 44,
   "metadata": {},
   "outputs": [],
   "source": [
    "def historical_index_naver(index_cd, start_date='', end_date='', page_n=1, last_page=0):\n",
    "    \n",
    "    if start_date:\n",
    "        start_date = date_format(start_date)\n",
    "    else:\n",
    "        start_date = dt.date.today()\n",
    "    if end_date:\n",
    "        end_date = date_format(end_date)+datetime.timedelta(days=-1)\n",
    "    else:\n",
    "        end_date = dt.date.today()\n",
    "    \n",
    "    naver_index = 'http://finance.naver.com/sise/sise_index_day.nhn?code=' + index_cd + '&page=' + str(page_n)\n",
    "    \n",
    "    source = urlopen(naver_index).read()\n",
    "    source = bs(source, 'lxml')\n",
    "    \n",
    "    dates = source.find_all('td', class_='date')\n",
    "    prices = source.find_all('td', class_='number_1')\n",
    "    \n",
    "    for n in range(len(dates)):\n",
    "        if dates[n].text.split('.')[0].isdigit():\n",
    "            \n",
    "            # Handling date\n",
    "            this_date = dates[n].text\n",
    "            this_date = date_format(this_date)\n",
    "            \n",
    "            if this_date <= end_date and this_date >= start_date:\n",
    "                \n",
    "                # Handling closing price\n",
    "                this_close = prices[n*4].text\n",
    "                this_close = this_close.replace(',','')\n",
    "                this_close = float(this_close)\n",
    "                \n",
    "                historical_prices[this_date] = this_close\n",
    "\n",
    "            elif this_date < start_date:\n",
    "                return historical_prices\n",
    "            \n",
    "    \n",
    "    # Navigating page\n",
    "    if last_page == 0:\n",
    "        last_page = source.find('td', class_='pgRR').find('a')['href']\n",
    "        \n",
    "        last_page = last_page.split('&')[1]\n",
    "        last_page = last_page.split('=')[1]\n",
    "        last_page = int(last_page)\n",
    "        \n",
    "    if page_n < last_page:\n",
    "        page_n += 1\n",
    "        historical_index_naver(index_cd, start_date, end_date, page_n, last_page)\n",
    "        \n",
    "    return historical_prices"
   ]
  },
  {
   "cell_type": "code",
   "execution_count": 45,
   "metadata": {},
   "outputs": [],
   "source": [
    "def historical_stock_naver(stock_cd, start_date='', end_date='', page_n=1, last_page=0):\n",
    "    \n",
    "    if start_date:\n",
    "        start_date = date_format(start_date)\n",
    "    else:\n",
    "        start_date = dt.date.today()\n",
    "    if end_date:\n",
    "        end_date = date_format(end_date)+datetime.timedelta(days=-1)\n",
    "    else:\n",
    "        end_date = dt.date.today()\n",
    "    \n",
    "    naver_stock = 'http://finance.naver.com/item/sise_day.nhn?code=' + stock_cd + '&page=' + str(page_n)\n",
    "    \n",
    "    source = urlopen(naver_stock).read()\n",
    "    #source = requests.get(naver_stock)\n",
    "    source = bs(source, 'lxml')\n",
    "    \n",
    "    dates = source.find_all('span', class_='tah p10 gray03')\n",
    "    prices = source.find_all('td', class_='num')\n",
    "    \n",
    "    for n in range(len(dates)):\n",
    "        \n",
    "        if len(dates) > 0:\n",
    "            \n",
    "            # Handling date\n",
    "            this_date = dates[n].text\n",
    "            this_date = date_format(this_date)\n",
    "            \n",
    "            if this_date <= end_date and this_date >= start_date:\n",
    "                \n",
    "                # Handling closing price\n",
    "                this_close = prices[n*6].text\n",
    "                this_close = this_close.replace(',','')\n",
    "                this_close = float(this_close)\n",
    "                \n",
    "                historical_prices[this_date] = this_close\n",
    "\n",
    "            elif this_date < start_date:\n",
    "                return historical_prices\n",
    "            \n",
    "    \n",
    "    # Navigating page\n",
    "    if last_page == 0:\n",
    "        last_page = source.find('td', class_='pgRR').find('a')['href']\n",
    "        last_page = last_page.split('&')[1]\n",
    "        last_page = last_page.split('=')[1]\n",
    "        last_page = int(last_page)\n",
    "        \n",
    "    if page_n < last_page:\n",
    "        page_n += 1\n",
    "        historical_stock_naver(stock_cd, start_date, end_date, page_n, last_page)\n",
    "        \n",
    "    return historical_prices"
   ]
  },
  {
   "cell_type": "code",
   "execution_count": 79,
   "metadata": {},
   "outputs": [],
   "source": [
    "def threshold(data):\n",
    "    if data < -0.05 or data > 0.05: return False\n",
    "    else : return True"
   ]
  },
  {
   "cell_type": "code",
   "execution_count": 37,
   "metadata": {},
   "outputs": [
    {
     "name": "stdout",
     "output_type": "stream",
     "text": [
      "027740 마니커\n",
      "136480 하림\n",
      "208140 정다운\n",
      "072020 중앙백신\n",
      "195500 마니커에프앤지\n",
      "073560 우리손에프앤지\n",
      "005940 NH투자증권\n",
      "900340 윙입푸드\n",
      "178780 유테크\n",
      "015890 태경산업\n",
      "003380 하림지주\n",
      "198440 고려시멘트\n",
      "027970 세하\n",
      "060590 씨티씨바이오\n",
      "027710 팜스토리\n",
      "043200 파루\n",
      "018620 우진비앤지\n",
      "035290 더블유에프엠\n",
      "041960 코미팜\n",
      "033250 체시스\n",
      "044960 이글벳\n",
      "003540 대신증권\n",
      "054670 대한뉴팜\n",
      "086060 진바이오텍\n",
      "036480 대성미생물\n",
      "006980 우성사료\n",
      "025870 신라에스지\n",
      "001790 대한제당\n",
      "353810 이지바이오\n",
      "005930 삼성전자\n",
      "052670 제일바이오\n",
      "136490 선진\n"
     ]
    }
   ],
   "source": [
    "def target_theme(target_comapny):\n",
    "    target_theme = {}\n",
    "    for target in target_company:\n",
    "        try:\n",
    "            code = kosdaq[kosdaq['기업명']==target].iloc[0]['종목코드']\n",
    "            code = str(code).zfill(6)\n",
    "        except:\n",
    "            code = kospi[kospi['기업명']==target].iloc[0]['종목코드']\n",
    "            code = str(code).zfill(6)\n",
    "        target_theme[code] = target\n",
    "        \n",
    "    return target_theme"
   ]
  },
  {
   "cell_type": "code",
   "execution_count": 41,
   "metadata": {},
   "outputs": [
    {
     "name": "stdout",
     "output_type": "stream",
     "text": [
      "027740\n",
      "136480\n",
      "208140\n",
      "072020\n",
      "195500\n",
      "073560\n",
      "005940\n",
      "900340\n",
      "178780\n",
      "015890\n",
      "003380\n",
      "198440\n",
      "027970\n",
      "060590\n",
      "027710\n",
      "043200\n",
      "018620\n",
      "035290\n",
      "041960\n",
      "033250\n",
      "044960\n",
      "003540\n",
      "054670\n",
      "086060\n",
      "036480\n",
      "006980\n",
      "025870\n",
      "001790\n",
      "353810\n",
      "005930\n",
      "052670\n",
      "136490\n"
     ]
    }
   ],
   "source": [
    "def stock_get_info(target_theme):\n",
    "    stock_outstanding = dict()\n",
    "    stock_floating = dict()\n",
    "    stock_name = dict()\n",
    "    for stock_cd in target_theme.keys():\n",
    "        stock_info(stock_cd)\n",
    "    \n",
    "    return stock_outstanding, stock_floating, stock_name"
   ]
  },
  {
   "cell_type": "code",
   "execution_count": 46,
   "metadata": {},
   "outputs": [
    {
     "data": {
      "text/html": [
       "<div>\n",
       "<style scoped>\n",
       "    .dataframe tbody tr th:only-of-type {\n",
       "        vertical-align: middle;\n",
       "    }\n",
       "\n",
       "    .dataframe tbody tr th {\n",
       "        vertical-align: top;\n",
       "    }\n",
       "\n",
       "    .dataframe thead th {\n",
       "        text-align: right;\n",
       "    }\n",
       "</style>\n",
       "<table border=\"1\" class=\"dataframe\">\n",
       "  <thead>\n",
       "    <tr style=\"text-align: right;\">\n",
       "      <th></th>\n",
       "      <th>001040</th>\n",
       "      <th>003240</th>\n",
       "      <th>023530</th>\n",
       "      <th>057050</th>\n",
       "      <th>138250</th>\n",
       "    </tr>\n",
       "  </thead>\n",
       "  <tbody>\n",
       "    <tr>\n",
       "      <td>2020-06-29</td>\n",
       "      <td>84300.0</td>\n",
       "      <td>693000.0</td>\n",
       "      <td>76100.0</td>\n",
       "      <td>63800.0</td>\n",
       "      <td>12550.0</td>\n",
       "    </tr>\n",
       "    <tr>\n",
       "      <td>2020-06-26</td>\n",
       "      <td>85800.0</td>\n",
       "      <td>717000.0</td>\n",
       "      <td>78700.0</td>\n",
       "      <td>65400.0</td>\n",
       "      <td>13050.0</td>\n",
       "    </tr>\n",
       "    <tr>\n",
       "      <td>2020-06-25</td>\n",
       "      <td>85400.0</td>\n",
       "      <td>716000.0</td>\n",
       "      <td>77500.0</td>\n",
       "      <td>64500.0</td>\n",
       "      <td>13350.0</td>\n",
       "    </tr>\n",
       "    <tr>\n",
       "      <td>2020-06-24</td>\n",
       "      <td>88300.0</td>\n",
       "      <td>735000.0</td>\n",
       "      <td>79700.0</td>\n",
       "      <td>66900.0</td>\n",
       "      <td>13250.0</td>\n",
       "    </tr>\n",
       "    <tr>\n",
       "      <td>2020-06-23</td>\n",
       "      <td>87300.0</td>\n",
       "      <td>737000.0</td>\n",
       "      <td>79700.0</td>\n",
       "      <td>66000.0</td>\n",
       "      <td>12300.0</td>\n",
       "    </tr>\n",
       "    <tr>\n",
       "      <td>2020-06-22</td>\n",
       "      <td>88200.0</td>\n",
       "      <td>738000.0</td>\n",
       "      <td>81000.0</td>\n",
       "      <td>66100.0</td>\n",
       "      <td>12050.0</td>\n",
       "    </tr>\n",
       "  </tbody>\n",
       "</table>\n",
       "</div>"
      ],
      "text/plain": [
       "             001040    003240   023530   057050   138250\n",
       "2020-06-29  84300.0  693000.0  76100.0  63800.0  12550.0\n",
       "2020-06-26  85800.0  717000.0  78700.0  65400.0  13050.0\n",
       "2020-06-25  85400.0  716000.0  77500.0  64500.0  13350.0\n",
       "2020-06-24  88300.0  735000.0  79700.0  66900.0  13250.0\n",
       "2020-06-23  87300.0  737000.0  79700.0  66000.0  12300.0\n",
       "2020-06-22  88200.0  738000.0  81000.0  66100.0  12050.0"
      ]
     },
     "execution_count": 46,
     "metadata": {},
     "output_type": "execute_result"
    }
   ],
   "source": [
    "def theme_historical_price(target_theme, stard_date, end_date):\n",
    "    theme_historical_prices = dict()\n",
    "\n",
    "    for stock_cd in target_theme.keys():\n",
    "        historical_prices = dict()\n",
    "        historical_stock_naver(stock_cd, start_date, end_date)\n",
    "\n",
    "        theme_historical_prices[stock_cd] = historical_prices\n",
    "\n",
    "    theme_historical_price = pd.DataFrame(theme_historical_prices)\n",
    "    theme_historical_price.sort_index(axis=1, inplace=True)\n",
    "\n",
    "    theme_historical_price = theme_historical_price.fillna(method='ffill')\n",
    "    if theme_historical_price.isnull().values.any():\n",
    "        theme_historical_price = theme_historical_price.fillna(method='bfill')\n",
    "\n",
    "    theme_historical_price['kospi200'] = historical_index_naver('KPI200', start_date, end_date).values()\n",
    "    \n",
    "    return theme_historical_price"
   ]
  },
  {
   "cell_type": "code",
   "execution_count": null,
   "metadata": {},
   "outputs": [],
   "source": [
    "def make_portfolio(theme, test_date):\n",
    "    start_date, end_date = convert_date(test_date)\n",
    "    themes=pd.read_csv(\"./Data/filtered_data/final_data.csv\",index_col=0)\n",
    "    target_company = target_company(themes)\n",
    "    target_theme = target_theme(target_comapny)\n",
    "    stock_outstanding, stock_floating, stock_name = stock_get_info(target_theme)\n",
    "    theme_historical_price = theme_historical_price(target_theme, start_date, end_date)\n",
    "\n",
    "    df = pd.DataFrame(np.zeros([6,len(target_company)+1]), columns=theme_historical_price.columns, index=theme_historical_price.index)\n",
    "    for i in range(5):\n",
    "        df.iloc[i] = (theme_historical_price.iloc[i] - theme_historical_price.iloc[i+1])/theme_historical_price.iloc[i]\n",
    "    df.drop(index=[df.index[-1]], inplace=True)\n",
    "\n",
    "    print('오늘의 추천종목은 : ')\n",
    "    for i in range(len(target_company)):\n",
    "        standard = 1\n",
    "        for j in range(5):\n",
    "            standard *= threshold(df.iloc[:, i][j])\n",
    "\n",
    "        if standard == 1 : \n",
    "            print('{} : {}'.format(df.columns[i], target_theme[df.columns[i]]))"
   ]
  },
  {
   "cell_type": "code",
   "execution_count": null,
   "metadata": {},
   "outputs": [],
   "source": [
    "for i in df_final.Theme:\n",
    "    make_portfolio(i, test_date)"
   ]
  }
 ],
 "metadata": {
  "kernelspec": {
   "display_name": "Python 3",
   "language": "python",
   "name": "python3"
  },
  "language_info": {
   "codemirror_mode": {
    "name": "ipython",
    "version": 3
   },
   "file_extension": ".py",
   "mimetype": "text/x-python",
   "name": "python",
   "nbconvert_exporter": "python",
   "pygments_lexer": "ipython3",
   "version": "3.8.2"
  }
 },
 "nbformat": 4,
 "nbformat_minor": 2
}
