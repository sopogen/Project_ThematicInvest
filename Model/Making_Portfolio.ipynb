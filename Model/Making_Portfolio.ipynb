{
 "cells": [
  {
   "cell_type": "markdown",
   "metadata": {},
   "source": [
    "# Making own theme portfolio"
   ]
  },
  {
   "cell_type": "code",
   "execution_count": 1,
   "metadata": {},
   "outputs": [],
   "source": [
    "from bs4 import BeautifulSoup as bs\n",
    "from urllib.request import urlopen\n",
    "from urllib.parse import quote\n",
    "import requests\n",
    "import numpy as np\n",
    "import pandas as pd\n",
    "import json\n",
    "import matplotlib.pyplot as plt\n",
    "%matplotlib inline\n",
    "import re\n",
    "import datetime\n",
    "from datetime import timedelta"
   ]
  },
  {
   "cell_type": "markdown",
   "metadata": {},
   "source": [
    "# Input"
   ]
  },
  {
   "cell_type": "code",
   "execution_count": 2,
   "metadata": {},
   "outputs": [],
   "source": [
    "them='돼지열병'\n",
    "end_date='2020-06-29'\n",
    "\n",
    "themes=pd.read_csv(\"./Data/filtered_data/final_data.csv\",index_col=0)"
   ]
  },
  {
   "cell_type": "code",
   "execution_count": 3,
   "metadata": {},
   "outputs": [],
   "source": [
    "company_list=themes[themes['Theme']==them]['Company'].iloc[0]\n",
    "company_list=str(company_list).replace('[','').replace(']','').replace(\"\\'\",'').replace(' ', '').split(',')\n",
    "\n",
    "target_company=company_list"
   ]
  },
  {
   "cell_type": "code",
   "execution_count": 4,
   "metadata": {},
   "outputs": [],
   "source": [
    "def date_by_deducting_business_days(from_date):\n",
    "    business_days_to_deduct = 6\n",
    "    current_date = from_date\n",
    "    while business_days_to_deduct > 0:\n",
    "        current_date += datetime.timedelta(days=-1)\n",
    "        weekday = current_date.weekday()\n",
    "        if weekday >= 5: # sunday = 6\n",
    "            continue\n",
    "        business_days_to_deduct -= 1\n",
    "    return current_date\n",
    "\n",
    "convert_end_date = datetime.datetime.strptime(end_date,'%Y-%m-%d').date()\n",
    "start_date=datetime.date.strftime(date_by_deducting_business_days(convert_end_date),'%Y-%m-%d')"
   ]
  },
  {
   "cell_type": "code",
   "execution_count": 7,
   "metadata": {},
   "outputs": [],
   "source": [
    "kospi = pd.read_csv(\"Data/stock_data/kospi.csv\", encoding='cp949')\n",
    "kosdaq = pd.read_csv(\"Data/stock_data/kosdaq.csv\", encoding='cp949')"
   ]
  },
  {
   "cell_type": "code",
   "execution_count": 8,
   "metadata": {},
   "outputs": [
    {
     "name": "stdout",
     "output_type": "stream",
     "text": [
      "027740 마니커\n",
      "136480 하림\n",
      "208140 정다운\n",
      "072020 중앙백신\n",
      "195500 마니커에프앤지\n",
      "073560 우리손에프앤지\n",
      "005940 NH투자증권\n",
      "900340 윙입푸드\n",
      "178780 유테크\n",
      "015890 태경산업\n",
      "003380 하림지주\n",
      "198440 고려시멘트\n",
      "027970 세하\n",
      "060590 씨티씨바이오\n",
      "027710 팜스토리\n",
      "043200 파루\n",
      "018620 우진비앤지\n",
      "035290 더블유에프엠\n",
      "041960 코미팜\n",
      "033250 체시스\n",
      "044960 이글벳\n",
      "003540 대신증권\n",
      "054670 대한뉴팜\n",
      "086060 진바이오텍\n",
      "036480 대성미생물\n",
      "006980 우성사료\n",
      "025870 신라에스지\n",
      "001790 대한제당\n",
      "353810 이지바이오\n",
      "005930 삼성전자\n",
      "052670 제일바이오\n",
      "136490 선진\n"
     ]
    }
   ],
   "source": [
    "target_theme = {}\n",
    "for target in target_company:\n",
    "    try:\n",
    "        code = kosdaq[kosdaq['기업명']==target].iloc[0]['종목코드']\n",
    "        code = str(code).zfill(6)\n",
    "    except:\n",
    "        code = kospi[kospi['기업명']==target].iloc[0]['종목코드']\n",
    "        code = str(code).zfill(6)\n",
    "    print(code, target)\n",
    "    target_theme[code] = target"
   ]
  },
  {
   "cell_type": "markdown",
   "metadata": {},
   "source": [
    "## Scraping stock index data"
   ]
  },
  {
   "cell_type": "code",
   "execution_count": 9,
   "metadata": {},
   "outputs": [],
   "source": [
    "def date_format(d):\n",
    "    d = str(d).replace('-', '.')\n",
    "    yyyy = int(d.split('.')[0])\n",
    "    mm = int(d.split('.')[1])\n",
    "    dd = int(d.split('.')[2])\n",
    "    \n",
    "    this_date = dt.date(yyyy, mm, dd)\n",
    "    return this_date"
   ]
  },
  {
   "cell_type": "markdown",
   "metadata": {},
   "source": [
    "- Korean stock index data (from NAVER)"
   ]
  },
  {
   "cell_type": "code",
   "execution_count": 10,
   "metadata": {},
   "outputs": [],
   "source": [
    "def date_format(d=''):\n",
    "    if d != '':\n",
    "        this_date = pd.to_datetime(d).date()\n",
    "    else:\n",
    "        this_date = pd.Timestamp.today().date()\n",
    "    return (this_date)"
   ]
  },
  {
   "cell_type": "code",
   "execution_count": 11,
   "metadata": {},
   "outputs": [],
   "source": [
    "def stock_info(stock_cd):\n",
    "    url_float = 'http://companyinfo.stock.naver.com/v1/company/c1010001.aspx?cmp_cd=' + stock_cd\n",
    "    source = urlopen(url_float).read()\n",
    "    soup = bs(source, 'lxml')\n",
    "    print(stock_cd)\n",
    "    \n",
    "    tmp = soup.find(id='cTB11').find_all('tr')[6].td.text\n",
    "    tmp = tmp.replace('\\r', '').replace('\\n','').replace('\\t','')\n",
    "    tmp = re.split('/', tmp)\n",
    "                   \n",
    "    outstanding = tmp[0].replace(',','').replace('주','').replace(' ','')\n",
    "    outstanding = int(outstanding)\n",
    "                   \n",
    "    floating = tmp[1].replace(' ','').replace('%','')\n",
    "    floating = float(floating)\n",
    "                   \n",
    "    name = soup.find(id='pArea').find('div').find('div').find('tr').find('td').find('span').text\n",
    "    \n",
    "    stock_outstanding[stock_cd] = outstanding\n",
    "    stock_floating[stock_cd] = floating\n",
    "    stock_name[stock_cd] = name"
   ]
  },
  {
   "cell_type": "code",
   "execution_count": 13,
   "metadata": {},
   "outputs": [],
   "source": [
    "#stock_outstanding = dict()\n",
    "#stock_floating = dict()\n",
    "#stock_name = dict()\n",
    "#for stock_cd in target_theme.keys():\n",
    "#    stock_info(stock_cd)"
   ]
  },
  {
   "cell_type": "code",
   "execution_count": 14,
   "metadata": {},
   "outputs": [],
   "source": [
    "def historical_index_naver(index_cd, start_date='', end_date='', page_n=1, last_page=0):\n",
    "    \n",
    "    if start_date:\n",
    "        start_date = date_format(start_date)\n",
    "    else:\n",
    "        start_date = dt.date.today()\n",
    "    if end_date:\n",
    "        end_date = date_format(end_date)+datetime.timedelta(days=-1)\n",
    "    else:\n",
    "        end_date = dt.date.today()\n",
    "    \n",
    "    naver_index = 'http://finance.naver.com/sise/sise_index_day.nhn?code=' + index_cd + '&page=' + str(page_n)\n",
    "    \n",
    "    source = urlopen(naver_index).read()\n",
    "    source = bs(source, 'lxml')\n",
    "    \n",
    "    dates = source.find_all('td', class_='date')\n",
    "    prices = source.find_all('td', class_='number_1')\n",
    "    \n",
    "    for n in range(len(dates)):\n",
    "        if dates[n].text.split('.')[0].isdigit():\n",
    "            \n",
    "            # Handling date\n",
    "            this_date = dates[n].text\n",
    "            this_date = date_format(this_date)\n",
    "            \n",
    "            if this_date <= end_date and this_date >= start_date:\n",
    "                \n",
    "                # Handling closing price\n",
    "                this_close = prices[n*4].text\n",
    "                this_close = this_close.replace(',','')\n",
    "                this_close = float(this_close)\n",
    "                \n",
    "                historical_prices[this_date] = this_close\n",
    "\n",
    "            elif this_date < start_date:\n",
    "                return historical_prices\n",
    "            \n",
    "    \n",
    "    # Navigating page\n",
    "    if last_page == 0:\n",
    "        last_page = source.find('td', class_='pgRR').find('a')['href']\n",
    "        \n",
    "        last_page = last_page.split('&')[1]\n",
    "        last_page = last_page.split('=')[1]\n",
    "        last_page = int(last_page)\n",
    "        \n",
    "    if page_n < last_page:\n",
    "        page_n += 1\n",
    "        historical_index_naver(index_cd, start_date, end_date, page_n, last_page)\n",
    "        \n",
    "    return historical_prices"
   ]
  },
  {
   "cell_type": "code",
   "execution_count": 15,
   "metadata": {},
   "outputs": [],
   "source": [
    "def historical_stock_naver(stock_cd, start_date='', end_date='', page_n=1, last_page=0):\n",
    "    \n",
    "    if start_date:\n",
    "        start_date = date_format(start_date)\n",
    "    else:\n",
    "        start_date = dt.date.today()\n",
    "    if end_date:\n",
    "        end_date = date_format(end_date)+datetime.timedelta(days=-1)\n",
    "    else:\n",
    "        end_date = dt.date.today()\n",
    "    \n",
    "    naver_stock = 'http://finance.naver.com/item/sise_day.nhn?code=' + stock_cd + '&page=' + str(page_n)\n",
    "    \n",
    "    source = urlopen(naver_stock).read()\n",
    "    #source = requests.get(naver_stock)\n",
    "    source = bs(source, 'lxml')\n",
    "    \n",
    "    dates = source.find_all('span', class_='tah p10 gray03')\n",
    "    prices = source.find_all('td', class_='num')\n",
    "    \n",
    "    for n in range(len(dates)):\n",
    "        \n",
    "        if len(dates) > 0:\n",
    "            \n",
    "            # Handling date\n",
    "            this_date = dates[n].text\n",
    "            this_date = date_format(this_date)\n",
    "            \n",
    "            if this_date <= end_date and this_date >= start_date:\n",
    "                \n",
    "                # Handling closing price\n",
    "                this_close = prices[n*6].text\n",
    "                this_close = this_close.replace(',','')\n",
    "                this_close = float(this_close)\n",
    "                \n",
    "                historical_prices[this_date] = this_close\n",
    "\n",
    "            elif this_date < start_date:\n",
    "                return historical_prices\n",
    "            \n",
    "    \n",
    "    # Navigating page\n",
    "    if last_page == 0:\n",
    "        last_page = source.find('td', class_='pgRR').find('a')['href']\n",
    "        last_page = last_page.split('&')[1]\n",
    "        last_page = last_page.split('=')[1]\n",
    "        last_page = int(last_page)\n",
    "        \n",
    "    if page_n < last_page:\n",
    "        page_n += 1\n",
    "        historical_stock_naver(stock_cd, start_date, end_date, page_n, last_page)\n",
    "        \n",
    "    return historical_prices"
   ]
  },
  {
   "cell_type": "code",
   "execution_count": 16,
   "metadata": {},
   "outputs": [
    {
     "name": "stdout",
     "output_type": "stream",
     "text": [
      "{datetime.date(2020, 6, 26): 895.0, datetime.date(2020, 6, 25): 900.0, datetime.date(2020, 6, 24): 899.0, datetime.date(2020, 6, 23): 908.0, datetime.date(2020, 6, 22): 926.0, datetime.date(2020, 6, 19): 892.0}\n",
      "{datetime.date(2020, 6, 26): 2875.0, datetime.date(2020, 6, 25): 2880.0, datetime.date(2020, 6, 24): 2910.0, datetime.date(2020, 6, 23): 2935.0, datetime.date(2020, 6, 22): 2920.0, datetime.date(2020, 6, 19): 2825.0}\n",
      "{datetime.date(2020, 6, 26): 2185.0, datetime.date(2020, 6, 25): 2180.0, datetime.date(2020, 6, 24): 2190.0, datetime.date(2020, 6, 23): 2190.0, datetime.date(2020, 6, 22): 2195.0, datetime.date(2020, 6, 19): 2170.0}\n",
      "{datetime.date(2020, 6, 26): 16050.0, datetime.date(2020, 6, 25): 16050.0, datetime.date(2020, 6, 24): 16450.0, datetime.date(2020, 6, 23): 16500.0, datetime.date(2020, 6, 22): 16750.0, datetime.date(2020, 6, 19): 17000.0}\n",
      "{datetime.date(2020, 6, 26): 9900.0, datetime.date(2020, 6, 25): 10150.0, datetime.date(2020, 6, 24): 9860.0, datetime.date(2020, 6, 23): 10100.0, datetime.date(2020, 6, 22): 10100.0, datetime.date(2020, 6, 19): 9710.0}\n",
      "{datetime.date(2020, 6, 26): 1915.0, datetime.date(2020, 6, 25): 1885.0, datetime.date(2020, 6, 24): 1955.0, datetime.date(2020, 6, 23): 1935.0, datetime.date(2020, 6, 22): 2005.0, datetime.date(2020, 6, 19): 1930.0}\n",
      "{datetime.date(2020, 6, 26): 8480.0, datetime.date(2020, 6, 25): 8440.0, datetime.date(2020, 6, 24): 8820.0, datetime.date(2020, 6, 23): 9020.0, datetime.date(2020, 6, 22): 9470.0, datetime.date(2020, 6, 19): 9710.0}\n",
      "{datetime.date(2020, 6, 26): 1470.0, datetime.date(2020, 6, 25): 1470.0, datetime.date(2020, 6, 24): 1500.0, datetime.date(2020, 6, 23): 1500.0, datetime.date(2020, 6, 22): 1540.0, datetime.date(2020, 6, 19): 1550.0}\n",
      "{datetime.date(2020, 6, 26): 3020.0, datetime.date(2020, 6, 25): 2775.0, datetime.date(2020, 6, 24): 2385.0, datetime.date(2020, 6, 23): 2360.0, datetime.date(2020, 6, 22): 2405.0, datetime.date(2020, 6, 19): 2015.0}\n",
      "{datetime.date(2020, 6, 26): 4855.0, datetime.date(2020, 6, 25): 4860.0, datetime.date(2020, 6, 24): 4860.0, datetime.date(2020, 6, 23): 4855.0, datetime.date(2020, 6, 22): 4855.0, datetime.date(2020, 6, 19): 4880.0}\n",
      "{datetime.date(2020, 6, 26): 6950.0, datetime.date(2020, 6, 25): 6680.0, datetime.date(2020, 6, 24): 6850.0, datetime.date(2020, 6, 23): 6870.0, datetime.date(2020, 6, 22): 6960.0, datetime.date(2020, 6, 19): 6790.0}\n",
      "{datetime.date(2020, 6, 26): 3275.0, datetime.date(2020, 6, 25): 3195.0, datetime.date(2020, 6, 24): 3300.0, datetime.date(2020, 6, 23): 3185.0, datetime.date(2020, 6, 22): 3215.0, datetime.date(2020, 6, 19): 3215.0}\n",
      "{datetime.date(2020, 6, 26): 1730.0, datetime.date(2020, 6, 25): 1800.0, datetime.date(2020, 6, 24): 1800.0, datetime.date(2020, 6, 23): 1870.0, datetime.date(2020, 6, 22): 1895.0, datetime.date(2020, 6, 19): 1930.0}\n",
      "{datetime.date(2020, 6, 26): 10000.0, datetime.date(2020, 6, 25): 11000.0, datetime.date(2020, 6, 24): 10050.0, datetime.date(2020, 6, 23): 9300.0, datetime.date(2020, 6, 22): 8760.0, datetime.date(2020, 6, 19): 8550.0}\n",
      "{datetime.date(2020, 6, 26): 1120.0, datetime.date(2020, 6, 25): 1110.0, datetime.date(2020, 6, 24): 1135.0, datetime.date(2020, 6, 23): 1130.0, datetime.date(2020, 6, 22): 1150.0, datetime.date(2020, 6, 19): 1095.0}\n",
      "{datetime.date(2020, 6, 26): 2290.0, datetime.date(2020, 6, 25): 2285.0, datetime.date(2020, 6, 24): 2365.0, datetime.date(2020, 6, 23): 2330.0, datetime.date(2020, 6, 22): 2320.0, datetime.date(2020, 6, 19): 2290.0}\n",
      "{datetime.date(2020, 6, 26): 2390.0, datetime.date(2020, 6, 25): 2375.0, datetime.date(2020, 6, 24): 2430.0, datetime.date(2020, 6, 23): 2395.0, datetime.date(2020, 6, 22): 2420.0, datetime.date(2020, 6, 19): 2525.0}\n",
      "{datetime.date(2020, 6, 26): 11750.0, datetime.date(2020, 6, 25): 11750.0, datetime.date(2020, 6, 24): 11750.0, datetime.date(2020, 6, 23): 11750.0, datetime.date(2020, 6, 22): 11750.0, datetime.date(2020, 6, 19): 11750.0}\n",
      "{datetime.date(2020, 6, 26): 17250.0, datetime.date(2020, 6, 25): 16900.0, datetime.date(2020, 6, 24): 16800.0, datetime.date(2020, 6, 23): 16450.0, datetime.date(2020, 6, 22): 16950.0, datetime.date(2020, 6, 19): 16950.0}\n",
      "{datetime.date(2020, 6, 26): 2125.0, datetime.date(2020, 6, 25): 2125.0, datetime.date(2020, 6, 24): 2200.0, datetime.date(2020, 6, 23): 2245.0, datetime.date(2020, 6, 22): 2285.0, datetime.date(2020, 6, 19): 2195.0}\n",
      "{datetime.date(2020, 6, 26): 6870.0, datetime.date(2020, 6, 25): 6790.0, datetime.date(2020, 6, 24): 6890.0, datetime.date(2020, 6, 23): 6910.0, datetime.date(2020, 6, 22): 6880.0, datetime.date(2020, 6, 19): 6830.0}\n",
      "{datetime.date(2020, 6, 26): 9860.0, datetime.date(2020, 6, 25): 9840.0, datetime.date(2020, 6, 24): 10000.0, datetime.date(2020, 6, 23): 9940.0, datetime.date(2020, 6, 22): 10050.0, datetime.date(2020, 6, 19): 10200.0}\n",
      "{datetime.date(2020, 6, 26): 11700.0, datetime.date(2020, 6, 25): 11900.0, datetime.date(2020, 6, 24): 12100.0, datetime.date(2020, 6, 23): 11800.0, datetime.date(2020, 6, 22): 12100.0, datetime.date(2020, 6, 19): 12250.0}\n",
      "{datetime.date(2020, 6, 26): 5730.0, datetime.date(2020, 6, 25): 5800.0, datetime.date(2020, 6, 24): 5820.0, datetime.date(2020, 6, 23): 5850.0, datetime.date(2020, 6, 22): 6140.0, datetime.date(2020, 6, 19): 5870.0}\n",
      "{datetime.date(2020, 6, 26): 14500.0, datetime.date(2020, 6, 25): 14400.0, datetime.date(2020, 6, 24): 14500.0, datetime.date(2020, 6, 23): 14550.0, datetime.date(2020, 6, 22): 14900.0, datetime.date(2020, 6, 19): 15550.0}\n",
      "{datetime.date(2020, 6, 26): 3055.0, datetime.date(2020, 6, 25): 3055.0, datetime.date(2020, 6, 24): 3085.0, datetime.date(2020, 6, 23): 3070.0, datetime.date(2020, 6, 22): 3125.0, datetime.date(2020, 6, 19): 3145.0}\n",
      "{datetime.date(2020, 6, 26): 9650.0, datetime.date(2020, 6, 25): 10300.0, datetime.date(2020, 6, 24): 9370.0, datetime.date(2020, 6, 23): 9340.0, datetime.date(2020, 6, 22): 9310.0, datetime.date(2020, 6, 19): 9500.0}\n",
      "{datetime.date(2020, 6, 26): 19600.0, datetime.date(2020, 6, 25): 19700.0, datetime.date(2020, 6, 24): 19850.0, datetime.date(2020, 6, 23): 19650.0, datetime.date(2020, 6, 22): 19650.0, datetime.date(2020, 6, 19): 20200.0}\n",
      "{datetime.date(2020, 6, 26): 54700.0, datetime.date(2020, 6, 25): 61200.0, datetime.date(2020, 6, 24): 61200.0, datetime.date(2020, 6, 23): 60400.0, datetime.date(2020, 6, 22): 54700.0, datetime.date(2020, 6, 19): 42150.0}\n",
      "{datetime.date(2020, 6, 26): 53300.0, datetime.date(2020, 6, 25): 51900.0, datetime.date(2020, 6, 24): 52900.0, datetime.date(2020, 6, 23): 51400.0, datetime.date(2020, 6, 22): 52000.0, datetime.date(2020, 6, 19): 52900.0}\n",
      "{datetime.date(2020, 6, 26): 7880.0, datetime.date(2020, 6, 25): 7780.0, datetime.date(2020, 6, 24): 8000.0, datetime.date(2020, 6, 23): 7950.0, datetime.date(2020, 6, 22): 8130.0, datetime.date(2020, 6, 19): 8130.0}\n",
      "{datetime.date(2020, 6, 26): 9680.0, datetime.date(2020, 6, 25): 9730.0, datetime.date(2020, 6, 24): 9720.0, datetime.date(2020, 6, 23): 9650.0, datetime.date(2020, 6, 22): 9580.0, datetime.date(2020, 6, 19): 9530.0}\n"
     ]
    }
   ],
   "source": [
    "theme_historical_prices = dict()\n",
    "\n",
    "for stock_cd in target_theme.keys():\n",
    "    historical_prices = dict()\n",
    "    historical_stock_naver(stock_cd, start_date, end_date)\n",
    "    \n",
    "    theme_historical_prices[stock_cd] = historical_prices\n",
    "    \n",
    "theme_historical_price = pd.DataFrame(theme_historical_prices)\n",
    "theme_historical_price.sort_index(axis=1, inplace=True)\n",
    "\n",
    "theme_historical_price = theme_historical_price.fillna(method='ffill')\n",
    "if theme_historical_price.isnull().values.any():\n",
    "    theme_historical_price = theme_historical_price.fillna(method='bfill')"
   ]
  },
  {
   "cell_type": "code",
   "execution_count": null,
   "metadata": {},
   "outputs": [],
   "source": [
    "theme_historical_price['kospi200'] = historical_index_naver('KPI200', start_date, end_date).values()"
   ]
  },
  {
   "cell_type": "code",
   "execution_count": 59,
   "metadata": {},
   "outputs": [],
   "source": [
    "df = pd.DataFrame(np.zeros([6,len(target_company)+1]), columns=theme_historical_price.columns, index=theme_historical_price.index)"
   ]
  },
  {
   "cell_type": "code",
   "execution_count": 61,
   "metadata": {},
   "outputs": [
    {
     "data": {
      "text/html": [
       "<div>\n",
       "<style scoped>\n",
       "    .dataframe tbody tr th:only-of-type {\n",
       "        vertical-align: middle;\n",
       "    }\n",
       "\n",
       "    .dataframe tbody tr th {\n",
       "        vertical-align: top;\n",
       "    }\n",
       "\n",
       "    .dataframe thead th {\n",
       "        text-align: right;\n",
       "    }\n",
       "</style>\n",
       "<table border=\"1\" class=\"dataframe\">\n",
       "  <thead>\n",
       "    <tr style=\"text-align: right;\">\n",
       "      <th></th>\n",
       "      <th>001040</th>\n",
       "      <th>003240</th>\n",
       "      <th>023530</th>\n",
       "      <th>057050</th>\n",
       "      <th>138250</th>\n",
       "      <th>kospi200</th>\n",
       "    </tr>\n",
       "  </thead>\n",
       "  <tbody>\n",
       "    <tr>\n",
       "      <td>2020-06-29</td>\n",
       "      <td>-0.017794</td>\n",
       "      <td>-0.034632</td>\n",
       "      <td>-0.034166</td>\n",
       "      <td>-0.025078</td>\n",
       "      <td>-0.039841</td>\n",
       "      <td>-0.019206</td>\n",
       "    </tr>\n",
       "    <tr>\n",
       "      <td>2020-06-26</td>\n",
       "      <td>0.004662</td>\n",
       "      <td>0.001395</td>\n",
       "      <td>0.015248</td>\n",
       "      <td>0.013761</td>\n",
       "      <td>-0.022989</td>\n",
       "      <td>0.012880</td>\n",
       "    </tr>\n",
       "    <tr>\n",
       "      <td>2020-06-25</td>\n",
       "      <td>-0.033958</td>\n",
       "      <td>-0.026536</td>\n",
       "      <td>-0.028387</td>\n",
       "      <td>-0.037209</td>\n",
       "      <td>0.007491</td>\n",
       "      <td>-0.024917</td>\n",
       "    </tr>\n",
       "    <tr>\n",
       "      <td>2020-06-24</td>\n",
       "      <td>0.011325</td>\n",
       "      <td>-0.002721</td>\n",
       "      <td>0.000000</td>\n",
       "      <td>0.013453</td>\n",
       "      <td>0.071698</td>\n",
       "      <td>0.016603</td>\n",
       "    </tr>\n",
       "    <tr>\n",
       "      <td>2020-06-23</td>\n",
       "      <td>-0.010309</td>\n",
       "      <td>-0.001357</td>\n",
       "      <td>-0.016311</td>\n",
       "      <td>-0.001515</td>\n",
       "      <td>0.020325</td>\n",
       "      <td>0.001844</td>\n",
       "    </tr>\n",
       "  </tbody>\n",
       "</table>\n",
       "</div>"
      ],
      "text/plain": [
       "              001040    003240    023530    057050    138250  kospi200\n",
       "2020-06-29 -0.017794 -0.034632 -0.034166 -0.025078 -0.039841 -0.019206\n",
       "2020-06-26  0.004662  0.001395  0.015248  0.013761 -0.022989  0.012880\n",
       "2020-06-25 -0.033958 -0.026536 -0.028387 -0.037209  0.007491 -0.024917\n",
       "2020-06-24  0.011325 -0.002721  0.000000  0.013453  0.071698  0.016603\n",
       "2020-06-23 -0.010309 -0.001357 -0.016311 -0.001515  0.020325  0.001844"
      ]
     },
     "execution_count": 61,
     "metadata": {},
     "output_type": "execute_result"
    }
   ],
   "source": [
    "for i in range(5):\n",
    "    df.iloc[i] = (theme_historical_price.iloc[i] - theme_historical_price.iloc[i+1])/theme_historical_price.iloc[i]\n",
    "df.drop(index=[df.index[-1]], inplace=True)"
   ]
  },
  {
   "cell_type": "markdown",
   "metadata": {},
   "source": [
    "# Establishing Threshold"
   ]
  },
  {
   "cell_type": "code",
   "execution_count": 79,
   "metadata": {},
   "outputs": [],
   "source": [
    "def threshold(data):\n",
    "    if data < -0.05 or data > 0.05: return False\n",
    "    else : return True"
   ]
  },
  {
   "cell_type": "code",
   "execution_count": 84,
   "metadata": {},
   "outputs": [
    {
     "name": "stdout",
     "output_type": "stream",
     "text": [
      "오늘의 추천종목은 : \n",
      "001040 : CJ\n",
      "003240 : 태광산업\n",
      "023530 : 롯데쇼핑\n",
      "057050 : 현대홈쇼핑\n"
     ]
    }
   ],
   "source": [
    "print('오늘의 추천종목은 : ')\n",
    "for i in range(len(target_company)):\n",
    "    standard = 1\n",
    "    for j in range(5):\n",
    "        standard *= threshold(df.iloc[:, i][j])\n",
    "        \n",
    "    if standard == 1 : \n",
    "        print('{} : {}'.format(df.columns[i], target_theme[df.columns[i]]))"
   ]
  },
  {
   "cell_type": "markdown",
   "metadata": {},
   "source": [
    "# Making a Graph"
   ]
  },
  {
   "cell_type": "code",
   "execution_count": 63,
   "metadata": {},
   "outputs": [],
   "source": [
    "tmp = {'Outstanding' : stock_outstanding,\\\n",
    "       'Floating' : stock_floating,\\\n",
    "       'Price' : theme_historical_price.iloc[0],\\\n",
    "       'Name' : stock_name}\n",
    "theme_info = pd.DataFrame(tmp)"
   ]
  },
  {
   "cell_type": "code",
   "execution_count": 64,
   "metadata": {},
   "outputs": [
    {
     "data": {
      "text/html": [
       "<div>\n",
       "<style scoped>\n",
       "    .dataframe tbody tr th:only-of-type {\n",
       "        vertical-align: middle;\n",
       "    }\n",
       "\n",
       "    .dataframe tbody tr th {\n",
       "        vertical-align: top;\n",
       "    }\n",
       "\n",
       "    .dataframe thead th {\n",
       "        text-align: right;\n",
       "    }\n",
       "</style>\n",
       "<table border=\"1\" class=\"dataframe\">\n",
       "  <thead>\n",
       "    <tr style=\"text-align: right;\">\n",
       "      <th></th>\n",
       "      <th>Outstanding</th>\n",
       "      <th>Floating</th>\n",
       "      <th>Price</th>\n",
       "      <th>Name</th>\n",
       "      <th>f Market Cap</th>\n",
       "      <th>Market Cap</th>\n",
       "    </tr>\n",
       "  </thead>\n",
       "  <tbody>\n",
       "    <tr>\n",
       "      <td>001040</td>\n",
       "      <td>29176998.0</td>\n",
       "      <td>45.68</td>\n",
       "      <td>84300.0</td>\n",
       "      <td>CJ</td>\n",
       "      <td>1.123555e+12</td>\n",
       "      <td>2.459621e+10</td>\n",
       "    </tr>\n",
       "    <tr>\n",
       "      <td>003240</td>\n",
       "      <td>1113400.0</td>\n",
       "      <td>20.59</td>\n",
       "      <td>693000.0</td>\n",
       "      <td>태광산업</td>\n",
       "      <td>1.588696e+11</td>\n",
       "      <td>7.715862e+09</td>\n",
       "    </tr>\n",
       "  </tbody>\n",
       "</table>\n",
       "</div>"
      ],
      "text/plain": [
       "        Outstanding  Floating     Price  Name  f Market Cap    Market Cap\n",
       "001040   29176998.0     45.68   84300.0    CJ  1.123555e+12  2.459621e+10\n",
       "003240    1113400.0     20.59  693000.0  태광산업  1.588696e+11  7.715862e+09"
      ]
     },
     "execution_count": 64,
     "metadata": {},
     "output_type": "execute_result"
    }
   ],
   "source": [
    "theme_info['f Market Cap'] = theme_info['Outstanding'] * theme_info['Floating'] * theme_info['Price'] * 0.01\n",
    "theme_info['Market Cap'] = theme_info['Outstanding'] * theme_info['Price'] * 0.01\n",
    "theme_info.head(2)"
   ]
  },
  {
   "cell_type": "code",
   "execution_count": 65,
   "metadata": {},
   "outputs": [
    {
     "data": {
      "text/html": [
       "<div>\n",
       "<style scoped>\n",
       "    .dataframe tbody tr th:only-of-type {\n",
       "        vertical-align: middle;\n",
       "    }\n",
       "\n",
       "    .dataframe tbody tr th {\n",
       "        vertical-align: top;\n",
       "    }\n",
       "\n",
       "    .dataframe thead th {\n",
       "        text-align: right;\n",
       "    }\n",
       "</style>\n",
       "<table border=\"1\" class=\"dataframe\">\n",
       "  <thead>\n",
       "    <tr style=\"text-align: right;\">\n",
       "      <th></th>\n",
       "      <th>001040</th>\n",
       "      <th>003240</th>\n",
       "      <th>023530</th>\n",
       "      <th>057050</th>\n",
       "      <th>138250</th>\n",
       "      <th>kospi200</th>\n",
       "    </tr>\n",
       "  </thead>\n",
       "  <tbody>\n",
       "    <tr>\n",
       "      <td>2020-06-29</td>\n",
       "      <td>1.123555e+12</td>\n",
       "      <td>1.588696e+11</td>\n",
       "      <td>8.169778e+11</td>\n",
       "      <td>4.175582e+11</td>\n",
       "      <td>1.643753e+11</td>\n",
       "      <td>NaN</td>\n",
       "    </tr>\n",
       "    <tr>\n",
       "      <td>2020-06-26</td>\n",
       "      <td>1.143547e+12</td>\n",
       "      <td>1.643716e+11</td>\n",
       "      <td>8.448903e+11</td>\n",
       "      <td>4.280299e+11</td>\n",
       "      <td>1.709241e+11</td>\n",
       "      <td>NaN</td>\n",
       "    </tr>\n",
       "    <tr>\n",
       "      <td>2020-06-25</td>\n",
       "      <td>1.138216e+12</td>\n",
       "      <td>1.641423e+11</td>\n",
       "      <td>8.320076e+11</td>\n",
       "      <td>4.221396e+11</td>\n",
       "      <td>1.748534e+11</td>\n",
       "      <td>NaN</td>\n",
       "    </tr>\n",
       "    <tr>\n",
       "      <td>2020-06-24</td>\n",
       "      <td>1.176867e+12</td>\n",
       "      <td>1.684981e+11</td>\n",
       "      <td>8.556259e+11</td>\n",
       "      <td>4.378471e+11</td>\n",
       "      <td>1.735437e+11</td>\n",
       "      <td>NaN</td>\n",
       "    </tr>\n",
       "    <tr>\n",
       "      <td>2020-06-23</td>\n",
       "      <td>1.163539e+12</td>\n",
       "      <td>1.689566e+11</td>\n",
       "      <td>8.556259e+11</td>\n",
       "      <td>4.319568e+11</td>\n",
       "      <td>1.611009e+11</td>\n",
       "      <td>NaN</td>\n",
       "    </tr>\n",
       "  </tbody>\n",
       "</table>\n",
       "</div>"
      ],
      "text/plain": [
       "                  001040        003240        023530        057050  \\\n",
       "2020-06-29  1.123555e+12  1.588696e+11  8.169778e+11  4.175582e+11   \n",
       "2020-06-26  1.143547e+12  1.643716e+11  8.448903e+11  4.280299e+11   \n",
       "2020-06-25  1.138216e+12  1.641423e+11  8.320076e+11  4.221396e+11   \n",
       "2020-06-24  1.176867e+12  1.684981e+11  8.556259e+11  4.378471e+11   \n",
       "2020-06-23  1.163539e+12  1.689566e+11  8.556259e+11  4.319568e+11   \n",
       "\n",
       "                  138250  kospi200  \n",
       "2020-06-29  1.643753e+11       NaN  \n",
       "2020-06-26  1.709241e+11       NaN  \n",
       "2020-06-25  1.748534e+11       NaN  \n",
       "2020-06-24  1.735437e+11       NaN  \n",
       "2020-06-23  1.611009e+11       NaN  "
      ]
     },
     "execution_count": 65,
     "metadata": {},
     "output_type": "execute_result"
    }
   ],
   "source": [
    "theme_historical_mc = theme_historical_price * theme_info['Outstanding'] * theme_info['Floating'] * 0.01\n",
    "theme_historical_mc.head()"
   ]
  },
  {
   "cell_type": "code",
   "execution_count": 66,
   "metadata": {},
   "outputs": [],
   "source": [
    "theme = pd.DataFrame()\n",
    "theme['Theme Market Cap'] = theme_historical_mc.sum(axis=1)\n",
    "theme.sort_index(inplace=True)\n",
    "theme['index'] = theme['Theme Market Cap'] / theme['Theme Market Cap'][0] * 100"
   ]
  },
  {
   "cell_type": "code",
   "execution_count": 67,
   "metadata": {},
   "outputs": [],
   "source": [
    "historical_prices = dict()\n",
    "kospi200 = historical_index_naver('KPI200', start_date, end_date)\n",
    "k200 = pd.DataFrame({'K200':kospi200})"
   ]
  },
  {
   "cell_type": "code",
   "execution_count": 68,
   "metadata": {},
   "outputs": [
    {
     "name": "stderr",
     "output_type": "stream",
     "text": [
      "C:\\Users\\space\\AppData\\Local\\Continuum\\anaconda3\\lib\\site-packages\\pandas\\plotting\\_matplotlib\\converter.py:103: FutureWarning: Using an implicitly registered datetime converter for a matplotlib plotting method. The converter was registered by pandas on import. Future versions of pandas will require you to explicitly register matplotlib converters.\n",
      "\n",
      "To register the converters:\n",
      "\t>>> from pandas.plotting import register_matplotlib_converters\n",
      "\t>>> register_matplotlib_converters()\n",
      "  warnings.warn(msg, FutureWarning)\n"
     ]
    },
    {
     "data": {
      "image/png": "[encoded data removed]",
      "text/plain": [
       "<Figure size 720x360 with 1 Axes>"
      ]
     },
     "metadata": {
      "needs_background": "light"
     },
     "output_type": "display_data"
    }
   ],
   "source": [
    "plt.figure(figsize=(10,5))\n",
    "plt.plot(theme['index'] / theme['index'][0] * 100, label='Theme')\n",
    "plt.plot(k200['K200'] / k200['K200'][0] * 100, label='KOSPI200')\n",
    "plt.legend(loc=0)\n",
    "plt.grid(True, color='0.7', linestyle=':', linewidth=1)"
   ]
  },
  {
   "cell_type": "code",
   "execution_count": 69,
   "metadata": {},
   "outputs": [
    {
     "data": {
      "image/png": "[encoded data removed]",
      "text/plain": [
       "<Figure size 720x360 with 1 Axes>"
      ]
     },
     "metadata": {
      "needs_background": "light"
     },
     "output_type": "display_data"
    }
   ],
   "source": [
    "plt.rcParams['font.family'] = 'Malgun Gothic'\n",
    "plt.rcParams['font.size'] = 12\n",
    "plt.rcParams['axes.unicode_minus'] = False\n",
    "\n",
    "plt.figure(figsize=(10,5))\n",
    "for i in range(len(target_theme)):\n",
    "    v = theme_historical_mc.iloc[:, i]\n",
    "    plt.plot(v/v[-1]*100, label=list(target_theme.values())[i])\n",
    "\n",
    "plt.legend(loc=0)\n",
    "plt.grid(True, color='0.7', linestyle=':', linewidth=1)"
   ]
  }
 ],
 "metadata": {
  "kernelspec": {
   "display_name": "Python 3",
   "language": "python",
   "name": "python3"
  },
  "language_info": {
   "codemirror_mode": {
    "name": "ipython",
    "version": 3
   },
   "file_extension": ".py",
   "mimetype": "text/x-python",
   "name": "python",
   "nbconvert_exporter": "python",
   "pygments_lexer": "ipython3",
   "version": "3.7.0"
  }
 },
 "nbformat": 4,
 "nbformat_minor": 4
}
