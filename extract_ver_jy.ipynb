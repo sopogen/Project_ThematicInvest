{
 "cells": [
  {
   "cell_type": "code",
   "execution_count": 4,
   "metadata": {},
   "outputs": [],
   "source": [
    "import pandas as pd\n",
    "import numpy as np\n",
    "import re\n",
    "from tqdm import tqdm"
   ]
  },
  {
   "cell_type": "code",
   "execution_count": 5,
   "metadata": {},
   "outputs": [
    {
     "data": {
      "text/html": [
       "<div>\n",
       "<style scoped>\n",
       "    .dataframe tbody tr th:only-of-type {\n",
       "        vertical-align: middle;\n",
       "    }\n",
       "\n",
       "    .dataframe tbody tr th {\n",
       "        vertical-align: top;\n",
       "    }\n",
       "\n",
       "    .dataframe thead th {\n",
       "        text-align: right;\n",
       "    }\n",
       "</style>\n",
       "<table border=\"1\" class=\"dataframe\">\n",
       "  <thead>\n",
       "    <tr style=\"text-align: right;\">\n",
       "      <th></th>\n",
       "      <th>title</th>\n",
       "      <th>contents</th>\n",
       "    </tr>\n",
       "  </thead>\n",
       "  <tbody>\n",
       "    <tr>\n",
       "      <td>0</td>\n",
       "      <td>[특징주]\"고마워요, 법무부 장관님\"...'윤석열 테마주' 초강세</td>\n",
       "      <td>‘윤석열 테마주’로 알려진 서연(007860)이 강세다. 이날 오후 1시 34분 기...</td>\n",
       "    </tr>\n",
       "    <tr>\n",
       "      <td>1</td>\n",
       "      <td>‘방탄소년단 테마주’ 모두 하락, 엔터테인먼트3사는 YG만 올라</td>\n",
       "      <td>'방탄소년단 테마주'로 묶이는 회사 주가가 모두 내렸다. 25일 키이스트 주가는 전...</td>\n",
       "    </tr>\n",
       "    <tr>\n",
       "      <td>2</td>\n",
       "      <td>주가 뜬 테마주 매도한 내부자들...하락 몫은 개인투자자</td>\n",
       "      <td>테마주로 엮이면서 주가가 급등한 상장사의 최대주주나 특수관계인들이 지분을 팔아치우는...</td>\n",
       "    </tr>\n",
       "    <tr>\n",
       "      <td>3</td>\n",
       "      <td>'수소트럭' 美니콜라 주가 급등···국내 수소테마주도 '고공행진'</td>\n",
       "      <td>두산퓨얼셀이나 에스퓨얼셀 등 연료전지 업체는 물론 니콜라에 투자한 한화그룹까지 '수...</td>\n",
       "    </tr>\n",
       "    <tr>\n",
       "      <td>4</td>\n",
       "      <td>테마주 취급받는 우선주…'폭탄 돌리기' 현재진행형</td>\n",
       "      <td>일부 우선주가 급등 이후 급락을 반복하는 롤러코스터를 타는 가운데 시장에서는 '우선...</td>\n",
       "    </tr>\n",
       "    <tr>\n",
       "      <td>5</td>\n",
       "      <td>'코로나19 테마주' 한국유나이티드제약, 종식 위한 사회적노력 '역행' 논란</td>\n",
       "      <td>한편, 한국유나이티드제약은 이른바 '코로나19 테마주' 중 하나로 꼽힌다. 코로나1...</td>\n",
       "    </tr>\n",
       "    <tr>\n",
       "      <td>6</td>\n",
       "      <td>가전·맥주·빙과…여름 테마주 웃을까</td>\n",
       "      <td>올 여름철 역대급 무더위가 찾아올 것으로 예상되면서 관련주들이 주목받고 있다. 24...</td>\n",
       "    </tr>\n",
       "    <tr>\n",
       "      <td>7</td>\n",
       "      <td>'방탄소년단 테마주' 대부분 올라, 엔터테인먼트3사는 JYP 빼고 상승</td>\n",
       "      <td>'방탄소년단 테마주'로 묶이는 회사 주가가 대부분 올랐다. 23일 초록뱀미디어 주가...</td>\n",
       "    </tr>\n",
       "    <tr>\n",
       "      <td>8</td>\n",
       "      <td>쌍방울·남영비비안 마스크 허위 계약 논란...일방적 계약 파기 VS 일시적 주...</td>\n",
       "      <td>당시 주가를 살펴보면 마스크 테마주에 편입된 남영비비안은 28일 전 거래일 종가 대...</td>\n",
       "    </tr>\n",
       "    <tr>\n",
       "      <td>9</td>\n",
       "      <td>[특징주] '이낙연 테마주' 남선알미늄, 2.42% 상승</td>\n",
       "      <td>알루미늄 등 비철금속을 제조·판매하는 남선알미늄은 계열 관계인 SM그룹 삼환기업 전...</td>\n",
       "    </tr>\n",
       "  </tbody>\n",
       "</table>\n",
       "</div>"
      ],
      "text/plain": [
       "                                            title  \\\n",
       "0            [특징주]\"고마워요, 법무부 장관님\"...'윤석열 테마주' 초강세   \n",
       "1             ‘방탄소년단 테마주’ 모두 하락, 엔터테인먼트3사는 YG만 올라   \n",
       "2                 주가 뜬 테마주 매도한 내부자들...하락 몫은 개인투자자   \n",
       "3            '수소트럭' 美니콜라 주가 급등···국내 수소테마주도 '고공행진'   \n",
       "4                     테마주 취급받는 우선주…'폭탄 돌리기' 현재진행형   \n",
       "5      '코로나19 테마주' 한국유나이티드제약, 종식 위한 사회적노력 '역행' 논란   \n",
       "6                             가전·맥주·빙과…여름 테마주 웃을까   \n",
       "7         '방탄소년단 테마주' 대부분 올라, 엔터테인먼트3사는 JYP 빼고 상승   \n",
       "8  쌍방울·남영비비안 마스크 허위 계약 논란...일방적 계약 파기 VS 일시적 주...   \n",
       "9                 [특징주] '이낙연 테마주' 남선알미늄, 2.42% 상승   \n",
       "\n",
       "                                            contents  \n",
       "0  ‘윤석열 테마주’로 알려진 서연(007860)이 강세다. 이날 오후 1시 34분 기...  \n",
       "1  '방탄소년단 테마주'로 묶이는 회사 주가가 모두 내렸다. 25일 키이스트 주가는 전...  \n",
       "2  테마주로 엮이면서 주가가 급등한 상장사의 최대주주나 특수관계인들이 지분을 팔아치우는...  \n",
       "3  두산퓨얼셀이나 에스퓨얼셀 등 연료전지 업체는 물론 니콜라에 투자한 한화그룹까지 '수...  \n",
       "4  일부 우선주가 급등 이후 급락을 반복하는 롤러코스터를 타는 가운데 시장에서는 '우선...  \n",
       "5  한편, 한국유나이티드제약은 이른바 '코로나19 테마주' 중 하나로 꼽힌다. 코로나1...  \n",
       "6  올 여름철 역대급 무더위가 찾아올 것으로 예상되면서 관련주들이 주목받고 있다. 24...  \n",
       "7  '방탄소년단 테마주'로 묶이는 회사 주가가 대부분 올랐다. 23일 초록뱀미디어 주가...  \n",
       "8  당시 주가를 살펴보면 마스크 테마주에 편입된 남영비비안은 28일 전 거래일 종가 대...  \n",
       "9  알루미늄 등 비철금속을 제조·판매하는 남선알미늄은 계열 관계인 SM그룹 삼환기업 전...  "
      ]
     },
     "execution_count": 5,
     "metadata": {},
     "output_type": "execute_result"
    }
   ],
   "source": [
    "df = pd.read_csv(\"Data/news_data/final_data.csv\", index_col=0)\n",
    "df.head(10)"
   ]
  },
  {
   "cell_type": "code",
   "execution_count": 6,
   "metadata": {},
   "outputs": [],
   "source": [
    "kospi = pd.read_csv(\"Data/stock_data/kospi.csv\", index_col=0, encoding='cp949')\n",
    "kosdaq = pd.read_csv(\"Data/stock_data/kosdaq.csv\", index_col=0, encoding='cp949')"
   ]
  },
  {
   "cell_type": "code",
   "execution_count": 7,
   "metadata": {},
   "outputs": [
    {
     "data": {
      "text/html": [
       "<div>\n",
       "<style scoped>\n",
       "    .dataframe tbody tr th:only-of-type {\n",
       "        vertical-align: middle;\n",
       "    }\n",
       "\n",
       "    .dataframe tbody tr th {\n",
       "        vertical-align: top;\n",
       "    }\n",
       "\n",
       "    .dataframe thead th {\n",
       "        text-align: right;\n",
       "    }\n",
       "</style>\n",
       "<table border=\"1\" class=\"dataframe\">\n",
       "  <thead>\n",
       "    <tr style=\"text-align: right;\">\n",
       "      <th></th>\n",
       "      <th>종목코드</th>\n",
       "      <th>기업명</th>\n",
       "    </tr>\n",
       "  </thead>\n",
       "  <tbody>\n",
       "    <tr>\n",
       "      <td>0</td>\n",
       "      <td>60310</td>\n",
       "      <td>3S</td>\n",
       "    </tr>\n",
       "    <tr>\n",
       "      <td>1</td>\n",
       "      <td>95570</td>\n",
       "      <td>AJ네트웍스</td>\n",
       "    </tr>\n",
       "    <tr>\n",
       "      <td>2</td>\n",
       "      <td>6840</td>\n",
       "      <td>AK홀딩스</td>\n",
       "    </tr>\n",
       "    <tr>\n",
       "      <td>3</td>\n",
       "      <td>54620</td>\n",
       "      <td>APS홀딩스</td>\n",
       "    </tr>\n",
       "    <tr>\n",
       "      <td>4</td>\n",
       "      <td>265520</td>\n",
       "      <td>AP시스템</td>\n",
       "    </tr>\n",
       "  </tbody>\n",
       "</table>\n",
       "</div>"
      ],
      "text/plain": [
       "     종목코드     기업명\n",
       "0   60310      3S\n",
       "1   95570  AJ네트웍스\n",
       "2    6840   AK홀딩스\n",
       "3   54620  APS홀딩스\n",
       "4  265520   AP시스템"
      ]
     },
     "execution_count": 7,
     "metadata": {},
     "output_type": "execute_result"
    }
   ],
   "source": [
    "company_list = pd.concat([kospi[['종목코드', '기업명']], kosdaq[['종목코드', '기업명']]], axis=0)\n",
    "company_list = company_list.sort_values('기업명').reset_index().drop(columns='번호')\n",
    "company_list.head(5)"
   ]
  },
  {
   "cell_type": "code",
   "execution_count": 8,
   "metadata": {},
   "outputs": [],
   "source": [
    "# df = pd.read_csv(\"Data/news_data/final_data.csv\", index_col=0)\n",
    "# test = df[0:20]\n",
    "# test.head(5)"
   ]
  },
  {
   "cell_type": "code",
   "execution_count": 9,
   "metadata": {},
   "outputs": [
    {
     "name": "stderr",
     "output_type": "stream",
     "text": [
      "100%|██████████| 60430/60430 [15:34<00:00, 64.69it/s]\n"
     ]
    }
   ],
   "source": [
    "#이상한 기호들 지우기\n",
    "\n",
    "for i in tqdm(range(len(df))):\n",
    "    #title\n",
    "    df['title'][i] = df['title'][i].replace(\"[\",\" \")\n",
    "    df['title'][i] = df['title'][i].replace(\"]\",\" \")\n",
    "    df['title'][i] = df['title'][i].replace(\"‘\",\" \")\n",
    "    df['title'][i] = df['title'][i].replace(\"’\",\" \")\n",
    "    df['title'][i] = df['title'][i].replace('\"',' ')\n",
    "    df['title'][i] = df['title'][i].replace(\"'\",\" \")\n",
    "    df['title'][i] = df['title'][i].replace(\"·\",\" \")\n",
    "    df['title'][i] = df['title'][i].replace(\",\",\" \")\n",
    "    df['title'][i] = df['title'][i].replace(\"…\",\" \")\n",
    "    df['title'][i] = df['title'][i].replace(\"?\",\" \")\n",
    "    df['title'][i] = df['title'][i].replace(\"!\",\" \")\n",
    "    df['title'][i] = df['title'][i].replace(\".\",\" \")\n",
    "    df['title'][i] = df['title'][i].replace(\"(\",\" \")\n",
    "    df['title'][i] = df['title'][i].replace(\")\",\" \")\n",
    "    #contents\n",
    "    df['contents'][i] = df['contents'][i].replace(\"[\",\" \")\n",
    "    df['contents'][i] = df['contents'][i].replace(\"]\",\" \")\n",
    "    df['contents'][i] = df['contents'][i].replace(\"‘\",\" \")\n",
    "    df['contents'][i] = df['contents'][i].replace(\"’\",\" \")\n",
    "    df['contents'][i] = df['contents'][i].replace('\"',' ')\n",
    "    df['contents'][i] = df['contents'][i].replace(\"'\",\" \")\n",
    "    df['contents'][i] = df['contents'][i].replace(\"·\",\" \")\n",
    "    df['contents'][i] = df['contents'][i].replace(\",\",\" \")\n",
    "    df['contents'][i] = df['contents'][i].replace(\"…\",\" \")\n",
    "    df['contents'][i] = df['contents'][i].replace(\"?\",\" \")\n",
    "    df['contents'][i] = df['contents'][i].replace(\"!\",\" \")\n",
    "    df['contents'][i] = df['contents'][i].replace(\".\",\" \")\n",
    "    df['contents'][i] = df['contents'][i].replace(\"(\",\" \")\n",
    "    df['contents'][i] = df['contents'][i].replace(\")\",\" \")"
   ]
  },
  {
   "cell_type": "code",
   "execution_count": 10,
   "metadata": {},
   "outputs": [
    {
     "name": "stderr",
     "output_type": "stream",
     "text": [
      "100%|██████████| 60430/60430 [01:22<00:00, 731.02it/s]\n"
     ]
    }
   ],
   "source": [
    "#띄어쓰기 기준으로 쪼개서 리스트화 \n",
    "for i in tqdm(range(len(df))):\n",
    "    df['title'][i] = df['title'][i].split(\" \")\n",
    "    df['contents'][i] = df['contents'][i].split(\" \")"
   ]
  },
  {
   "cell_type": "code",
   "execution_count": 11,
   "metadata": {},
   "outputs": [
    {
     "name": "stderr",
     "output_type": "stream",
     "text": [
      "100%|██████████| 60430/60430 [01:00<00:00, 991.38it/s] \n"
     ]
    }
   ],
   "source": [
    "helping = ('은','는','이','가','을','를','의','에','로','과','와','도','만','나','께')\n",
    "for i in tqdm(range(len(df))):\n",
    "    for j in range(len(df['title'][i])):\n",
    "        if df['title'][i][j].endswith(helping):\n",
    "            df['title'][i][j] = df['title'][i][j].replace((df['title'][i][j][-1]),\"\")\n",
    "    for k in range(len(df['contents'][i])):\n",
    "        if df['contents'][i][k].endswith(helping):\n",
    "            df['contents'][i][k] = df['contents'][i][k].replace((df['contents'][i][k][-1]),\"\")"
   ]
  },
  {
   "cell_type": "code",
   "execution_count": 12,
   "metadata": {},
   "outputs": [
    {
     "name": "stderr",
     "output_type": "stream",
     "text": [
      "100%|██████████| 60430/60430 [00:41<00:00, 1459.20it/s]\n"
     ]
    }
   ],
   "source": [
    "#길이가 1짜리는 보통 쓸모 없으니 제거\n",
    "for i in tqdm(range(len(df))):\n",
    "    for j in range(len(df['title'][i])-1,0,-1):\n",
    "        if len(df['title'][i][j]) == 1:\n",
    "            df['title'][i].remove(df['title'][i][j])\n",
    "    for k in range(len(df['contents'][i])-1,0,-1):\n",
    "        if len(df['contents'][i][k]) == 1:\n",
    "            df['contents'][i].remove(df['contents'][i][k])"
   ]
  },
  {
   "cell_type": "code",
   "execution_count": 13,
   "metadata": {},
   "outputs": [
    {
     "name": "stderr",
     "output_type": "stream",
     "text": [
      "100%|██████████| 60430/60430 [00:18<00:00, 3304.51it/s]\n"
     ]
    }
   ],
   "source": [
    "#빈 string은 제거\n",
    "for i in tqdm(range(len(df))):\n",
    "    while(\"\" in df['title'][i]): \n",
    "        df['title'][i].remove(\"\") \n",
    "    while(\"\" in df['contents'][i]):\n",
    "        df['contents'][i].remove(\"\") "
   ]
  },
  {
   "cell_type": "code",
   "execution_count": 14,
   "metadata": {},
   "outputs": [
    {
     "data": {
      "text/html": [
       "<div>\n",
       "<style scoped>\n",
       "    .dataframe tbody tr th:only-of-type {\n",
       "        vertical-align: middle;\n",
       "    }\n",
       "\n",
       "    .dataframe tbody tr th {\n",
       "        vertical-align: top;\n",
       "    }\n",
       "\n",
       "    .dataframe thead th {\n",
       "        text-align: right;\n",
       "    }\n",
       "</style>\n",
       "<table border=\"1\" class=\"dataframe\">\n",
       "  <thead>\n",
       "    <tr style=\"text-align: right;\">\n",
       "      <th></th>\n",
       "      <th>title</th>\n",
       "      <th>contents</th>\n",
       "    </tr>\n",
       "  </thead>\n",
       "  <tbody>\n",
       "    <tr>\n",
       "      <td>0</td>\n",
       "      <td>[특징주, 고마워요, 법무부, 장관님, 윤석열, 테마주, 초강세]</td>\n",
       "      <td>[윤석열, 테마주, 알려진, 서연, 007860, 강세다, 이날, 오후, 1시, 3...</td>\n",
       "    </tr>\n",
       "    <tr>\n",
       "      <td>1</td>\n",
       "      <td>[방탄소년단, 테마주, 모두, 하락, 엔터테인먼트3사, YG, 올라]</td>\n",
       "      <td>[방탄소년단, 테마주, 묶이, 회사, 모두, 내렸다, 25일, 키이스트, 주가, 전...</td>\n",
       "    </tr>\n",
       "    <tr>\n",
       "      <td>2</td>\n",
       "      <td>[주, 테마주, 매도한, 내부자들, 하락, 개인투자자]</td>\n",
       "      <td>[테마주, 엮이면서, 급등한, 상장사, 최대주주, 특수관계인들, 지분, 팔아치우, ...</td>\n",
       "    </tr>\n",
       "    <tr>\n",
       "      <td>3</td>\n",
       "      <td>[수소트럭, 美니콜라, 급등, 국내, 수소테마주, 고공행진]</td>\n",
       "      <td>[두산퓨얼셀이, 에스퓨얼셀, 등 연료전지, 업체는 물론 니콜라, 투자한, 한화그룹까...</td>\n",
       "    </tr>\n",
       "    <tr>\n",
       "      <td>4</td>\n",
       "      <td>[테마주, 취급받, 우선주, 폭탄, 돌리기, 현재진행형]</td>\n",
       "      <td>[일부, 우선주, 급등, 이후, 급락을 반복하, 롤러코스터, 타는 가운데, 시장에서...</td>\n",
       "    </tr>\n",
       "    <tr>\n",
       "      <td>...</td>\n",
       "      <td>...</td>\n",
       "      <td>...</td>\n",
       "    </tr>\n",
       "    <tr>\n",
       "      <td>60425</td>\n",
       "      <td>[시황_장마감, 코스피, 2108, 73p, 상승, ▲12, 71p, +0, 61%...</td>\n",
       "      <td>[60%, 관련주, 테마, 상승, 띄었으며, 바이오시밀러, -5, 83%, 자전거,...</td>\n",
       "    </tr>\n",
       "    <tr>\n",
       "      <td>60426</td>\n",
       "      <td>[상아프론테크, 실적, 안정성, 배터리주, 매수, -유진투자]</td>\n",
       "      <td>[이투데이=조남호, 기자, 유진투자증권, 26일, 상아프론테크, 대해, 배터리, 관...</td>\n",
       "    </tr>\n",
       "    <tr>\n",
       "      <td>60427</td>\n",
       "      <td>[“내주, 코스피, 2120~2170선, 전망”-하나금융투자]</td>\n",
       "      <td>[김, 연구원, “2분기, 2019년, 전체, 실적, 모멘텀, 주가, 밸류, 여건,...</td>\n",
       "    </tr>\n",
       "    <tr>\n",
       "      <td>60428</td>\n",
       "      <td>[오늘, 투자전략, 코스피, 미중, 무역분쟁, 휴전, 호재, 북한관련주]</td>\n",
       "      <td>[특히, 30일, 극적으, 진행된, 남북미, 정상, 만남, 이후, 대북, 관련주, ...</td>\n",
       "    </tr>\n",
       "    <tr>\n",
       "      <td>60429</td>\n",
       "      <td>[주간, 코스피, 코스닥, 6월, LBS관련주, 테마, 주간, 리포트, 한양디지텍,...</td>\n",
       "      <td>[6월, 5주차, LBS관련주, 테마, 주간, 보고서지난, 일주일, LBS관련주, ...</td>\n",
       "    </tr>\n",
       "  </tbody>\n",
       "</table>\n",
       "<p>60430 rows × 2 columns</p>\n",
       "</div>"
      ],
      "text/plain": [
       "                                                   title  \\\n",
       "0                   [특징주, 고마워요, 법무부, 장관님, 윤석열, 테마주, 초강세]   \n",
       "1                 [방탄소년단, 테마주, 모두, 하락, 엔터테인먼트3사, YG, 올라]   \n",
       "2                         [주, 테마주, 매도한, 내부자들, 하락, 개인투자자]   \n",
       "3                      [수소트럭, 美니콜라, 급등, 국내, 수소테마주, 고공행진]   \n",
       "4                        [테마주, 취급받, 우선주, 폭탄, 돌리기, 현재진행형]   \n",
       "...                                                  ...   \n",
       "60425  [시황_장마감, 코스피, 2108, 73p, 상승, ▲12, 71p, +0, 61%...   \n",
       "60426                 [상아프론테크, 실적, 안정성, 배터리주, 매수, -유진투자]   \n",
       "60427                 [“내주, 코스피, 2120~2170선, 전망”-하나금융투자]   \n",
       "60428           [오늘, 투자전략, 코스피, 미중, 무역분쟁, 휴전, 호재, 북한관련주]   \n",
       "60429  [주간, 코스피, 코스닥, 6월, LBS관련주, 테마, 주간, 리포트, 한양디지텍,...   \n",
       "\n",
       "                                                contents  \n",
       "0      [윤석열, 테마주, 알려진, 서연, 007860, 강세다, 이날, 오후, 1시, 3...  \n",
       "1      [방탄소년단, 테마주, 묶이, 회사, 모두, 내렸다, 25일, 키이스트, 주가, 전...  \n",
       "2      [테마주, 엮이면서, 급등한, 상장사, 최대주주, 특수관계인들, 지분, 팔아치우, ...  \n",
       "3      [두산퓨얼셀이, 에스퓨얼셀, 등 연료전지, 업체는 물론 니콜라, 투자한, 한화그룹까...  \n",
       "4      [일부, 우선주, 급등, 이후, 급락을 반복하, 롤러코스터, 타는 가운데, 시장에서...  \n",
       "...                                                  ...  \n",
       "60425  [60%, 관련주, 테마, 상승, 띄었으며, 바이오시밀러, -5, 83%, 자전거,...  \n",
       "60426  [이투데이=조남호, 기자, 유진투자증권, 26일, 상아프론테크, 대해, 배터리, 관...  \n",
       "60427  [김, 연구원, “2분기, 2019년, 전체, 실적, 모멘텀, 주가, 밸류, 여건,...  \n",
       "60428  [특히, 30일, 극적으, 진행된, 남북미, 정상, 만남, 이후, 대북, 관련주, ...  \n",
       "60429  [6월, 5주차, LBS관련주, 테마, 주간, 보고서지난, 일주일, LBS관련주, ...  \n",
       "\n",
       "[60430 rows x 2 columns]"
      ]
     },
     "execution_count": 14,
     "metadata": {},
     "output_type": "execute_result"
    }
   ],
   "source": [
    "df"
   ]
  },
  {
   "cell_type": "code",
   "execution_count": 15,
   "metadata": {},
   "outputs": [
    {
     "name": "stderr",
     "output_type": "stream",
     "text": [
      "100%|██████████| 60430/60430 [00:55<00:00, 1081.70it/s]\n"
     ]
    }
   ],
   "source": [
    "#테마주 전 단어를 추출하고, 없으면 빈공간으로 변경\n",
    "for i in tqdm(range(len(df))):\n",
    "    for j in range(len(df['title'][i])):\n",
    "        if df['title'][i][j] == \"테마주\" or df['title'][i][j] == \"테마\" or df['title'][i][j] == \"관련주\" or df['title'][i][j] == \"관련\":\n",
    "            a = df['title'][i][j-1]\n",
    "        \n",
    "    df['title'][i] = a\n",
    "    a = \" \""
   ]
  },
  {
   "cell_type": "code",
   "execution_count": 16,
   "metadata": {},
   "outputs": [],
   "source": [
    "company_in_one = []\n",
    "for i in company_list['기업명']:\n",
    "    company_in_one.append(i)"
   ]
  },
  {
   "cell_type": "code",
   "execution_count": 17,
   "metadata": {},
   "outputs": [
    {
     "name": "stderr",
     "output_type": "stream",
     "text": [
      "100%|██████████| 60430/60430 [01:35<00:00, 629.85it/s]\n"
     ]
    }
   ],
   "source": [
    "#테마주 전 단어를 추출하고, 없으면 빈공간으로 변경\n",
    "b = []\n",
    "for i in tqdm(range(len(df))):\n",
    "    for j in range(len(df['contents'][i])):\n",
    "        if df['contents'][i][j] in company_in_one:\n",
    "            b.append(df['contents'][i][j])\n",
    "    \n",
    "    df['contents'][i] = b\n",
    "    b = []\n",
    "    "
   ]
  },
  {
   "cell_type": "code",
   "execution_count": 18,
   "metadata": {},
   "outputs": [
    {
     "name": "stderr",
     "output_type": "stream",
     "text": [
      "100%|██████████| 60430/60430 [00:31<00:00, 1900.56it/s]\n"
     ]
    }
   ],
   "source": [
    "#리스트 중복값 제거\n",
    "for i in tqdm(range(len(df))):\n",
    "    df['contents'][i] = list(set(df['contents'][i]))"
   ]
  },
  {
   "cell_type": "code",
   "execution_count": 19,
   "metadata": {},
   "outputs": [
    {
     "name": "stderr",
     "output_type": "stream",
     "text": [
      "100%|██████████| 60429/60429 [04:51<00:00, 207.50it/s] \n"
     ]
    }
   ],
   "source": [
    "#title 빈 공간 제거\n",
    "for i in tqdm(range(len(df)-1,0,-1)):\n",
    "    if df['title'][i] == \" \":\n",
    "        df = df.drop(i)\n",
    "        df = df.reset_index()\n",
    "        df = df[['title','contents']]"
   ]
  },
  {
   "cell_type": "code",
   "execution_count": 20,
   "metadata": {},
   "outputs": [
    {
     "name": "stderr",
     "output_type": "stream",
     "text": [
      "100%|██████████| 34372/34372 [00:48<00:00, 715.74it/s] \n"
     ]
    }
   ],
   "source": [
    "#contents 빈공간 제거\n",
    "for i in tqdm(range(len(df)-1,0,-1)):\n",
    "    if len(df['contents'][i]) == 0:\n",
    "        df = df.drop(i)\n",
    "        df = df.reset_index()\n",
    "        df = df[['title','contents']]"
   ]
  },
  {
   "cell_type": "code",
   "execution_count": 21,
   "metadata": {},
   "outputs": [
    {
     "data": {
      "text/html": [
       "<div>\n",
       "<style scoped>\n",
       "    .dataframe tbody tr th:only-of-type {\n",
       "        vertical-align: middle;\n",
       "    }\n",
       "\n",
       "    .dataframe tbody tr th {\n",
       "        vertical-align: top;\n",
       "    }\n",
       "\n",
       "    .dataframe thead th {\n",
       "        text-align: right;\n",
       "    }\n",
       "</style>\n",
       "<table border=\"1\" class=\"dataframe\">\n",
       "  <thead>\n",
       "    <tr style=\"text-align: right;\">\n",
       "      <th></th>\n",
       "      <th>title</th>\n",
       "      <th>contents</th>\n",
       "    </tr>\n",
       "  </thead>\n",
       "  <tbody>\n",
       "    <tr>\n",
       "      <td>0</td>\n",
       "      <td>윤석열</td>\n",
       "      <td>[서연]</td>\n",
       "    </tr>\n",
       "    <tr>\n",
       "      <td>1</td>\n",
       "      <td>방탄소년단</td>\n",
       "      <td>[키이스트]</td>\n",
       "    </tr>\n",
       "    <tr>\n",
       "      <td>2</td>\n",
       "      <td>여름</td>\n",
       "      <td>[롯데하이마트]</td>\n",
       "    </tr>\n",
       "    <tr>\n",
       "      <td>3</td>\n",
       "      <td>이낙연</td>\n",
       "      <td>[남선알미늄]</td>\n",
       "    </tr>\n",
       "    <tr>\n",
       "      <td>4</td>\n",
       "      <td>방탄소년단</td>\n",
       "      <td>[넷마블]</td>\n",
       "    </tr>\n",
       "    <tr>\n",
       "      <td>...</td>\n",
       "      <td>...</td>\n",
       "      <td>...</td>\n",
       "    </tr>\n",
       "    <tr>\n",
       "      <td>28929</td>\n",
       "      <td>남북경협</td>\n",
       "      <td>[현대로템]</td>\n",
       "    </tr>\n",
       "    <tr>\n",
       "      <td>28930</td>\n",
       "      <td>이낙연-황교안</td>\n",
       "      <td>[이월드, 이엑스티, 세동, 인터엠, 성문전자]</td>\n",
       "    </tr>\n",
       "    <tr>\n",
       "      <td>28931</td>\n",
       "      <td>조국</td>\n",
       "      <td>[화천기계]</td>\n",
       "    </tr>\n",
       "    <tr>\n",
       "      <td>28932</td>\n",
       "      <td>LBS관련주</td>\n",
       "      <td>[한양디지텍]</td>\n",
       "    </tr>\n",
       "    <tr>\n",
       "      <td>28933</td>\n",
       "      <td>LBS관련주</td>\n",
       "      <td>[한양디지텍]</td>\n",
       "    </tr>\n",
       "  </tbody>\n",
       "</table>\n",
       "<p>28934 rows × 2 columns</p>\n",
       "</div>"
      ],
      "text/plain": [
       "         title                    contents\n",
       "0          윤석열                        [서연]\n",
       "1        방탄소년단                      [키이스트]\n",
       "2           여름                    [롯데하이마트]\n",
       "3          이낙연                     [남선알미늄]\n",
       "4        방탄소년단                       [넷마블]\n",
       "...        ...                         ...\n",
       "28929     남북경협                      [현대로템]\n",
       "28930  이낙연-황교안  [이월드, 이엑스티, 세동, 인터엠, 성문전자]\n",
       "28931       조국                      [화천기계]\n",
       "28932   LBS관련주                     [한양디지텍]\n",
       "28933   LBS관련주                     [한양디지텍]\n",
       "\n",
       "[28934 rows x 2 columns]"
      ]
     },
     "execution_count": 21,
     "metadata": {},
     "output_type": "execute_result"
    }
   ],
   "source": [
    "df"
   ]
  },
  {
   "cell_type": "code",
   "execution_count": 23,
   "metadata": {},
   "outputs": [],
   "source": [
    "df.to_csv(\"new_data_preprocessed.csv\")"
   ]
  },
  {
   "cell_type": "code",
   "execution_count": null,
   "metadata": {},
   "outputs": [],
   "source": []
  }
 ],
 "metadata": {
  "kernelspec": {
   "display_name": "Python 3",
   "language": "python",
   "name": "python3"
  },
  "language_info": {
   "codemirror_mode": {
    "name": "ipython",
    "version": 3
   },
   "file_extension": ".py",
   "mimetype": "text/x-python",
   "name": "python",
   "nbconvert_exporter": "python",
   "pygments_lexer": "ipython3",
   "version": "3.7.4"
  }
 },
 "nbformat": 4,
 "nbformat_minor": 2
}
