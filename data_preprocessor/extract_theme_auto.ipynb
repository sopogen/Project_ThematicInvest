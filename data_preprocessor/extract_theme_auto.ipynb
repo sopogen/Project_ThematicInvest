{
 "cells": [
  {
   "cell_type": "code",
   "execution_count": 68,
   "metadata": {},
   "outputs": [],
   "source": [
    "import pandas as pd\n",
    "import numpy as np\n",
    "import re\n",
    "from tqdm import tqdm\n",
    "from konlpy.tag import Okt\n",
    "import timeit\n",
    "import json\n",
    "okt = Okt()"
   ]
  },
  {
   "cell_type": "code",
   "execution_count": 47,
   "metadata": {},
   "outputs": [
    {
     "data": {
      "text/html": [
       "<div>\n",
       "<style scoped>\n",
       "    .dataframe tbody tr th:only-of-type {\n",
       "        vertical-align: middle;\n",
       "    }\n",
       "\n",
       "    .dataframe tbody tr th {\n",
       "        vertical-align: top;\n",
       "    }\n",
       "\n",
       "    .dataframe thead th {\n",
       "        text-align: right;\n",
       "    }\n",
       "</style>\n",
       "<table border=\"1\" class=\"dataframe\">\n",
       "  <thead>\n",
       "    <tr style=\"text-align: right;\">\n",
       "      <th></th>\n",
       "      <th>title</th>\n",
       "      <th>contents</th>\n",
       "    </tr>\n",
       "  </thead>\n",
       "  <tbody>\n",
       "    <tr>\n",
       "      <th>0</th>\n",
       "      <td>[특징주]\"고마워요, 법무부 장관님\"...'윤석열 테마주' 초강세</td>\n",
       "      <td>‘윤석열 테마주’로 알려진 서연(007860)이 강세다. 이날 오후 1시 34분 기...</td>\n",
       "    </tr>\n",
       "    <tr>\n",
       "      <th>1</th>\n",
       "      <td>‘방탄소년단 테마주’ 모두 하락, 엔터테인먼트3사는 YG만 올라</td>\n",
       "      <td>'방탄소년단 테마주'로 묶이는 회사 주가가 모두 내렸다. 25일 키이스트 주가는 전...</td>\n",
       "    </tr>\n",
       "    <tr>\n",
       "      <th>2</th>\n",
       "      <td>주가 뜬 테마주 매도한 내부자들...하락 몫은 개인투자자</td>\n",
       "      <td>테마주로 엮이면서 주가가 급등한 상장사의 최대주주나 특수관계인들이 지분을 팔아치우는...</td>\n",
       "    </tr>\n",
       "    <tr>\n",
       "      <th>3</th>\n",
       "      <td>'수소트럭' 美니콜라 주가 급등···국내 수소테마주도 '고공행진'</td>\n",
       "      <td>두산퓨얼셀이나 에스퓨얼셀 등 연료전지 업체는 물론 니콜라에 투자한 한화그룹까지 '수...</td>\n",
       "    </tr>\n",
       "    <tr>\n",
       "      <th>4</th>\n",
       "      <td>테마주 취급받는 우선주…'폭탄 돌리기' 현재진행형</td>\n",
       "      <td>일부 우선주가 급등 이후 급락을 반복하는 롤러코스터를 타는 가운데 시장에서는 '우선...</td>\n",
       "    </tr>\n",
       "    <tr>\n",
       "      <th>5</th>\n",
       "      <td>'코로나19 테마주' 한국유나이티드제약, 종식 위한 사회적노력 '역행' 논란</td>\n",
       "      <td>한편, 한국유나이티드제약은 이른바 '코로나19 테마주' 중 하나로 꼽힌다. 코로나1...</td>\n",
       "    </tr>\n",
       "    <tr>\n",
       "      <th>6</th>\n",
       "      <td>가전·맥주·빙과…여름 테마주 웃을까</td>\n",
       "      <td>올 여름철 역대급 무더위가 찾아올 것으로 예상되면서 관련주들이 주목받고 있다. 24...</td>\n",
       "    </tr>\n",
       "    <tr>\n",
       "      <th>7</th>\n",
       "      <td>'방탄소년단 테마주' 대부분 올라, 엔터테인먼트3사는 JYP 빼고 상승</td>\n",
       "      <td>'방탄소년단 테마주'로 묶이는 회사 주가가 대부분 올랐다. 23일 초록뱀미디어 주가...</td>\n",
       "    </tr>\n",
       "    <tr>\n",
       "      <th>8</th>\n",
       "      <td>쌍방울·남영비비안 마스크 허위 계약 논란...일방적 계약 파기 VS 일시적 주...</td>\n",
       "      <td>당시 주가를 살펴보면 마스크 테마주에 편입된 남영비비안은 28일 전 거래일 종가 대...</td>\n",
       "    </tr>\n",
       "    <tr>\n",
       "      <th>9</th>\n",
       "      <td>[특징주] '이낙연 테마주' 남선알미늄, 2.42% 상승</td>\n",
       "      <td>알루미늄 등 비철금속을 제조·판매하는 남선알미늄은 계열 관계인 SM그룹 삼환기업 전...</td>\n",
       "    </tr>\n",
       "  </tbody>\n",
       "</table>\n",
       "</div>"
      ],
      "text/plain": [
       "                                            title  \\\n",
       "0            [특징주]\"고마워요, 법무부 장관님\"...'윤석열 테마주' 초강세   \n",
       "1             ‘방탄소년단 테마주’ 모두 하락, 엔터테인먼트3사는 YG만 올라   \n",
       "2                 주가 뜬 테마주 매도한 내부자들...하락 몫은 개인투자자   \n",
       "3            '수소트럭' 美니콜라 주가 급등···국내 수소테마주도 '고공행진'   \n",
       "4                     테마주 취급받는 우선주…'폭탄 돌리기' 현재진행형   \n",
       "5      '코로나19 테마주' 한국유나이티드제약, 종식 위한 사회적노력 '역행' 논란   \n",
       "6                             가전·맥주·빙과…여름 테마주 웃을까   \n",
       "7         '방탄소년단 테마주' 대부분 올라, 엔터테인먼트3사는 JYP 빼고 상승   \n",
       "8  쌍방울·남영비비안 마스크 허위 계약 논란...일방적 계약 파기 VS 일시적 주...   \n",
       "9                 [특징주] '이낙연 테마주' 남선알미늄, 2.42% 상승   \n",
       "\n",
       "                                            contents  \n",
       "0  ‘윤석열 테마주’로 알려진 서연(007860)이 강세다. 이날 오후 1시 34분 기...  \n",
       "1  '방탄소년단 테마주'로 묶이는 회사 주가가 모두 내렸다. 25일 키이스트 주가는 전...  \n",
       "2  테마주로 엮이면서 주가가 급등한 상장사의 최대주주나 특수관계인들이 지분을 팔아치우는...  \n",
       "3  두산퓨얼셀이나 에스퓨얼셀 등 연료전지 업체는 물론 니콜라에 투자한 한화그룹까지 '수...  \n",
       "4  일부 우선주가 급등 이후 급락을 반복하는 롤러코스터를 타는 가운데 시장에서는 '우선...  \n",
       "5  한편, 한국유나이티드제약은 이른바 '코로나19 테마주' 중 하나로 꼽힌다. 코로나1...  \n",
       "6  올 여름철 역대급 무더위가 찾아올 것으로 예상되면서 관련주들이 주목받고 있다. 24...  \n",
       "7  '방탄소년단 테마주'로 묶이는 회사 주가가 대부분 올랐다. 23일 초록뱀미디어 주가...  \n",
       "8  당시 주가를 살펴보면 마스크 테마주에 편입된 남영비비안은 28일 전 거래일 종가 대...  \n",
       "9  알루미늄 등 비철금속을 제조·판매하는 남선알미늄은 계열 관계인 SM그룹 삼환기업 전...  "
      ]
     },
     "execution_count": 47,
     "metadata": {},
     "output_type": "execute_result"
    }
   ],
   "source": [
    "df = pd.read_csv(\"../Data/news_data/search_final_data.csv\", index_col=0)\n",
    "df.head(10)"
   ]
  },
  {
   "cell_type": "code",
   "execution_count": 48,
   "metadata": {},
   "outputs": [],
   "source": [
    "kospi = pd.read_csv(\"../Data/stock_data/kospi.csv\", index_col=0, encoding='cp949')\n",
    "kosdaq = pd.read_csv(\"../Data/stock_data/kosdaq.csv\", index_col=0, encoding='cp949')"
   ]
  },
  {
   "cell_type": "code",
   "execution_count": 49,
   "metadata": {},
   "outputs": [
    {
     "data": {
      "text/html": [
       "<div>\n",
       "<style scoped>\n",
       "    .dataframe tbody tr th:only-of-type {\n",
       "        vertical-align: middle;\n",
       "    }\n",
       "\n",
       "    .dataframe tbody tr th {\n",
       "        vertical-align: top;\n",
       "    }\n",
       "\n",
       "    .dataframe thead th {\n",
       "        text-align: right;\n",
       "    }\n",
       "</style>\n",
       "<table border=\"1\" class=\"dataframe\">\n",
       "  <thead>\n",
       "    <tr style=\"text-align: right;\">\n",
       "      <th></th>\n",
       "      <th>종목코드</th>\n",
       "      <th>기업명</th>\n",
       "    </tr>\n",
       "  </thead>\n",
       "  <tbody>\n",
       "    <tr>\n",
       "      <th>0</th>\n",
       "      <td>60310</td>\n",
       "      <td>3S</td>\n",
       "    </tr>\n",
       "    <tr>\n",
       "      <th>1</th>\n",
       "      <td>95570</td>\n",
       "      <td>AJ네트웍스</td>\n",
       "    </tr>\n",
       "    <tr>\n",
       "      <th>2</th>\n",
       "      <td>6840</td>\n",
       "      <td>AK홀딩스</td>\n",
       "    </tr>\n",
       "    <tr>\n",
       "      <th>3</th>\n",
       "      <td>54620</td>\n",
       "      <td>APS홀딩스</td>\n",
       "    </tr>\n",
       "    <tr>\n",
       "      <th>4</th>\n",
       "      <td>265520</td>\n",
       "      <td>AP시스템</td>\n",
       "    </tr>\n",
       "  </tbody>\n",
       "</table>\n",
       "</div>"
      ],
      "text/plain": [
       "     종목코드     기업명\n",
       "0   60310      3S\n",
       "1   95570  AJ네트웍스\n",
       "2    6840   AK홀딩스\n",
       "3   54620  APS홀딩스\n",
       "4  265520   AP시스템"
      ]
     },
     "execution_count": 49,
     "metadata": {},
     "output_type": "execute_result"
    }
   ],
   "source": [
    "company_list = pd.concat([kospi[['종목코드', '기업명']], kosdaq[['종목코드', '기업명']]], axis=0)\n",
    "company_list = company_list.sort_values('기업명').reset_index().drop(columns='번호')\n",
    "company_list.head(5)"
   ]
  },
  {
   "cell_type": "code",
   "execution_count": 50,
   "metadata": {},
   "outputs": [],
   "source": [
    "def delete_one_letter(x: str):\n",
    "\n",
    "    # Delete one letter\n",
    "    temp = list(filter(lambda i: (len(i)>1), x))\n",
    "    x = temp\n",
    "    \n",
    "    return x"
   ]
  },
  {
   "cell_type": "code",
   "execution_count": 52,
   "metadata": {},
   "outputs": [],
   "source": [
    "# Extract theme from title\n",
    "def extract_theme(x: list):\n",
    "    \n",
    "    theme_words = ['테마', '테마주', '관련', '관련주']\n",
    "    result = None\n",
    "    for i in range(len(x)):\n",
    "        # Handle with XX 테마주\n",
    "        if x[i] in theme_words:\n",
    "            result = x[i-1]\n",
    "        # Handle with XX테마주\n",
    "        elif any(theme_word in x[i] for theme_word in theme_words):\n",
    "            for theme_word in theme_words:\n",
    "                if theme_word in x[i]:\n",
    "                     result = re.sub(theme_word, '', x[i])\n",
    "    \n",
    "    return result"
   ]
  },
  {
   "cell_type": "code",
   "execution_count": 53,
   "metadata": {},
   "outputs": [],
   "source": [
    "# Extract comapny name from contents\n",
    "def extract_company(x: list):\n",
    "    \n",
    "    result = []\n",
    "    [result.append(i) for i in x if i in(list(company_list['기업명']))]\n",
    "    return result"
   ]
  },
  {
   "cell_type": "code",
   "execution_count": 54,
   "metadata": {},
   "outputs": [
    {
     "name": "stdout",
     "output_type": "stream",
     "text": [
      "328.405419초 걸렸습니다.\n"
     ]
    }
   ],
   "source": [
    "start_time = timeit.default_timer()\n",
    "\n",
    "df['title'] = df['title'].apply(lambda x: re.sub('[^a-zA-Z0-9ㄱ-ㅎㅏ-ㅣ가-힣\\s]', ' ', x))\n",
    "df['contents'] = df['contents'].apply(lambda x: re.sub('[^a-zA-Z0-9ㄱ-ㅎㅏ-ㅣ가-힣\\s]', ' ', x))\n",
    "\n",
    "# Extract only nouns and split\n",
    "df['title'] = df['title'].apply(lambda x: okt.nouns(x))\n",
    "df['contents'] = df['contents'].apply(lambda x: x.split())\n",
    "\n",
    "# Delete one letter\n",
    "df['title'] = df['title'].apply(delete_one_letter)\n",
    "df['contents'] = df['contents'].apply(delete_one_letter)\n",
    "\n",
    "# Extract theme and company\n",
    "df['title'] = df['title'].apply(extract_theme)\n",
    "df['contents'] = df['contents'].apply(extract_company)\n",
    "\n",
    "terminate_time = timeit.default_timer()\n",
    "print(\"%f초 걸렸습니다.\" % (terminate_time - start_time))"
   ]
  },
  {
   "cell_type": "code",
   "execution_count": 60,
   "metadata": {},
   "outputs": [],
   "source": [
    "# Drop empty rows\n",
    "drop_index = []\n",
    "for i in range(len(df)):\n",
    "    if (df['title'][i] == None) or (df['contents'][i] == []):\n",
    "        drop_index.append(i)\n",
    "\n",
    "df.drop(index=drop_index, inplace=True)\n",
    "df.reset_index(inplace=True, drop=True)"
   ]
  },
  {
   "cell_type": "code",
   "execution_count": 63,
   "metadata": {},
   "outputs": [
    {
     "name": "stderr",
     "output_type": "stream",
     "text": [
      "100%|██████████| 27321/27321 [00:02<00:00, 13429.29it/s]\n"
     ]
    }
   ],
   "source": [
    "dic = {}\n",
    "for i in tqdm(range(len(df))):\n",
    "    if df.title[i] not in dic.keys():\n",
    "        dic[df.title[i]] = df.contents[i]\n",
    "    elif df.title[i] in dic.keys():\n",
    "        dic[df.title[i]] += df.contents[i]\n",
    "        \n",
    "for i in (range(len(df))):\n",
    "    dic[df.title[i]] = list(set(dic[df.title[i]]))"
   ]
  },
  {
   "cell_type": "code",
   "execution_count": 72,
   "metadata": {},
   "outputs": [],
   "source": [
    "df_final = pd.DataFrame(dic.items(), columns=['theme', 'company'])"
   ]
  },
  {
   "cell_type": "code",
   "execution_count": 74,
   "metadata": {},
   "outputs": [
    {
     "data": {
      "text/html": [
       "<div>\n",
       "<style scoped>\n",
       "    .dataframe tbody tr th:only-of-type {\n",
       "        vertical-align: middle;\n",
       "    }\n",
       "\n",
       "    .dataframe tbody tr th {\n",
       "        vertical-align: top;\n",
       "    }\n",
       "\n",
       "    .dataframe thead th {\n",
       "        text-align: right;\n",
       "    }\n",
       "</style>\n",
       "<table border=\"1\" class=\"dataframe\">\n",
       "  <thead>\n",
       "    <tr style=\"text-align: right;\">\n",
       "      <th></th>\n",
       "      <th>theme</th>\n",
       "      <th>company</th>\n",
       "    </tr>\n",
       "  </thead>\n",
       "  <tbody>\n",
       "    <tr>\n",
       "      <th>0</th>\n",
       "      <td>윤석열</td>\n",
       "      <td>[서연, 안랩, 노루페인트, 오공, 웰크론, 케이엠, 화천기계, 모베이스전자, 모베...</td>\n",
       "    </tr>\n",
       "    <tr>\n",
       "      <th>1</th>\n",
       "      <td>방탄소년단</td>\n",
       "      <td>[엘비세미콘, 키이스트, 초록뱀, 디피씨, 손오공, 드림어스컴퍼니, 경남제약, 남성...</td>\n",
       "    </tr>\n",
       "    <tr>\n",
       "      <th>2</th>\n",
       "      <td>국내</td>\n",
       "      <td>[에스퓨얼셀, 포스코케미칼, 일진머티리얼즈, 국제약품, 두산퓨얼셀, 웰크론, 우리기...</td>\n",
       "    </tr>\n",
       "    <tr>\n",
       "      <th>3</th>\n",
       "      <td>애국</td>\n",
       "      <td>[경인양행, 한화, 후성, SK하이닉스, 제이에스티나, 대신증권, 토니모리, 남영비...</td>\n",
       "    </tr>\n",
       "    <tr>\n",
       "      <th>4</th>\n",
       "      <td>보톡스</td>\n",
       "      <td>[대웅제약, 휴온스글로벌, 제테마, 메디톡스, 휴젤]</td>\n",
       "    </tr>\n",
       "    <tr>\n",
       "      <th>...</th>\n",
       "      <td>...</td>\n",
       "      <td>...</td>\n",
       "    </tr>\n",
       "    <tr>\n",
       "      <th>721</th>\n",
       "      <td>약주</td>\n",
       "      <td>[녹십자, 유한양행, 대한뉴팜, 한미약품, 삼성바이오로직스]</td>\n",
       "    </tr>\n",
       "    <tr>\n",
       "      <th>722</th>\n",
       "      <td>본격</td>\n",
       "      <td>[아시아나항공]</td>\n",
       "    </tr>\n",
       "    <tr>\n",
       "      <th>723</th>\n",
       "      <td>에어부산</td>\n",
       "      <td>[아시아나IDT]</td>\n",
       "    </tr>\n",
       "    <tr>\n",
       "      <th>724</th>\n",
       "      <td>중동</td>\n",
       "      <td>[현대자동차]</td>\n",
       "    </tr>\n",
       "    <tr>\n",
       "      <th>725</th>\n",
       "      <td>디톡스</td>\n",
       "      <td>[메디톡스]</td>\n",
       "    </tr>\n",
       "  </tbody>\n",
       "</table>\n",
       "<p>726 rows × 2 columns</p>\n",
       "</div>"
      ],
      "text/plain": [
       "     theme                                            company\n",
       "0      윤석열  [서연, 안랩, 노루페인트, 오공, 웰크론, 케이엠, 화천기계, 모베이스전자, 모베...\n",
       "1    방탄소년단  [엘비세미콘, 키이스트, 초록뱀, 디피씨, 손오공, 드림어스컴퍼니, 경남제약, 남성...\n",
       "2       국내  [에스퓨얼셀, 포스코케미칼, 일진머티리얼즈, 국제약품, 두산퓨얼셀, 웰크론, 우리기...\n",
       "3       애국  [경인양행, 한화, 후성, SK하이닉스, 제이에스티나, 대신증권, 토니모리, 남영비...\n",
       "4      보톡스                      [대웅제약, 휴온스글로벌, 제테마, 메디톡스, 휴젤]\n",
       "..     ...                                                ...\n",
       "721     약주                  [녹십자, 유한양행, 대한뉴팜, 한미약품, 삼성바이오로직스]\n",
       "722     본격                                           [아시아나항공]\n",
       "723   에어부산                                          [아시아나IDT]\n",
       "724     중동                                            [현대자동차]\n",
       "725    디톡스                                             [메디톡스]\n",
       "\n",
       "[726 rows x 2 columns]"
      ]
     },
     "execution_count": 74,
     "metadata": {},
     "output_type": "execute_result"
    }
   ],
   "source": [
    "df_final"
   ]
  },
  {
   "cell_type": "code",
   "execution_count": 75,
   "metadata": {},
   "outputs": [],
   "source": [
    "df.to_csv(\"../Data/data_for_use_v2.csv\")"
   ]
  }
 ],
 "metadata": {
  "kernelspec": {
   "display_name": "Python 3",
   "language": "python",
   "name": "python3"
  },
  "language_info": {
   "codemirror_mode": {
    "name": "ipython",
    "version": 3
   },
   "file_extension": ".py",
   "mimetype": "text/x-python",
   "name": "python",
   "nbconvert_exporter": "python",
   "pygments_lexer": "ipython3",
   "version": "3.7.4"
  }
 },
 "nbformat": 4,
 "nbformat_minor": 4
}
