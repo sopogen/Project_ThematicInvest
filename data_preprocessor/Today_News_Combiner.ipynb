{
 "cells": [
  {
   "cell_type": "code",
   "execution_count": 1,
   "metadata": {},
   "outputs": [],
   "source": [
    "import pandas as pd\n",
    "import re\n",
    "from datetime import datetime, date, timedelta"
   ]
  },
  {
   "cell_type": "code",
   "execution_count": 78,
   "metadata": {},
   "outputs": [
    {
     "data": {
      "text/plain": [
       "'20200629'"
      ]
     },
     "execution_count": 78,
     "metadata": {},
     "output_type": "execute_result"
    }
   ],
   "source": [
    "#어제날짜\n",
    "yesterday = date.today() - timedelta(1)\n",
    "yesterday = yesterday.strftime(\"%Y%m%d%H%M%S\")[0:8]\n",
    "yesterday"
   ]
  },
  {
   "cell_type": "code",
   "execution_count": 7,
   "metadata": {},
   "outputs": [],
   "source": [
    "#수동설정\n",
    "yesterday = '20200624'"
   ]
  },
  {
   "cell_type": "code",
   "execution_count": 8,
   "metadata": {},
   "outputs": [],
   "source": [
    "section = ['IT과학','경제','사회','생활문화','세계','정치']"
   ]
  },
  {
   "cell_type": "code",
   "execution_count": 9,
   "metadata": {},
   "outputs": [
    {
     "data": {
      "text/html": [
       "<div>\n",
       "<style scoped>\n",
       "    .dataframe tbody tr th:only-of-type {\n",
       "        vertical-align: middle;\n",
       "    }\n",
       "\n",
       "    .dataframe tbody tr th {\n",
       "        vertical-align: top;\n",
       "    }\n",
       "\n",
       "    .dataframe thead th {\n",
       "        text-align: right;\n",
       "    }\n",
       "</style>\n",
       "<table border=\"1\" class=\"dataframe\">\n",
       "  <thead>\n",
       "    <tr style=\"text-align: right;\">\n",
       "      <th></th>\n",
       "      <th>news</th>\n",
       "    </tr>\n",
       "  </thead>\n",
       "  <tbody>\n",
       "    <tr>\n",
       "      <td>0</td>\n",
       "      <td>대만에서 넥스트 에이서 행사 진행 서울 뉴시스 고은결 기자 에이서는 지난 23일 대...</td>\n",
       "    </tr>\n",
       "    <tr>\n",
       "      <td>1</td>\n",
       "      <td>장애 원인 노후화된 메인 데이터베이스 스토리 스위치 정상화된 홈앤쇼핑 애플리케이션 ...</td>\n",
       "    </tr>\n",
       "    <tr>\n",
       "      <td>2</td>\n",
       "      <td>존슨앤드존슨 제약부문 법인 얀센은 23일자로 스프라바토 나잘스프레이를 허가 받았다고...</td>\n",
       "    </tr>\n",
       "    <tr>\n",
       "      <td>3</td>\n",
       "      <td>알테오젠 4.7조 기술수출 작년 1.6조 이어 두번째 신약후보물질 수출과 달라 박순...</td>\n",
       "    </tr>\n",
       "    <tr>\n",
       "      <td>4</td>\n",
       "      <td>차량 주차 시 고임목 설치 모습. 매일신문DB 25일부터 일명 하준이법 주차장법 개...</td>\n",
       "    </tr>\n",
       "    <tr>\n",
       "      <td>...</td>\n",
       "      <td>...</td>\n",
       "    </tr>\n",
       "    <tr>\n",
       "      <td>23661</td>\n",
       "      <td>“한명숙 2심 공판중심주의 후퇴” 조 처장 “개별사건 답변 힘들어” 윤석열 총장 출...</td>\n",
       "    </tr>\n",
       "    <tr>\n",
       "      <td>23662</td>\n",
       "      <td>앵커 6·25 전쟁 70주년을 맞았지만 아직도 집으로 돌아오지 국군 전사자가 많습니...</td>\n",
       "    </tr>\n",
       "    <tr>\n",
       "      <td>23663</td>\n",
       "      <td>존 볼턴 전 백악관 국가안보보좌관이 회고록을 통해 도널드 트럼프 미국 대통령뿐만 아...</td>\n",
       "    </tr>\n",
       "    <tr>\n",
       "      <td>23664</td>\n",
       "      <td>23일 김태년 민주당 원내대표와 주호영 왼쪽 통합당 원내대표가 8일 만에 회동했지만...</td>\n",
       "    </tr>\n",
       "    <tr>\n",
       "      <td>23665</td>\n",
       "      <td>호남 이낙연과의 대결 의식한 영남 김부겸 민주당은 정책·비전으로 말해 출신 지역 나...</td>\n",
       "    </tr>\n",
       "  </tbody>\n",
       "</table>\n",
       "<p>23666 rows × 1 columns</p>\n",
       "</div>"
      ],
      "text/plain": [
       "                                                    news\n",
       "0      대만에서 넥스트 에이서 행사 진행 서울 뉴시스 고은결 기자 에이서는 지난 23일 대...\n",
       "1      장애 원인 노후화된 메인 데이터베이스 스토리 스위치 정상화된 홈앤쇼핑 애플리케이션 ...\n",
       "2      존슨앤드존슨 제약부문 법인 얀센은 23일자로 스프라바토 나잘스프레이를 허가 받았다고...\n",
       "3      알테오젠 4.7조 기술수출 작년 1.6조 이어 두번째 신약후보물질 수출과 달라 박순...\n",
       "4      차량 주차 시 고임목 설치 모습. 매일신문DB 25일부터 일명 하준이법 주차장법 개...\n",
       "...                                                  ...\n",
       "23661  “한명숙 2심 공판중심주의 후퇴” 조 처장 “개별사건 답변 힘들어” 윤석열 총장 출...\n",
       "23662  앵커 6·25 전쟁 70주년을 맞았지만 아직도 집으로 돌아오지 국군 전사자가 많습니...\n",
       "23663  존 볼턴 전 백악관 국가안보보좌관이 회고록을 통해 도널드 트럼프 미국 대통령뿐만 아...\n",
       "23664  23일 김태년 민주당 원내대표와 주호영 왼쪽 통합당 원내대표가 8일 만에 회동했지만...\n",
       "23665  호남 이낙연과의 대결 의식한 영남 김부겸 민주당은 정책·비전으로 말해 출신 지역 나...\n",
       "\n",
       "[23666 rows x 1 columns]"
      ]
     },
     "execution_count": 9,
     "metadata": {},
     "output_type": "execute_result"
    }
   ],
   "source": [
    "#데이터 합치기\n",
    "for i in range(len(section)):\n",
    "    if i == 0:\n",
    "        df = pd.read_csv(\"../Data/today_news_data/{}_{}.csv\".format(section[i],yesterday),\n",
    "                         header=None, names = ['news'], engine='python')\n",
    "    else:\n",
    "        new_df = pd.read_csv(\"../Data/today_news_data/{}_{}.csv\".format(section[i],yesterday),\n",
    "                         header=None, names = ['news'], engine='python')\n",
    "        df = pd.concat([df, new_df])\n",
    "\n",
    "df = df.reset_index(drop=True)\n",
    "df"
   ]
  },
  {
   "cell_type": "code",
   "execution_count": 10,
   "metadata": {},
   "outputs": [
    {
     "data": {
      "text/html": [
       "<div>\n",
       "<style scoped>\n",
       "    .dataframe tbody tr th:only-of-type {\n",
       "        vertical-align: middle;\n",
       "    }\n",
       "\n",
       "    .dataframe tbody tr th {\n",
       "        vertical-align: top;\n",
       "    }\n",
       "\n",
       "    .dataframe thead th {\n",
       "        text-align: right;\n",
       "    }\n",
       "</style>\n",
       "<table border=\"1\" class=\"dataframe\">\n",
       "  <thead>\n",
       "    <tr style=\"text-align: right;\">\n",
       "      <th></th>\n",
       "      <th>news</th>\n",
       "    </tr>\n",
       "  </thead>\n",
       "  <tbody>\n",
       "    <tr>\n",
       "      <td>0</td>\n",
       "      <td>대만에서 넥스트 에이서 행사 진행 서울 뉴시스 고은결 기자 에이서는 지난 23일 대...</td>\n",
       "    </tr>\n",
       "    <tr>\n",
       "      <td>1</td>\n",
       "      <td>장애 원인 노후화된 메인 데이터베이스 스토리 스위치 정상화된 홈앤쇼핑 애플리케이션 ...</td>\n",
       "    </tr>\n",
       "    <tr>\n",
       "      <td>2</td>\n",
       "      <td>존슨앤드존슨 제약부문 법인 얀센은 23일자로 스프라바토 나잘스프레이를 허가 받았다고...</td>\n",
       "    </tr>\n",
       "    <tr>\n",
       "      <td>3</td>\n",
       "      <td>알테오젠 4.7조 기술수출 작년 1.6조 이어 두번째 신약후보물질 수출과 달라 박순...</td>\n",
       "    </tr>\n",
       "    <tr>\n",
       "      <td>4</td>\n",
       "      <td>차량 주차 시 고임목 설치 모습. 매일신문DB 25일부터 일명 하준이법 주차장법 개...</td>\n",
       "    </tr>\n",
       "    <tr>\n",
       "      <td>...</td>\n",
       "      <td>...</td>\n",
       "    </tr>\n",
       "    <tr>\n",
       "      <td>21665</td>\n",
       "      <td>“한명숙 2심 공판중심주의 후퇴” 조 처장 “개별사건 답변 힘들어” 윤석열 총장 출...</td>\n",
       "    </tr>\n",
       "    <tr>\n",
       "      <td>21666</td>\n",
       "      <td>앵커 6·25 전쟁 70주년을 맞았지만 아직도 집으로 돌아오지 국군 전사자가 많습니...</td>\n",
       "    </tr>\n",
       "    <tr>\n",
       "      <td>21667</td>\n",
       "      <td>존 볼턴 전 백악관 국가안보보좌관이 회고록을 통해 도널드 트럼프 미국 대통령뿐만 아...</td>\n",
       "    </tr>\n",
       "    <tr>\n",
       "      <td>21668</td>\n",
       "      <td>23일 김태년 민주당 원내대표와 주호영 왼쪽 통합당 원내대표가 8일 만에 회동했지만...</td>\n",
       "    </tr>\n",
       "    <tr>\n",
       "      <td>21669</td>\n",
       "      <td>호남 이낙연과의 대결 의식한 영남 김부겸 민주당은 정책·비전으로 말해 출신 지역 나...</td>\n",
       "    </tr>\n",
       "  </tbody>\n",
       "</table>\n",
       "<p>21670 rows × 1 columns</p>\n",
       "</div>"
      ],
      "text/plain": [
       "                                                    news\n",
       "0      대만에서 넥스트 에이서 행사 진행 서울 뉴시스 고은결 기자 에이서는 지난 23일 대...\n",
       "1      장애 원인 노후화된 메인 데이터베이스 스토리 스위치 정상화된 홈앤쇼핑 애플리케이션 ...\n",
       "2      존슨앤드존슨 제약부문 법인 얀센은 23일자로 스프라바토 나잘스프레이를 허가 받았다고...\n",
       "3      알테오젠 4.7조 기술수출 작년 1.6조 이어 두번째 신약후보물질 수출과 달라 박순...\n",
       "4      차량 주차 시 고임목 설치 모습. 매일신문DB 25일부터 일명 하준이법 주차장법 개...\n",
       "...                                                  ...\n",
       "21665  “한명숙 2심 공판중심주의 후퇴” 조 처장 “개별사건 답변 힘들어” 윤석열 총장 출...\n",
       "21666  앵커 6·25 전쟁 70주년을 맞았지만 아직도 집으로 돌아오지 국군 전사자가 많습니...\n",
       "21667  존 볼턴 전 백악관 국가안보보좌관이 회고록을 통해 도널드 트럼프 미국 대통령뿐만 아...\n",
       "21668  23일 김태년 민주당 원내대표와 주호영 왼쪽 통합당 원내대표가 8일 만에 회동했지만...\n",
       "21669  호남 이낙연과의 대결 의식한 영남 김부겸 민주당은 정책·비전으로 말해 출신 지역 나...\n",
       "\n",
       "[21670 rows x 1 columns]"
      ]
     },
     "execution_count": 10,
     "metadata": {},
     "output_type": "execute_result"
    }
   ],
   "source": [
    "#길이 수정\n",
    "for i in range(len(df)):\n",
    "    if len(df['news'][i]) <= 100 :\n",
    "        df = df.drop(index=i)\n",
    "\n",
    "df = df.reset_index(drop=True)\n",
    "df"
   ]
  },
  {
   "cell_type": "code",
   "execution_count": 11,
   "metadata": {},
   "outputs": [],
   "source": [
    "df.to_csv(\"../Data/data_for_use/{}_news_data.csv\".format(yesterday))"
   ]
  },
  {
   "cell_type": "code",
   "execution_count": null,
   "metadata": {},
   "outputs": [],
   "source": [
    "    "
   ]
  }
 ],
 "metadata": {
  "kernelspec": {
   "display_name": "Python 3",
   "language": "python",
   "name": "python3"
  },
  "language_info": {
   "codemirror_mode": {
    "name": "ipython",
    "version": 3
   },
   "file_extension": ".py",
   "mimetype": "text/x-python",
   "name": "python",
   "nbconvert_exporter": "python",
   "pygments_lexer": "ipython3",
   "version": "3.7.4"
  }
 },
 "nbformat": 4,
 "nbformat_minor": 2
}
