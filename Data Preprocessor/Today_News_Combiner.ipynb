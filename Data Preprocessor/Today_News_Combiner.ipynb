{
 "cells": [
  {
   "cell_type": "code",
   "execution_count": 43,
   "metadata": {},
   "outputs": [],
   "source": [
    "import pandas as pd\n",
    "import re\n",
    "from datetime import datetime, date, timedelta"
   ]
  },
  {
   "cell_type": "code",
   "execution_count": 78,
   "metadata": {},
   "outputs": [
    {
     "data": {
      "text/plain": [
       "'20200629'"
      ]
     },
     "execution_count": 78,
     "metadata": {},
     "output_type": "execute_result"
    }
   ],
   "source": [
    "#어제날짜\n",
    "yesterday = date.today() - timedelta(1) - timedelta(1)\n",
    "yesterday = yesterday.strftime(\"%Y%m%d%H%M%S\")[0:8]\n",
    "yesterday"
   ]
  },
  {
   "cell_type": "code",
   "execution_count": 51,
   "metadata": {},
   "outputs": [
    {
     "data": {
      "text/plain": [
       "'경제'"
      ]
     },
     "execution_count": 51,
     "metadata": {},
     "output_type": "execute_result"
    }
   ],
   "source": [
    "section = ['IT과학','경제','사회','생활문화','세계','정치']"
   ]
  },
  {
   "cell_type": "code",
   "execution_count": 90,
   "metadata": {},
   "outputs": [
    {
     "data": {
      "text/html": [
       "<div>\n",
       "<style scoped>\n",
       "    .dataframe tbody tr th:only-of-type {\n",
       "        vertical-align: middle;\n",
       "    }\n",
       "\n",
       "    .dataframe tbody tr th {\n",
       "        vertical-align: top;\n",
       "    }\n",
       "\n",
       "    .dataframe thead th {\n",
       "        text-align: right;\n",
       "    }\n",
       "</style>\n",
       "<table border=\"1\" class=\"dataframe\">\n",
       "  <thead>\n",
       "    <tr style=\"text-align: right;\">\n",
       "      <th></th>\n",
       "      <th>news</th>\n",
       "    </tr>\n",
       "  </thead>\n",
       "  <tbody>\n",
       "    <tr>\n",
       "      <td>0</td>\n",
       "      <td>통신사 관계 없이 이용 가능 24개월 인수형 장기렌탈 서울 뉴시스 오동현 기자 KT...</td>\n",
       "    </tr>\n",
       "    <tr>\n",
       "      <td>1</td>\n",
       "      <td>20년 된 전자금융거래법 정비돼야 전자금융 모든 거래 총괄하게 되면 내년 비대면 상...</td>\n",
       "    </tr>\n",
       "    <tr>\n",
       "      <td>2</td>\n",
       "      <td>구내식당 모바일스루 서비스…7월 3곳 시범 적용 서울 뉴시스 오동현 기자 모바일 전...</td>\n",
       "    </tr>\n",
       "    <tr>\n",
       "      <td>3</td>\n",
       "      <td>소니가 프리미엄 디지털카메라로 분류한 RX100 제품군은 등장 초기에는 존재감이 분...</td>\n",
       "    </tr>\n",
       "    <tr>\n",
       "      <td>4</td>\n",
       "      <td>법원 행정처분 집행 정지 인용 지디넷코리아 손예술 기자 법원이 하나금융지주 함영주 ...</td>\n",
       "    </tr>\n",
       "    <tr>\n",
       "      <td>...</td>\n",
       "      <td>...</td>\n",
       "    </tr>\n",
       "    <tr>\n",
       "      <td>22228</td>\n",
       "      <td>SNS에 부동산정책 실패 강력 비판 “참모로부터 잘못된 신화 학습 큰일 진보 경제학...</td>\n",
       "    </tr>\n",
       "    <tr>\n",
       "      <td>22229</td>\n",
       "      <td>김선혁 교수 한국정치 혁신 촉구 인류 대 바이러스 절체절명 위기 정파간 갈등·대립 ...</td>\n",
       "    </tr>\n",
       "    <tr>\n",
       "      <td>22230</td>\n",
       "      <td>4·15 총선서 이미 SNS 유세 등장 합당 온라인투표 공천 화상면접도 돈·조직 기...</td>\n",
       "    </tr>\n",
       "    <tr>\n",
       "      <td>22231</td>\n",
       "      <td>여야 합의점 못 찾았지만 29일 오전 10시 다시 회동 법사위 절충안 마련 등 주목...</td>\n",
       "    </tr>\n",
       "    <tr>\n",
       "      <td>22232</td>\n",
       "      <td>전날 협상서 의견 접근…법사위원장 절충 가능성 손잡은 국회의장과 여야 원내대표 서울...</td>\n",
       "    </tr>\n",
       "  </tbody>\n",
       "</table>\n",
       "<p>22233 rows × 1 columns</p>\n",
       "</div>"
      ],
      "text/plain": [
       "                                                    news\n",
       "0      통신사 관계 없이 이용 가능 24개월 인수형 장기렌탈 서울 뉴시스 오동현 기자 KT...\n",
       "1      20년 된 전자금융거래법 정비돼야 전자금융 모든 거래 총괄하게 되면 내년 비대면 상...\n",
       "2      구내식당 모바일스루 서비스…7월 3곳 시범 적용 서울 뉴시스 오동현 기자 모바일 전...\n",
       "3      소니가 프리미엄 디지털카메라로 분류한 RX100 제품군은 등장 초기에는 존재감이 분...\n",
       "4      법원 행정처분 집행 정지 인용 지디넷코리아 손예술 기자 법원이 하나금융지주 함영주 ...\n",
       "...                                                  ...\n",
       "22228  SNS에 부동산정책 실패 강력 비판 “참모로부터 잘못된 신화 학습 큰일 진보 경제학...\n",
       "22229  김선혁 교수 한국정치 혁신 촉구 인류 대 바이러스 절체절명 위기 정파간 갈등·대립 ...\n",
       "22230  4·15 총선서 이미 SNS 유세 등장 합당 온라인투표 공천 화상면접도 돈·조직 기...\n",
       "22231  여야 합의점 못 찾았지만 29일 오전 10시 다시 회동 법사위 절충안 마련 등 주목...\n",
       "22232  전날 협상서 의견 접근…법사위원장 절충 가능성 손잡은 국회의장과 여야 원내대표 서울...\n",
       "\n",
       "[22233 rows x 1 columns]"
      ]
     },
     "execution_count": 90,
     "metadata": {},
     "output_type": "execute_result"
    }
   ],
   "source": [
    "#데이터 합치기\n",
    "for i in range(len(section)):\n",
    "    if i == 0:\n",
    "        df = pd.read_csv(\"../Data/today_news_data/{}_{}.csv\".format(section[i],yesterday),\n",
    "                         header=None, names = ['news'], engine='python')\n",
    "    else:\n",
    "        new_df = pd.read_csv(\"../Data/today_news_data/{}_{}.csv\".format(section[i],yesterday),\n",
    "                         header=None, names = ['news'], engine='python')\n",
    "        df = pd.concat([df, new_df])\n",
    "\n",
    "df = df.reset_index(drop=True)\n",
    "df"
   ]
  },
  {
   "cell_type": "code",
   "execution_count": 91,
   "metadata": {},
   "outputs": [
    {
     "data": {
      "text/html": [
       "<div>\n",
       "<style scoped>\n",
       "    .dataframe tbody tr th:only-of-type {\n",
       "        vertical-align: middle;\n",
       "    }\n",
       "\n",
       "    .dataframe tbody tr th {\n",
       "        vertical-align: top;\n",
       "    }\n",
       "\n",
       "    .dataframe thead th {\n",
       "        text-align: right;\n",
       "    }\n",
       "</style>\n",
       "<table border=\"1\" class=\"dataframe\">\n",
       "  <thead>\n",
       "    <tr style=\"text-align: right;\">\n",
       "      <th></th>\n",
       "      <th>news</th>\n",
       "    </tr>\n",
       "  </thead>\n",
       "  <tbody>\n",
       "    <tr>\n",
       "      <td>0</td>\n",
       "      <td>통신사 관계 없이 이용 가능 24개월 인수형 장기렌탈 서울 뉴시스 오동현 기자 KT...</td>\n",
       "    </tr>\n",
       "    <tr>\n",
       "      <td>1</td>\n",
       "      <td>20년 된 전자금융거래법 정비돼야 전자금융 모든 거래 총괄하게 되면 내년 비대면 상...</td>\n",
       "    </tr>\n",
       "    <tr>\n",
       "      <td>2</td>\n",
       "      <td>구내식당 모바일스루 서비스…7월 3곳 시범 적용 서울 뉴시스 오동현 기자 모바일 전...</td>\n",
       "    </tr>\n",
       "    <tr>\n",
       "      <td>3</td>\n",
       "      <td>소니가 프리미엄 디지털카메라로 분류한 RX100 제품군은 등장 초기에는 존재감이 분...</td>\n",
       "    </tr>\n",
       "    <tr>\n",
       "      <td>4</td>\n",
       "      <td>법원 행정처분 집행 정지 인용 지디넷코리아 손예술 기자 법원이 하나금융지주 함영주 ...</td>\n",
       "    </tr>\n",
       "    <tr>\n",
       "      <td>...</td>\n",
       "      <td>...</td>\n",
       "    </tr>\n",
       "    <tr>\n",
       "      <td>19938</td>\n",
       "      <td>SNS에 부동산정책 실패 강력 비판 “참모로부터 잘못된 신화 학습 큰일 진보 경제학...</td>\n",
       "    </tr>\n",
       "    <tr>\n",
       "      <td>19939</td>\n",
       "      <td>김선혁 교수 한국정치 혁신 촉구 인류 대 바이러스 절체절명 위기 정파간 갈등·대립 ...</td>\n",
       "    </tr>\n",
       "    <tr>\n",
       "      <td>19940</td>\n",
       "      <td>4·15 총선서 이미 SNS 유세 등장 합당 온라인투표 공천 화상면접도 돈·조직 기...</td>\n",
       "    </tr>\n",
       "    <tr>\n",
       "      <td>19941</td>\n",
       "      <td>여야 합의점 못 찾았지만 29일 오전 10시 다시 회동 법사위 절충안 마련 등 주목...</td>\n",
       "    </tr>\n",
       "    <tr>\n",
       "      <td>19942</td>\n",
       "      <td>전날 협상서 의견 접근…법사위원장 절충 가능성 손잡은 국회의장과 여야 원내대표 서울...</td>\n",
       "    </tr>\n",
       "  </tbody>\n",
       "</table>\n",
       "<p>19943 rows × 1 columns</p>\n",
       "</div>"
      ],
      "text/plain": [
       "                                                    news\n",
       "0      통신사 관계 없이 이용 가능 24개월 인수형 장기렌탈 서울 뉴시스 오동현 기자 KT...\n",
       "1      20년 된 전자금융거래법 정비돼야 전자금융 모든 거래 총괄하게 되면 내년 비대면 상...\n",
       "2      구내식당 모바일스루 서비스…7월 3곳 시범 적용 서울 뉴시스 오동현 기자 모바일 전...\n",
       "3      소니가 프리미엄 디지털카메라로 분류한 RX100 제품군은 등장 초기에는 존재감이 분...\n",
       "4      법원 행정처분 집행 정지 인용 지디넷코리아 손예술 기자 법원이 하나금융지주 함영주 ...\n",
       "...                                                  ...\n",
       "19938  SNS에 부동산정책 실패 강력 비판 “참모로부터 잘못된 신화 학습 큰일 진보 경제학...\n",
       "19939  김선혁 교수 한국정치 혁신 촉구 인류 대 바이러스 절체절명 위기 정파간 갈등·대립 ...\n",
       "19940  4·15 총선서 이미 SNS 유세 등장 합당 온라인투표 공천 화상면접도 돈·조직 기...\n",
       "19941  여야 합의점 못 찾았지만 29일 오전 10시 다시 회동 법사위 절충안 마련 등 주목...\n",
       "19942  전날 협상서 의견 접근…법사위원장 절충 가능성 손잡은 국회의장과 여야 원내대표 서울...\n",
       "\n",
       "[19943 rows x 1 columns]"
      ]
     },
     "execution_count": 91,
     "metadata": {},
     "output_type": "execute_result"
    }
   ],
   "source": [
    "#길이 수정\n",
    "for i in range(len(df)):\n",
    "    if len(df['news'][i]) <= 100 :\n",
    "        df = df.drop(index=i)\n",
    "\n",
    "df = df.reset_index(drop=True)\n",
    "df"
   ]
  },
  {
   "cell_type": "code",
   "execution_count": 94,
   "metadata": {},
   "outputs": [],
   "source": [
    "df.to_csv(\"../Data/today_news_data/{}_news_data.csv\".format(yesterday))"
   ]
  },
  {
   "cell_type": "code",
   "execution_count": null,
   "metadata": {},
   "outputs": [],
   "source": [
    "    "
   ]
  }
 ],
 "metadata": {
  "kernelspec": {
   "display_name": "Python 3",
   "language": "python",
   "name": "python3"
  },
  "language_info": {
   "codemirror_mode": {
    "name": "ipython",
    "version": 3
   },
   "file_extension": ".py",
   "mimetype": "text/x-python",
   "name": "python",
   "nbconvert_exporter": "python",
   "pygments_lexer": "ipython3",
   "version": "3.7.4"
  }
 },
 "nbformat": 4,
 "nbformat_minor": 2
}
