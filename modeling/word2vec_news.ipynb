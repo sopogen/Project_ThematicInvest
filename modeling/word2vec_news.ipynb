{
 "cells": [
  {
   "cell_type": "code",
   "execution_count": 16,
   "metadata": {},
   "outputs": [],
   "source": [
    "import pandas as pd\n",
    "from tqdm import tqdm\n",
    "import numpy as np\n",
    "from konlpy.tag import Okt\n",
    "from gensim.models import Word2Vec\n",
    "from scipy.spatial import distance\n",
    "from konlpy.tag import Mecab"
   ]
  },
  {
   "cell_type": "markdown",
   "metadata": {},
   "source": [
    "## 전처리"
   ]
  },
  {
   "cell_type": "code",
   "execution_count": 25,
   "metadata": {},
   "outputs": [],
   "source": [
    "raw_df = pd.read_csv('/Users/jungyulyang/programming/Project_ThematicInvest/Data/data_for_use/theme_contents.csv',\n",
    "                     index_col=0, encoding = 'utf-8')\n",
    "raw_df.dropna(inplace=True)"
   ]
  },
  {
   "cell_type": "code",
   "execution_count": 26,
   "metadata": {},
   "outputs": [
    {
     "output_type": "execute_result",
     "data": {
      "text/plain": "      theme                                           contents\n0      2차전지   신종 코로나바이러스 감염증(코로나19) 사태로 인한 급락장에서 10대 그룹 시가총...\n1      2차전지  2차전지·디스플레이 공정 장비 전문기업 나인테크가 기업인수목적회사(SPAC·스팩) ...\n2      2차전지   2차전지·디스플레이 공정 장비 전문기업 나인테크가 교보7호스팩과 합병을 통한 코스...\n3      2차전지   '울산형 뉴딜사업' 추진 등 코로나19 이후 지역경제 살리기에 나선 울산에 반가운...\n4      2차전지   코스닥 2차 전지 소재 기업 에코프로비엠이 압도적 기술력을 바탕으로 가파른 성장 ...\n...     ...                                                ...\n33595   희토류   희귀금속(희토류 등) 테마 주요 종목 등락률씽크풀 로보알고리즘 RASSI의 분석에...\n33596   희토류   희귀금속(희토류 등) 테마 주요 종목 등락률씽크풀 로보알고리즘 RASSI의 분석에...\n33597   희토류   희귀금속(희토류 등) 테마 주요 종목 등락률씽크풀 로보알고리즘 RASSI의 분석에...\n33598   희토류   희귀금속(희토류 등) 테마 주요 종목 등락률씽크풀 로보알고리즘 RASSI의 분석에...\n33599   희토류  11개 분야 전문가 100여 명이 머리 맞대 / 기후변화부터 기술 발전·국제 정세 ...\n\n[33600 rows x 2 columns]",
      "text/html": "<div>\n<style scoped>\n    .dataframe tbody tr th:only-of-type {\n        vertical-align: middle;\n    }\n\n    .dataframe tbody tr th {\n        vertical-align: top;\n    }\n\n    .dataframe thead th {\n        text-align: right;\n    }\n</style>\n<table border=\"1\" class=\"dataframe\">\n  <thead>\n    <tr style=\"text-align: right;\">\n      <th></th>\n      <th>theme</th>\n      <th>contents</th>\n    </tr>\n  </thead>\n  <tbody>\n    <tr>\n      <th>0</th>\n      <td>2차전지</td>\n      <td>신종 코로나바이러스 감염증(코로나19) 사태로 인한 급락장에서 10대 그룹 시가총...</td>\n    </tr>\n    <tr>\n      <th>1</th>\n      <td>2차전지</td>\n      <td>2차전지·디스플레이 공정 장비 전문기업 나인테크가 기업인수목적회사(SPAC·스팩) ...</td>\n    </tr>\n    <tr>\n      <th>2</th>\n      <td>2차전지</td>\n      <td>2차전지·디스플레이 공정 장비 전문기업 나인테크가 교보7호스팩과 합병을 통한 코스...</td>\n    </tr>\n    <tr>\n      <th>3</th>\n      <td>2차전지</td>\n      <td>'울산형 뉴딜사업' 추진 등 코로나19 이후 지역경제 살리기에 나선 울산에 반가운...</td>\n    </tr>\n    <tr>\n      <th>4</th>\n      <td>2차전지</td>\n      <td>코스닥 2차 전지 소재 기업 에코프로비엠이 압도적 기술력을 바탕으로 가파른 성장 ...</td>\n    </tr>\n    <tr>\n      <th>...</th>\n      <td>...</td>\n      <td>...</td>\n    </tr>\n    <tr>\n      <th>33595</th>\n      <td>희토류</td>\n      <td>희귀금속(희토류 등) 테마 주요 종목 등락률씽크풀 로보알고리즘 RASSI의 분석에...</td>\n    </tr>\n    <tr>\n      <th>33596</th>\n      <td>희토류</td>\n      <td>희귀금속(희토류 등) 테마 주요 종목 등락률씽크풀 로보알고리즘 RASSI의 분석에...</td>\n    </tr>\n    <tr>\n      <th>33597</th>\n      <td>희토류</td>\n      <td>희귀금속(희토류 등) 테마 주요 종목 등락률씽크풀 로보알고리즘 RASSI의 분석에...</td>\n    </tr>\n    <tr>\n      <th>33598</th>\n      <td>희토류</td>\n      <td>희귀금속(희토류 등) 테마 주요 종목 등락률씽크풀 로보알고리즘 RASSI의 분석에...</td>\n    </tr>\n    <tr>\n      <th>33599</th>\n      <td>희토류</td>\n      <td>11개 분야 전문가 100여 명이 머리 맞대 / 기후변화부터 기술 발전·국제 정세 ...</td>\n    </tr>\n  </tbody>\n</table>\n<p>33600 rows × 2 columns</p>\n</div>"
     },
     "metadata": {},
     "execution_count": 26
    }
   ],
   "source": [
    "raw_df"
   ]
  },
  {
   "cell_type": "code",
   "execution_count": 27,
   "metadata": {},
   "outputs": [
    {
     "output_type": "execute_result",
     "data": {
      "text/plain": "  theme                                           contents\n0  2차전지   신종 코로나바이러스 감염증코로나 사태로 인한 급락장에서 대 그룹 시가총액 반등을 ...\n1  2차전지  차전지디스플레이 공정 장비 전문기업 나인테크가 기업인수목적회사스팩 합병을 통해 코스...\n2  2차전지   차전지디스플레이 공정 장비 전문기업 나인테크가 교보호스팩과 합병을 통한 코스닥 상...\n3  2차전지   울산형 뉴딜사업 추진 등 코로나 이후 지역경제 살리기에 나선 울산에 반가운 소식이...\n4  2차전지   코스닥 차 전지 소재 기업 에코프로비엠이 압도적 기술력을 바탕으로 가파른 성장 추...",
      "text/html": "<div>\n<style scoped>\n    .dataframe tbody tr th:only-of-type {\n        vertical-align: middle;\n    }\n\n    .dataframe tbody tr th {\n        vertical-align: top;\n    }\n\n    .dataframe thead th {\n        text-align: right;\n    }\n</style>\n<table border=\"1\" class=\"dataframe\">\n  <thead>\n    <tr style=\"text-align: right;\">\n      <th></th>\n      <th>theme</th>\n      <th>contents</th>\n    </tr>\n  </thead>\n  <tbody>\n    <tr>\n      <th>0</th>\n      <td>2차전지</td>\n      <td>신종 코로나바이러스 감염증코로나 사태로 인한 급락장에서 대 그룹 시가총액 반등을 ...</td>\n    </tr>\n    <tr>\n      <th>1</th>\n      <td>2차전지</td>\n      <td>차전지디스플레이 공정 장비 전문기업 나인테크가 기업인수목적회사스팩 합병을 통해 코스...</td>\n    </tr>\n    <tr>\n      <th>2</th>\n      <td>2차전지</td>\n      <td>차전지디스플레이 공정 장비 전문기업 나인테크가 교보호스팩과 합병을 통한 코스닥 상...</td>\n    </tr>\n    <tr>\n      <th>3</th>\n      <td>2차전지</td>\n      <td>울산형 뉴딜사업 추진 등 코로나 이후 지역경제 살리기에 나선 울산에 반가운 소식이...</td>\n    </tr>\n    <tr>\n      <th>4</th>\n      <td>2차전지</td>\n      <td>코스닥 차 전지 소재 기업 에코프로비엠이 압도적 기술력을 바탕으로 가파른 성장 추...</td>\n    </tr>\n  </tbody>\n</table>\n</div>"
     },
     "metadata": {},
     "execution_count": 27
    }
   ],
   "source": [
    "raw_df = raw_df[['theme','contents']]\n",
    "raw_df['theme'] = raw_df['Article'].str.replace(\"[^ㄱ-ㅎㅏ-ㅣ가-힣 ]\",\"\")\n",
    "raw_df.head()"
   ]
  },
  {
   "cell_type": "code",
   "execution_count": 29,
   "metadata": {
    "tags": []
   },
   "outputs": [
    {
     "output_type": "stream",
     "name": "stderr",
     "text": "100%|██████████| 33600/33600 [01:14<00:00, 453.02it/s]\n"
    }
   ],
   "source": [
    "# tokenize data\n",
    "\n",
    "tokenizer = Mecab()\n",
    "\n",
    "raw_tokenized_data = []\n",
    "for content in tqdm(raw_df['contents']):\n",
    "    token = tokenizer.morphs(content)\n",
    "    stop_words = ['으로', '로도', '지만', '에서', '려는', '하다']\n",
    "    for word in token:\n",
    "        if len(word) == 1:\n",
    "            stop_words.append(word)\n",
    "    final_tokens = [word for word in token if word not in stop_words]\n",
    "    raw_tokenized_data.append(final_tokens)"
   ]
  },
  {
   "cell_type": "code",
   "execution_count": 30,
   "metadata": {},
   "outputs": [],
   "source": [
    "# make train_data\n",
    "\n",
    "train_data = raw_df.copy()\n",
    "train_data['tokens'] = pd.Series(raw_tokenized_data)"
   ]
  },
  {
   "cell_type": "code",
   "execution_count": 31,
   "metadata": {},
   "outputs": [
    {
     "output_type": "execute_result",
     "data": {
      "text/plain": "  theme                                           contents  \\\n0  2차전지   신종 코로나바이러스 감염증코로나 사태로 인한 급락장에서 대 그룹 시가총액 반등을 ...   \n1  2차전지  차전지디스플레이 공정 장비 전문기업 나인테크가 기업인수목적회사스팩 합병을 통해 코스...   \n2  2차전지   차전지디스플레이 공정 장비 전문기업 나인테크가 교보호스팩과 합병을 통한 코스닥 상...   \n3  2차전지   울산형 뉴딜사업 추진 등 코로나 이후 지역경제 살리기에 나선 울산에 반가운 소식이...   \n4  2차전지   코스닥 차 전지 소재 기업 에코프로비엠이 압도적 기술력을 바탕으로 가파른 성장 추...   \n\n                                              tokens  \n0  [신종, 코로나, 바이러스, 감염증, 코로나, 사태, 인한, 급락, 그룹, 시가총액...  \n1  [전지, 디스플레이, 공정, 장비, 전문, 기업, 나인, 테크, 기업, 수목, 회사...  \n2  [전지, 디스플레이, 공정, 장비, 전문, 기업, 나인, 테크, 교보, 호스, 합병...  \n3  [울산, 뉴딜, 사업, 추진, 코로나, 이후, 지역, 경제, 살리, 나선, 울산, ...  \n4  [코스닥, 전지, 소재, 기업, 프로, 비엠, 압도, 기술력, 바탕, 가파른, 성장...  ",
      "text/html": "<div>\n<style scoped>\n    .dataframe tbody tr th:only-of-type {\n        vertical-align: middle;\n    }\n\n    .dataframe tbody tr th {\n        vertical-align: top;\n    }\n\n    .dataframe thead th {\n        text-align: right;\n    }\n</style>\n<table border=\"1\" class=\"dataframe\">\n  <thead>\n    <tr style=\"text-align: right;\">\n      <th></th>\n      <th>theme</th>\n      <th>contents</th>\n      <th>tokens</th>\n    </tr>\n  </thead>\n  <tbody>\n    <tr>\n      <th>0</th>\n      <td>2차전지</td>\n      <td>신종 코로나바이러스 감염증코로나 사태로 인한 급락장에서 대 그룹 시가총액 반등을 ...</td>\n      <td>[신종, 코로나, 바이러스, 감염증, 코로나, 사태, 인한, 급락, 그룹, 시가총액...</td>\n    </tr>\n    <tr>\n      <th>1</th>\n      <td>2차전지</td>\n      <td>차전지디스플레이 공정 장비 전문기업 나인테크가 기업인수목적회사스팩 합병을 통해 코스...</td>\n      <td>[전지, 디스플레이, 공정, 장비, 전문, 기업, 나인, 테크, 기업, 수목, 회사...</td>\n    </tr>\n    <tr>\n      <th>2</th>\n      <td>2차전지</td>\n      <td>차전지디스플레이 공정 장비 전문기업 나인테크가 교보호스팩과 합병을 통한 코스닥 상...</td>\n      <td>[전지, 디스플레이, 공정, 장비, 전문, 기업, 나인, 테크, 교보, 호스, 합병...</td>\n    </tr>\n    <tr>\n      <th>3</th>\n      <td>2차전지</td>\n      <td>울산형 뉴딜사업 추진 등 코로나 이후 지역경제 살리기에 나선 울산에 반가운 소식이...</td>\n      <td>[울산, 뉴딜, 사업, 추진, 코로나, 이후, 지역, 경제, 살리, 나선, 울산, ...</td>\n    </tr>\n    <tr>\n      <th>4</th>\n      <td>2차전지</td>\n      <td>코스닥 차 전지 소재 기업 에코프로비엠이 압도적 기술력을 바탕으로 가파른 성장 추...</td>\n      <td>[코스닥, 전지, 소재, 기업, 프로, 비엠, 압도, 기술력, 바탕, 가파른, 성장...</td>\n    </tr>\n  </tbody>\n</table>\n</div>"
     },
     "metadata": {},
     "execution_count": 31
    }
   ],
   "source": [
    "train_data.head()"
   ]
  },
  {
   "cell_type": "markdown",
   "metadata": {},
   "source": [
    "## Model Train"
   ]
  },
  {
   "cell_type": "code",
   "execution_count": 32,
   "metadata": {},
   "outputs": [],
   "source": [
    "news_tokens = train_data['tokens'].tolist()  # data input as list\n",
    "\n",
    "# params\n",
    "v_dimension = 300\n",
    "v_window = 8\n",
    "\n",
    "model = Word2Vec(sentences = news_tokens, size = v_dimension, window = v_window, min_count = 5, workers = 4, sg = 0)"
   ]
  },
  {
   "cell_type": "code",
   "execution_count": 33,
   "metadata": {},
   "outputs": [
    {
     "output_type": "execute_result",
     "data": {
      "text/plain": "(38967, 300)"
     },
     "metadata": {},
     "execution_count": 33
    }
   ],
   "source": [
    "model.wv.vectors.shape"
   ]
  },
  {
   "cell_type": "code",
   "execution_count": 34,
   "metadata": {
    "tags": []
   },
   "outputs": [
    {
     "output_type": "stream",
     "name": "stdout",
     "text": "[('애플', 0.743939995765686), ('아이패드', 0.7104508876800537), ('안드로이드', 0.6580507755279541), ('맥북', 0.6435776948928833), ('블랙베리', 0.6187098622322083), ('스냅드래곤', 0.6039987206459045), ('노치', 0.5979969501495361), ('버즈', 0.5701177716255188), ('갤럭시', 0.5671680569648743), ('화면', 0.5525581240653992)]\n"
    }
   ],
   "source": [
    "print(model.wv.most_similar(\"아이폰\"))"
   ]
  },
  {
   "cell_type": "code",
   "execution_count": 38,
   "metadata": {},
   "outputs": [],
   "source": [
    "# sentence vectors without normalization\n",
    "\n",
    "def without_normal(tokens):\n",
    "    vectors = []\n",
    "    for token in tokens:\n",
    "        init_v = np.array([0.0]*v_dimension)\n",
    "        for word in token:\n",
    "            word_vectors = model.wv\n",
    "            if word in word_vectors.vocab:\n",
    "                v = model.wv[word]\n",
    "                init_v = init_v + v\n",
    "        vectors.append(init_v)\n",
    "    \n",
    "    frame = { 'themes': train_data['theme'].tolist(), 'vectors': vectors }\n",
    "    result = pd.DataFrame(frame) \n",
    "    \n",
    "    return result"
   ]
  },
  {
   "cell_type": "code",
   "execution_count": 39,
   "metadata": {},
   "outputs": [],
   "source": [
    "# theme vectors without normalization\n",
    "\n",
    "def theme_without_normal(news_df):\n",
    "    theme_list = []\n",
    "    vector_list = []\n",
    "    for theme in news_df['themes'].unique():\n",
    "        temp_df = news_df.loc[news_df['themes'] == theme]\n",
    "        add_v = np.array([0.0]*v_dimension)\n",
    "        for vec in temp_df['vectors']:\n",
    "            add_v  = add_v + vec\n",
    "        theme_list.append(theme)\n",
    "        vector_list.append(add_v)\n",
    "        \n",
    "    frame = { 'themes': theme_list, 'vectors': vector_list }\n",
    "    result = pd.DataFrame(frame)\n",
    "    \n",
    "    return result"
   ]
  },
  {
   "cell_type": "code",
   "execution_count": 40,
   "metadata": {},
   "outputs": [],
   "source": [
    "news_vectors_df = without_normal(train_data['tokens'])"
   ]
  },
  {
   "cell_type": "code",
   "execution_count": 42,
   "metadata": {},
   "outputs": [
    {
     "output_type": "execute_result",
     "data": {
      "text/plain": "  themes                                            vectors\n0   2차전지  [32.52144870487973, -25.973187564406544, -6.49...\n1   2차전지  [27.493043491616845, -67.19967107940465, -47.6...\n2   2차전지  [29.5968237798661, -47.93156994599849, -39.006...\n3   2차전지  [-111.57007592823356, -112.60198955237865, 14....\n4   2차전지  [-7.244672171305865, -67.69402845273726, 67.65...",
      "text/html": "<div>\n<style scoped>\n    .dataframe tbody tr th:only-of-type {\n        vertical-align: middle;\n    }\n\n    .dataframe tbody tr th {\n        vertical-align: top;\n    }\n\n    .dataframe thead th {\n        text-align: right;\n    }\n</style>\n<table border=\"1\" class=\"dataframe\">\n  <thead>\n    <tr style=\"text-align: right;\">\n      <th></th>\n      <th>themes</th>\n      <th>vectors</th>\n    </tr>\n  </thead>\n  <tbody>\n    <tr>\n      <th>0</th>\n      <td>2차전지</td>\n      <td>[32.52144870487973, -25.973187564406544, -6.49...</td>\n    </tr>\n    <tr>\n      <th>1</th>\n      <td>2차전지</td>\n      <td>[27.493043491616845, -67.19967107940465, -47.6...</td>\n    </tr>\n    <tr>\n      <th>2</th>\n      <td>2차전지</td>\n      <td>[29.5968237798661, -47.93156994599849, -39.006...</td>\n    </tr>\n    <tr>\n      <th>3</th>\n      <td>2차전지</td>\n      <td>[-111.57007592823356, -112.60198955237865, 14....</td>\n    </tr>\n    <tr>\n      <th>4</th>\n      <td>2차전지</td>\n      <td>[-7.244672171305865, -67.69402845273726, 67.65...</td>\n    </tr>\n  </tbody>\n</table>\n</div>"
     },
     "metadata": {},
     "execution_count": 42
    }
   ],
   "source": [
    "news_vectors_df.head()"
   ]
  },
  {
   "cell_type": "code",
   "execution_count": 18,
   "metadata": {},
   "outputs": [],
   "source": [
    "theme_vectors_df = theme_without_normal(news_vectors_df)"
   ]
  },
  {
   "cell_type": "code",
   "execution_count": 41,
   "metadata": {},
   "outputs": [
    {
     "output_type": "error",
     "ename": "NameError",
     "evalue": "name 'theme_vectors_df' is not defined",
     "traceback": [
      "\u001b[0;31m---------------------------------------------------------------------------\u001b[0m",
      "\u001b[0;31mNameError\u001b[0m                                 Traceback (most recent call last)",
      "\u001b[0;32m<ipython-input-41-64e47e2f6fe2>\u001b[0m in \u001b[0;36m<module>\u001b[0;34m\u001b[0m\n\u001b[0;32m----> 1\u001b[0;31m \u001b[0mtheme_vectors_df\u001b[0m\u001b[0;34m.\u001b[0m\u001b[0mhead\u001b[0m\u001b[0;34m(\u001b[0m\u001b[0;34m)\u001b[0m\u001b[0;34m\u001b[0m\u001b[0;34m\u001b[0m\u001b[0m\n\u001b[0m",
      "\u001b[0;31mNameError\u001b[0m: name 'theme_vectors_df' is not defined"
     ]
    }
   ],
   "source": [
    "theme_vectors_df.head()"
   ]
  },
  {
   "cell_type": "code",
   "execution_count": 26,
   "metadata": {},
   "outputs": [],
   "source": [
    "theme_vectors_df.to_csv('theme_vectors_xnorm')"
   ]
  },
  {
   "cell_type": "markdown",
   "metadata": {},
   "source": [
    "## Test"
   ]
  },
  {
   "cell_type": "code",
   "execution_count": 20,
   "metadata": {},
   "outputs": [],
   "source": [
    "# news vectors without normalization\n",
    "\n",
    "def vectorize_without_normal(news):\n",
    "    news_words = news.replace(\"[^ㄱ-ㅎㅏ-ㅣ가-힣 ]\",\"\")\n",
    "    token = tokenizer.morphs(news)\n",
    "    stop_words = ['으로', '로도', '지만', '에서', '려는', '하다']\n",
    "    for word in token:\n",
    "        if len(word) == 1:\n",
    "            stop_words.append(word)\n",
    "    final_tokens = [word for word in token if word not in stop_words]\n",
    "    init_v = np.array([0.0]*v_dimension)\n",
    "    for word in final_tokens:\n",
    "        word_vectors = model.wv\n",
    "        if word in word_vectors.vocab:\n",
    "            v = model.wv[word]\n",
    "            init_v = init_v + v\n",
    "    return init_v"
   ]
  },
  {
   "cell_type": "code",
   "execution_count": 21,
   "metadata": {},
   "outputs": [],
   "source": [
    "# test\n",
    "\n",
    "def test(news):\n",
    "    news_vec = vectorize_without_normal(news)\n",
    "    result = []\n",
    "    for theme in theme_vectors_df['vectors']:\n",
    "        cosine = 1 - distance.cosine(theme, news_vec)\n",
    "        result.append(cosine)\n",
    "    new_df = pd.DataFrame(data=np.zeros([282,2]), columns=['Theme', 'Result'])\n",
    "    new_df['Theme'] = theme_vectors_df['themes']\n",
    "    new_df['Result'] = result\n",
    "\n",
    "    new_df.sort_values('Result', ascending=False, inplace=True)\n",
    "    return new_df\n",
    "    "
   ]
  },
  {
   "cell_type": "code",
   "execution_count": 22,
   "metadata": {},
   "outputs": [],
   "source": [
    "test_news = \"미국의 최대 새해맞이 행사죠, '뉴 이어스 로킹 이브'에 방탄소년단이 출연해 월드 스타로서의 면모를 과시했습니다. 지난해 빌보드 순위와 월드 투어에서 괄목할 만한 성장을 거둔 방탄소년단, 올해도 한류를 이끌 것으로 기대되고 있습니다. 김혜은 기자입니다. 방탄소년단, BTS는 미국 뉴욕의 심장인 타임스퀘어에서 새해를 맞았습니다. 미국의 최대 새해맞이 행사인 '뉴 이어스 로킹 이브'에 참가한 것입니다. 포스트 말론, 샘 헌트 등 세계적인 가수들과 어깨를 나란히 하며 미국 안방에 스며들었습니다. [리안나 제이콥슨 / BTS 팬 : BTS가 사랑받고 있다는 것, 그들이 놀랍고 재능 있고 매 순간 가치 있다는 것을 알려줘야 합니다.] BTS는 지난해 '빌보드 200' 1위와 아메리칸 뮤직 어워즈 3관왕 등 괄목할 기록을 낳았습니다. 한국 가수 최초로 전 세계 스타디움 투어도 성공적으로 마무리했습니다. 투어의 대미를 장식한 서울 공연에서만 사흘 동안 무려 1조 원에 육박하는 경제 효과를 낳은 것으로 집계됐습니다. 공연으로 18만 명 넘는 외국인이 우리나라를 방문했는데, 평창동계올림픽 당시 외국인 방문객의 67%에 해당하는 수치입니다. BTS의 올해 행보에 더욱 기대가 쏠리는 대목입니다. 지난달 공개한 티저 사진으로 올 초 예정된 새 앨범과 투어에 대한 기대감이 올라갔습니다. [지민 / 방탄소년단 멤버 (지난달 MAMA 시상식) : 여러분들이 기대하시는 것보다 훨씬 더 좋은 앨범으로 저희가 여러분들에게 나타날 수 있을 것 같아요.] BTS 이후 '빌보드200' 1위를 차지한 슈퍼엠, 미국 프로그램에 자주 등장하는 몬스타엑스와 NCT 127 등 K팝의 지형은 갈수록 확대되고 있습니다. [김헌식 / 대중문화평론가 : 음악의 유통구조 자체가 유튜브를 포함한 SNS를 중심으로 확산하고 있기 때문에 여기에서 계속 추이를 따라가는 수준이라면 10년 이상까지도 가능할 수 있다는 거죠.] 새로운 10년이 시작되는 2020년, BTS가 미국 심장부인 뉴욕에서 새해를 시작한 것도, 한류의 새로운 10년에 대한 상징으로도 해석되고 있습니다.\""
   ]
  },
  {
   "cell_type": "code",
   "execution_count": 23,
   "metadata": {},
   "outputs": [],
   "source": [
    "result = test(test_news)"
   ]
  },
  {
   "cell_type": "code",
   "execution_count": 24,
   "metadata": {},
   "outputs": [
    {
     "data": {
      "text/html": [
       "<div>\n",
       "<style scoped>\n",
       "    .dataframe tbody tr th:only-of-type {\n",
       "        vertical-align: middle;\n",
       "    }\n",
       "\n",
       "    .dataframe tbody tr th {\n",
       "        vertical-align: top;\n",
       "    }\n",
       "\n",
       "    .dataframe thead th {\n",
       "        text-align: right;\n",
       "    }\n",
       "</style>\n",
       "<table border=\"1\" class=\"dataframe\">\n",
       "  <thead>\n",
       "    <tr style=\"text-align: right;\">\n",
       "      <th></th>\n",
       "      <th>Theme</th>\n",
       "      <th>Result</th>\n",
       "    </tr>\n",
       "  </thead>\n",
       "  <tbody>\n",
       "    <tr>\n",
       "      <th>7</th>\n",
       "      <td>기생충</td>\n",
       "      <td>0.777822</td>\n",
       "    </tr>\n",
       "    <tr>\n",
       "      <th>83</th>\n",
       "      <td>영화</td>\n",
       "      <td>0.663112</td>\n",
       "    </tr>\n",
       "    <tr>\n",
       "      <th>0</th>\n",
       "      <td>방탄소년단</td>\n",
       "      <td>0.656203</td>\n",
       "    </tr>\n",
       "    <tr>\n",
       "      <th>257</th>\n",
       "      <td>아기상어</td>\n",
       "      <td>0.647218</td>\n",
       "    </tr>\n",
       "    <tr>\n",
       "      <th>118</th>\n",
       "      <td>광고</td>\n",
       "      <td>0.593024</td>\n",
       "    </tr>\n",
       "  </tbody>\n",
       "</table>\n",
       "</div>"
      ],
      "text/plain": [
       "     Theme    Result\n",
       "7      기생충  0.777822\n",
       "83      영화  0.663112\n",
       "0    방탄소년단  0.656203\n",
       "257   아기상어  0.647218\n",
       "118     광고  0.593024"
      ]
     },
     "execution_count": 24,
     "metadata": {},
     "output_type": "execute_result"
    }
   ],
   "source": [
    "result.head()"
   ]
  },
  {
   "cell_type": "code",
   "execution_count": null,
   "metadata": {},
   "outputs": [],
   "source": []
  }
 ],
 "metadata": {
  "kernelspec": {
   "display_name": "Python 3",
   "language": "python",
   "name": "python3"
  },
  "language_info": {
   "codemirror_mode": {
    "name": "ipython",
    "version": 3
   },
   "file_extension": ".py",
   "mimetype": "text/x-python",
   "name": "python",
   "nbconvert_exporter": "python",
   "pygments_lexer": "ipython3",
   "version": "3.8.2-final"
  }
 },
 "nbformat": 4,
 "nbformat_minor": 4
}